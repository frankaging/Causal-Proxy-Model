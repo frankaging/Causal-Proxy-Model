{
 "cells": [
  {
   "cell_type": "markdown",
   "metadata": {},
   "source": [
    "### Evaluating CPM with CEBaB\n",
    "Our Causal Proxy Model (CPM) is for providing concept-based explanation for a blackbox model. We use newly developed CEBaB benchmark for comparing CPM with other concept-based explanation methods. This notebook evaluates CPM with CEBaB benchmark under different settings.\n",
    "\n",
    "More importantly, we introduce new baselines for CPM as well. Formally, we evaluate the blackbox model with interchange intervention evaluation (which will be introduced in details below).\n",
    "\n",
    "In this notebook, we can evaluate the following models:\n",
    "- CPM: `BERT-base-uncased`\n",
    "- CPM: `RoBERTa-base`\n",
    "- CPM: `GPT2`\n",
    "- CPM: `LSTM+GloVe`\n",
    "- CPM: `Control`\n",
    "\n",
    "and we can evaluate with the following conditions:\n",
    "- 2-class\n",
    "- 3-class\n",
    "- 5-class\n",
    "\n",
    "and this script also support evaluates experiments with different control conditions:\n",
    "- `control=True`\n",
    "- `control=False`\n",
    "- `control=\"pretrain\"`\n",
    "- `control=\"random\"`\n",
    "- `control=\"finetune\"`\n",
    "- `control=\"fewshots\"` (supports BERT only)\n",
    "- `control=\"fewshots-augment\"` (supports BERT only)\n",
    "- `control=\"layer\"` (supports BERT only)"
   ]
  },
  {
   "cell_type": "markdown",
   "metadata": {},
   "source": [
    "#### Imports and Libs"
   ]
  },
  {
   "cell_type": "code",
   "execution_count": 1,
   "metadata": {},
   "outputs": [],
   "source": [
    "from libs import *\n",
    "from modelings.modelings_bert import *\n",
    "from modelings.modelings_roberta import *\n",
    "from modelings.modelings_gpt2 import *\n",
    "from modelings.modelings_lstm import *\n",
    "\"\"\"\n",
    "For evaluate, we use a single random seed, as\n",
    "the models are trained with 5 different seeds\n",
    "already.\n",
    "\"\"\"\n",
    "_ = random.seed(123)\n",
    "_ = np.random.seed(123)\n",
    "_ = torch.manual_seed(123)"
   ]
  },
  {
   "cell_type": "markdown",
   "metadata": {},
   "source": [
    "#### Main evaluate script"
   ]
  },
  {
   "cell_type": "code",
   "execution_count": 29,
   "metadata": {},
   "outputs": [],
   "source": [
    "\"\"\"\n",
    "The following blocks will run CEBaB benchmark in\n",
    "all the combinations of the following conditions.\n",
    "\"\"\"\n",
    "grid = {\n",
    "    \"seed\": [42],\n",
    "    \"h_dim\": [192], # 1, 4, 16, 32, 64, 128, 192\n",
    "    \"class_num\": [5],\n",
    "    \"control\": [\"fewshots-augment-large-epochs\"],\n",
    "    # True, False, pretrain, random, finetune, \n",
    "    # fewshots fewshots-augment fewshots-layer\n",
    "    # fewshots-hdim\n",
    "    # fewshots-augment-balance\n",
    "    # fewshots-augment-large-epochs\n",
    "    \"beta\" : [1.0],\n",
    "    \"gemma\" : [3.0],\n",
    "    \"cls_dropout\" : [0.1],\n",
    "    \"enc_dropout\" : [0.1],\n",
    "    \"model_arch\" : [\"bert-base-uncased\"],\n",
    "    \"true_cfc\" : [5, 50, 200, 600, 1200, 1755], \n",
    "    # only used for fewshots evaluations.\n",
    "    # 5, 50, 200, 600, 1200, 1755\n",
    "    \"interchange_layer\" : [12]\n",
    "}\n",
    "\n",
    "keys, values = zip(*grid.items())\n",
    "permutations_dicts = [dict(zip(keys, v)) for v in itertools.product(*values)]\n",
    "\n",
    "device = 'cuda:0'\n",
    "batch_size = 32"
   ]
  },
  {
   "cell_type": "code",
   "execution_count": 31,
   "metadata": {},
   "outputs": [
    {
     "name": "stdout",
     "output_type": "stream",
     "text": [
      "Running for this setting:  (('seed', 42), ('class_num', 5), ('beta', 1.0), ('gemma', 3.0), ('h_dim', 192), ('dataset_type', '5-way'), ('correction_epsilon', None), ('cls_dropout', 0.1), ('enc_dropout', 0.1), ('control', 'fewshots-augment-large-epochs'), ('model_arch', 'bert-base-uncased'), ('true_cfc', 5), ('interchange_layer', 12))\n"
     ]
    },
    {
     "name": "stderr",
     "output_type": "stream",
     "text": [
      "Using custom data configuration CEBaB--CEBaB-0e2f7ed67c9d7e55\n",
      "Reusing dataset parquet (../train_cache/CEBaB___parquet/CEBaB--CEBaB-0e2f7ed67c9d7e55/0.0.0/7328ef7ee03eaf3f86ae40594d46a1cec86161704e02dd19f232d81eee72ade8)\n"
     ]
    },
    {
     "data": {
      "application/vnd.jupyter.widget-view+json": {
       "model_id": "6d977bac91bd48578e3ddd7c6b550524",
       "version_major": 2,
       "version_minor": 0
      },
      "text/plain": [
       "  0%|          | 0/4 [00:00<?, ?it/s]"
      ]
     },
     "metadata": {},
     "output_type": "display_data"
    },
    {
     "name": "stdout",
     "output_type": "stream",
     "text": [
      "Dropping no majority reviews: 16.6382% of train dataset.\n",
      "intervention_h_dim=192\n"
     ]
    },
    {
     "name": "stderr",
     "output_type": "stream",
     "text": [
      "100%|██████████| 124/124 [00:24<00:00,  5.03it/s]\n"
     ]
    },
    {
     "name": "stdout",
     "output_type": "stream",
     "text": [
      "Running for this setting:  (('seed', 42), ('class_num', 5), ('beta', 1.0), ('gemma', 3.0), ('h_dim', 192), ('dataset_type', '5-way'), ('correction_epsilon', None), ('cls_dropout', 0.1), ('enc_dropout', 0.1), ('control', 'fewshots-augment-large-epochs'), ('model_arch', 'bert-base-uncased'), ('true_cfc', 50), ('interchange_layer', 12))\n"
     ]
    },
    {
     "name": "stderr",
     "output_type": "stream",
     "text": [
      "Using custom data configuration CEBaB--CEBaB-0e2f7ed67c9d7e55\n",
      "Reusing dataset parquet (../train_cache/CEBaB___parquet/CEBaB--CEBaB-0e2f7ed67c9d7e55/0.0.0/7328ef7ee03eaf3f86ae40594d46a1cec86161704e02dd19f232d81eee72ade8)\n"
     ]
    },
    {
     "data": {
      "application/vnd.jupyter.widget-view+json": {
       "model_id": "4f8836205b13474eb893aeed97fad0a4",
       "version_major": 2,
       "version_minor": 0
      },
      "text/plain": [
       "  0%|          | 0/4 [00:00<?, ?it/s]"
      ]
     },
     "metadata": {},
     "output_type": "display_data"
    },
    {
     "name": "stdout",
     "output_type": "stream",
     "text": [
      "Dropping no majority reviews: 16.6382% of train dataset.\n",
      "intervention_h_dim=192\n"
     ]
    },
    {
     "name": "stderr",
     "output_type": "stream",
     "text": [
      "100%|██████████| 124/124 [00:24<00:00,  4.98it/s]\n"
     ]
    },
    {
     "name": "stdout",
     "output_type": "stream",
     "text": [
      "Running for this setting:  (('seed', 42), ('class_num', 5), ('beta', 1.0), ('gemma', 3.0), ('h_dim', 192), ('dataset_type', '5-way'), ('correction_epsilon', None), ('cls_dropout', 0.1), ('enc_dropout', 0.1), ('control', 'fewshots-augment-large-epochs'), ('model_arch', 'bert-base-uncased'), ('true_cfc', 200), ('interchange_layer', 12))\n"
     ]
    },
    {
     "name": "stderr",
     "output_type": "stream",
     "text": [
      "Using custom data configuration CEBaB--CEBaB-0e2f7ed67c9d7e55\n",
      "Reusing dataset parquet (../train_cache/CEBaB___parquet/CEBaB--CEBaB-0e2f7ed67c9d7e55/0.0.0/7328ef7ee03eaf3f86ae40594d46a1cec86161704e02dd19f232d81eee72ade8)\n"
     ]
    },
    {
     "data": {
      "application/vnd.jupyter.widget-view+json": {
       "model_id": "495299da23bc48ef8a63122ba9245815",
       "version_major": 2,
       "version_minor": 0
      },
      "text/plain": [
       "  0%|          | 0/4 [00:00<?, ?it/s]"
      ]
     },
     "metadata": {},
     "output_type": "display_data"
    },
    {
     "name": "stdout",
     "output_type": "stream",
     "text": [
      "Dropping no majority reviews: 16.6382% of train dataset.\n",
      "intervention_h_dim=192\n"
     ]
    },
    {
     "name": "stderr",
     "output_type": "stream",
     "text": [
      "100%|██████████| 124/124 [00:24<00:00,  4.97it/s]\n"
     ]
    },
    {
     "name": "stdout",
     "output_type": "stream",
     "text": [
      "Running for this setting:  (('seed', 42), ('class_num', 5), ('beta', 1.0), ('gemma', 3.0), ('h_dim', 192), ('dataset_type', '5-way'), ('correction_epsilon', None), ('cls_dropout', 0.1), ('enc_dropout', 0.1), ('control', 'fewshots-augment-large-epochs'), ('model_arch', 'bert-base-uncased'), ('true_cfc', 600), ('interchange_layer', 12))\n"
     ]
    },
    {
     "name": "stderr",
     "output_type": "stream",
     "text": [
      "Using custom data configuration CEBaB--CEBaB-0e2f7ed67c9d7e55\n",
      "Reusing dataset parquet (../train_cache/CEBaB___parquet/CEBaB--CEBaB-0e2f7ed67c9d7e55/0.0.0/7328ef7ee03eaf3f86ae40594d46a1cec86161704e02dd19f232d81eee72ade8)\n"
     ]
    },
    {
     "data": {
      "application/vnd.jupyter.widget-view+json": {
       "model_id": "faec9b40bea74dafa16363566e0658b9",
       "version_major": 2,
       "version_minor": 0
      },
      "text/plain": [
       "  0%|          | 0/4 [00:00<?, ?it/s]"
      ]
     },
     "metadata": {},
     "output_type": "display_data"
    },
    {
     "name": "stdout",
     "output_type": "stream",
     "text": [
      "Dropping no majority reviews: 16.6382% of train dataset.\n",
      "intervention_h_dim=192\n"
     ]
    },
    {
     "name": "stderr",
     "output_type": "stream",
     "text": [
      "100%|██████████| 124/124 [00:24<00:00,  4.96it/s]\n"
     ]
    },
    {
     "name": "stdout",
     "output_type": "stream",
     "text": [
      "Running for this setting:  (('seed', 42), ('class_num', 5), ('beta', 1.0), ('gemma', 3.0), ('h_dim', 192), ('dataset_type', '5-way'), ('correction_epsilon', None), ('cls_dropout', 0.1), ('enc_dropout', 0.1), ('control', 'fewshots-augment-large-epochs'), ('model_arch', 'bert-base-uncased'), ('true_cfc', 1200), ('interchange_layer', 12))\n"
     ]
    },
    {
     "name": "stderr",
     "output_type": "stream",
     "text": [
      "Using custom data configuration CEBaB--CEBaB-0e2f7ed67c9d7e55\n",
      "Reusing dataset parquet (../train_cache/CEBaB___parquet/CEBaB--CEBaB-0e2f7ed67c9d7e55/0.0.0/7328ef7ee03eaf3f86ae40594d46a1cec86161704e02dd19f232d81eee72ade8)\n"
     ]
    },
    {
     "data": {
      "application/vnd.jupyter.widget-view+json": {
       "model_id": "d6fb2dc14aa947c3ac323e0d79933b80",
       "version_major": 2,
       "version_minor": 0
      },
      "text/plain": [
       "  0%|          | 0/4 [00:00<?, ?it/s]"
      ]
     },
     "metadata": {},
     "output_type": "display_data"
    },
    {
     "name": "stdout",
     "output_type": "stream",
     "text": [
      "Dropping no majority reviews: 16.6382% of train dataset.\n",
      "intervention_h_dim=192\n"
     ]
    },
    {
     "name": "stderr",
     "output_type": "stream",
     "text": [
      "100%|██████████| 124/124 [00:24<00:00,  4.96it/s]\n"
     ]
    },
    {
     "name": "stdout",
     "output_type": "stream",
     "text": [
      "Running for this setting:  (('seed', 42), ('class_num', 5), ('beta', 1.0), ('gemma', 3.0), ('h_dim', 192), ('dataset_type', '5-way'), ('correction_epsilon', None), ('cls_dropout', 0.1), ('enc_dropout', 0.1), ('control', 'fewshots-augment-large-epochs'), ('model_arch', 'bert-base-uncased'), ('true_cfc', 1755), ('interchange_layer', 12))\n"
     ]
    },
    {
     "name": "stderr",
     "output_type": "stream",
     "text": [
      "Using custom data configuration CEBaB--CEBaB-0e2f7ed67c9d7e55\n",
      "Reusing dataset parquet (../train_cache/CEBaB___parquet/CEBaB--CEBaB-0e2f7ed67c9d7e55/0.0.0/7328ef7ee03eaf3f86ae40594d46a1cec86161704e02dd19f232d81eee72ade8)\n"
     ]
    },
    {
     "data": {
      "application/vnd.jupyter.widget-view+json": {
       "model_id": "15d0b79efdc24cba82543cb0bbb5e1a9",
       "version_major": 2,
       "version_minor": 0
      },
      "text/plain": [
       "  0%|          | 0/4 [00:00<?, ?it/s]"
      ]
     },
     "metadata": {},
     "output_type": "display_data"
    },
    {
     "name": "stdout",
     "output_type": "stream",
     "text": [
      "Dropping no majority reviews: 16.6382% of train dataset.\n",
      "intervention_h_dim=192\n"
     ]
    },
    {
     "name": "stderr",
     "output_type": "stream",
     "text": [
      "100%|██████████| 124/124 [00:24<00:00,  4.96it/s]\n"
     ]
    }
   ],
   "source": [
    "results = {}\n",
    "for i in range(len(permutations_dicts)):\n",
    "    \n",
    "    seed=permutations_dicts[i][\"seed\"]\n",
    "    class_num=permutations_dicts[i][\"class_num\"]\n",
    "    beta=permutations_dicts[i][\"beta\"]\n",
    "    gemma=permutations_dicts[i][\"gemma\"]\n",
    "    h_dim=permutations_dicts[i][\"h_dim\"]\n",
    "    dataset_type = f'{class_num}-way'\n",
    "    correction_epsilon=None\n",
    "    cls_dropout=permutations_dicts[i][\"cls_dropout\"]\n",
    "    enc_dropout=permutations_dicts[i][\"enc_dropout\"]\n",
    "    control=permutations_dicts[i][\"control\"]\n",
    "    model_arch=permutations_dicts[i][\"model_arch\"]\n",
    "    true_cfc=permutations_dicts[i][\"true_cfc\"]\n",
    "    interchange_layer=permutations_dicts[i][\"interchange_layer\"]\n",
    "    \n",
    "    if model_arch == \"bert-base-uncased\":\n",
    "        model_path = \"BERT-results\" if control == False \\\n",
    "            else \"BERT-control-results\" if control == True \\\n",
    "            else f\"BERT-{control}-results\"\n",
    "        model_module = BERTForCEBaB\n",
    "        explainer_module = CausalProxyModelForBERT\n",
    "    elif model_arch == \"roberta-base\":\n",
    "        model_path = \"RoBERTa-results\" if control == False \\\n",
    "            else \"RoBERTa-control-results\" if control == True \\\n",
    "            else f\"RoBERTa-{control}-results\" \n",
    "        model_module = RoBERTaForCEBaB\n",
    "        explainer_module = CausalProxyModelForRoBERTa\n",
    "    elif model_arch == \"gpt2\":\n",
    "        model_path = \"gpt2-results\" if control == False \\\n",
    "            else \"gpt2-control-results\" if control == True \\\n",
    "            else f\"gpt2-{control}-results\"\n",
    "        model_module = GPT2ForCEBaB\n",
    "        explainer_module = CausalProxyModelForGPT2\n",
    "    elif model_arch == \"lstm\":\n",
    "        model_path = \"lstm-results\" if control == False \\\n",
    "            else \"lstm-control-results\" if control == True \\\n",
    "            else f\"lstm-{control}-results\"\n",
    "        model_module = LSTMForCEBaB\n",
    "        explainer_module = CausalProxyModelForLSTM\n",
    "        \n",
    "    grid_conditions=(\n",
    "        (\"seed\", seed),\n",
    "        (\"class_num\", class_num),\n",
    "        (\"beta\", beta),\n",
    "        (\"gemma\", gemma),\n",
    "        (\"h_dim\", h_dim),\n",
    "        (\"dataset_type\", dataset_type),\n",
    "        (\"correction_epsilon\", correction_epsilon),\n",
    "        (\"cls_dropout\", cls_dropout),\n",
    "        (\"enc_dropout\", enc_dropout),\n",
    "        (\"control\", control),\n",
    "        (\"model_arch\", model_arch),\n",
    "        (\"true_cfc\", true_cfc),\n",
    "        (\"interchange_layer\", interchange_layer)\n",
    "    )\n",
    "    print(\"Running for this setting: \", grid_conditions)\n",
    "\n",
    "    blackbox_model_path = f'CEBaB/{model_arch}.CEBaB.sa.{class_num}-class.exclusive.seed_{seed}'\n",
    "    if control == \"finetune\": # not for other control cases, e.g., random or pretrain\n",
    "        cpm_model_path = blackbox_model_path\n",
    "    else:\n",
    "        split_name = \"train\"\n",
    "        cpm_model_path = f'../proxy_training_results/{model_path}/'\\\n",
    "                           f'cebab.train.{split_name}.alpha.1.0'\\\n",
    "                           f'.beta.{beta}.gemma.{gemma}.dim.{h_dim}.hightype.'\\\n",
    "                           f'{model_arch}.Proxy.'\\\n",
    "                           f'CEBaB.sa.{class_num}-class.exclusive.'\\\n",
    "                           f'mode.align.cls.dropout.{cls_dropout}.enc.dropout.{enc_dropout}'\n",
    "        if control == \"fewshots\" or control == \"fewshots-hdim\":\n",
    "            cpm_model_path += f'.true.cfc.{true_cfc}.aug.cfc.False'\n",
    "        elif control == \"fewshots-augment\" or control == \"fewshots-augment-balance\" or control == \"fewshots-augment-large-epochs\":\n",
    "            cpm_model_path += f'.true.cfc.{true_cfc}.aug.cfc.True'\n",
    "        elif control == \"fewshots-layer\":\n",
    "            cpm_model_path += f'.true.cfc.{true_cfc}.aug.cfc.False.int.layer.{interchange_layer}'\n",
    "        cpm_model_path += f'.seed_{seed}'\n",
    "    # load data from HF\n",
    "    cebab = datasets.load_dataset(\n",
    "        'CEBaB/CEBaB', use_auth_token=True,\n",
    "        cache_dir=\"../train_cache/\"\n",
    "    )\n",
    "    train, dev, test = preprocess_hf_dataset(\n",
    "        cebab, one_example_per_world=True, \n",
    "        verbose=1, dataset_type=dataset_type\n",
    "    )\n",
    "\n",
    "    tf_model = model_module(\n",
    "        blackbox_model_path, \n",
    "        device=device, \n",
    "        batch_size=batch_size\n",
    "    )\n",
    "    explanator = explainer_module(\n",
    "        blackbox_model_path,\n",
    "        cpm_model_path, \n",
    "        device=device, \n",
    "        batch_size=batch_size,\n",
    "        intervention_h_dim=h_dim,\n",
    "    )\n",
    "\n",
    "    train_dataset = train.copy()\n",
    "    dev_dataset = test.copy()\n",
    "\n",
    "    result_per_example, ATE, CEBaB_metrics, CEBaB_metrics_per_aspect_direction, \\\n",
    "    CEBaB_metrics_per_aspect, CaCE_per_aspect_direction, \\\n",
    "    ACaCE_per_aspect, performance_report = cebab_pipeline(\n",
    "        tf_model, explanator, \n",
    "        train_dataset, dev_dataset, \n",
    "        dataset_type=dataset_type,\n",
    "        correction_epsilon=correction_epsilon,\n",
    "    )\n",
    "    \n",
    "    results[grid_conditions] = (\n",
    "        result_per_example, ATE, CEBaB_metrics, CEBaB_metrics_per_aspect_direction, \\\n",
    "        CEBaB_metrics_per_aspect, CaCE_per_aspect_direction, \\\n",
    "        ACaCE_per_aspect, performance_report\n",
    "    )"
   ]
  },
  {
   "cell_type": "markdown",
   "metadata": {},
   "source": [
    "#### Show your results"
   ]
  },
  {
   "cell_type": "code",
   "execution_count": 32,
   "metadata": {},
   "outputs": [
    {
     "data": {
      "text/html": [
       "<div>\n",
       "<style scoped>\n",
       "    .dataframe tbody tr th:only-of-type {\n",
       "        vertical-align: middle;\n",
       "    }\n",
       "\n",
       "    .dataframe tbody tr th {\n",
       "        vertical-align: top;\n",
       "    }\n",
       "\n",
       "    .dataframe thead th {\n",
       "        text-align: right;\n",
       "    }\n",
       "</style>\n",
       "<table border=\"1\" class=\"dataframe\">\n",
       "  <thead>\n",
       "    <tr style=\"text-align: right;\">\n",
       "      <th></th>\n",
       "      <th>seed</th>\n",
       "      <th>h_dim</th>\n",
       "      <th>class_num</th>\n",
       "      <th>control</th>\n",
       "      <th>beta</th>\n",
       "      <th>gemma</th>\n",
       "      <th>cls_dropout</th>\n",
       "      <th>enc_dropout</th>\n",
       "      <th>model_arch</th>\n",
       "      <th>true_cfc</th>\n",
       "      <th>interchange_layer</th>\n",
       "      <th>ICaCE-L2</th>\n",
       "      <th>ICaCE-cosine</th>\n",
       "      <th>ICaCE-normdiff</th>\n",
       "      <th>macro-f1</th>\n",
       "    </tr>\n",
       "  </thead>\n",
       "  <tbody>\n",
       "    <tr>\n",
       "      <th>0</th>\n",
       "      <td>42</td>\n",
       "      <td>192</td>\n",
       "      <td>5</td>\n",
       "      <td>fewshots-augment-large-epochs</td>\n",
       "      <td>1.0</td>\n",
       "      <td>3.0</td>\n",
       "      <td>0.1</td>\n",
       "      <td>0.1</td>\n",
       "      <td>bert-base-uncased</td>\n",
       "      <td>5</td>\n",
       "      <td>12</td>\n",
       "      <td>0.6071</td>\n",
       "      <td>0.4414</td>\n",
       "      <td>0.4658</td>\n",
       "      <td>0.695161</td>\n",
       "    </tr>\n",
       "    <tr>\n",
       "      <th>1</th>\n",
       "      <td>42</td>\n",
       "      <td>192</td>\n",
       "      <td>5</td>\n",
       "      <td>fewshots-augment-large-epochs</td>\n",
       "      <td>1.0</td>\n",
       "      <td>3.0</td>\n",
       "      <td>0.1</td>\n",
       "      <td>0.1</td>\n",
       "      <td>bert-base-uncased</td>\n",
       "      <td>50</td>\n",
       "      <td>12</td>\n",
       "      <td>0.5842</td>\n",
       "      <td>0.4192</td>\n",
       "      <td>0.4370</td>\n",
       "      <td>0.700121</td>\n",
       "    </tr>\n",
       "    <tr>\n",
       "      <th>2</th>\n",
       "      <td>42</td>\n",
       "      <td>192</td>\n",
       "      <td>5</td>\n",
       "      <td>fewshots-augment-large-epochs</td>\n",
       "      <td>1.0</td>\n",
       "      <td>3.0</td>\n",
       "      <td>0.1</td>\n",
       "      <td>0.1</td>\n",
       "      <td>bert-base-uncased</td>\n",
       "      <td>200</td>\n",
       "      <td>12</td>\n",
       "      <td>0.5444</td>\n",
       "      <td>0.4093</td>\n",
       "      <td>0.3890</td>\n",
       "      <td>0.702815</td>\n",
       "    </tr>\n",
       "    <tr>\n",
       "      <th>3</th>\n",
       "      <td>42</td>\n",
       "      <td>192</td>\n",
       "      <td>5</td>\n",
       "      <td>fewshots-augment-large-epochs</td>\n",
       "      <td>1.0</td>\n",
       "      <td>3.0</td>\n",
       "      <td>0.1</td>\n",
       "      <td>0.1</td>\n",
       "      <td>bert-base-uncased</td>\n",
       "      <td>600</td>\n",
       "      <td>12</td>\n",
       "      <td>0.5066</td>\n",
       "      <td>0.3913</td>\n",
       "      <td>0.3368</td>\n",
       "      <td>0.707224</td>\n",
       "    </tr>\n",
       "    <tr>\n",
       "      <th>4</th>\n",
       "      <td>42</td>\n",
       "      <td>192</td>\n",
       "      <td>5</td>\n",
       "      <td>fewshots-augment-large-epochs</td>\n",
       "      <td>1.0</td>\n",
       "      <td>3.0</td>\n",
       "      <td>0.1</td>\n",
       "      <td>0.1</td>\n",
       "      <td>bert-base-uncased</td>\n",
       "      <td>1200</td>\n",
       "      <td>12</td>\n",
       "      <td>0.5001</td>\n",
       "      <td>0.3850</td>\n",
       "      <td>0.3169</td>\n",
       "      <td>0.708701</td>\n",
       "    </tr>\n",
       "    <tr>\n",
       "      <th>5</th>\n",
       "      <td>42</td>\n",
       "      <td>192</td>\n",
       "      <td>5</td>\n",
       "      <td>fewshots-augment-large-epochs</td>\n",
       "      <td>1.0</td>\n",
       "      <td>3.0</td>\n",
       "      <td>0.1</td>\n",
       "      <td>0.1</td>\n",
       "      <td>bert-base-uncased</td>\n",
       "      <td>1755</td>\n",
       "      <td>12</td>\n",
       "      <td>0.4921</td>\n",
       "      <td>0.3903</td>\n",
       "      <td>0.3070</td>\n",
       "      <td>0.702437</td>\n",
       "    </tr>\n",
       "  </tbody>\n",
       "</table>\n",
       "</div>"
      ],
      "text/plain": [
       "   seed  h_dim  class_num                        control  beta  gemma  \\\n",
       "0    42    192          5  fewshots-augment-large-epochs   1.0    3.0   \n",
       "1    42    192          5  fewshots-augment-large-epochs   1.0    3.0   \n",
       "2    42    192          5  fewshots-augment-large-epochs   1.0    3.0   \n",
       "3    42    192          5  fewshots-augment-large-epochs   1.0    3.0   \n",
       "4    42    192          5  fewshots-augment-large-epochs   1.0    3.0   \n",
       "5    42    192          5  fewshots-augment-large-epochs   1.0    3.0   \n",
       "\n",
       "   cls_dropout  enc_dropout         model_arch  true_cfc  interchange_layer  \\\n",
       "0          0.1          0.1  bert-base-uncased         5                 12   \n",
       "1          0.1          0.1  bert-base-uncased        50                 12   \n",
       "2          0.1          0.1  bert-base-uncased       200                 12   \n",
       "3          0.1          0.1  bert-base-uncased       600                 12   \n",
       "4          0.1          0.1  bert-base-uncased      1200                 12   \n",
       "5          0.1          0.1  bert-base-uncased      1755                 12   \n",
       "\n",
       "   ICaCE-L2  ICaCE-cosine  ICaCE-normdiff  macro-f1  \n",
       "0    0.6071        0.4414          0.4658  0.695161  \n",
       "1    0.5842        0.4192          0.4370  0.700121  \n",
       "2    0.5444        0.4093          0.3890  0.702815  \n",
       "3    0.5066        0.3913          0.3368  0.707224  \n",
       "4    0.5001        0.3850          0.3169  0.708701  \n",
       "5    0.4921        0.3903          0.3070  0.702437  "
      ]
     },
     "execution_count": 32,
     "metadata": {},
     "output_type": "execute_result"
    }
   ],
   "source": [
    "important_keys = [\n",
    "    \"seed\", \"h_dim\", \"class_num\", \n",
    "    \"control\", \"beta\", \"gemma\", \n",
    "    \"cls_dropout\", \"enc_dropout\", \n",
    "    \"model_arch\", \"true_cfc\", \n",
    "    \"interchange_layer\"\n",
    "]\n",
    "values = []\n",
    "for k, v in results.items():\n",
    "    _values = []\n",
    "    for ik in important_keys:\n",
    "        _values.append(dict(k)[ik])\n",
    "    _values.append(v[2][\"ICaCE-L2\"].iloc[0])\n",
    "    _values.append(v[2][\"ICaCE-cosine\"].iloc[0])\n",
    "    _values.append(v[2][\"ICaCE-normdiff\"].iloc[0])\n",
    "    _values.append(v[-1].iloc[0][0])\n",
    "    values.append(_values)\n",
    "important_keys.extend([\"ICaCE-L2\", \"ICaCE-cosine\", \"ICaCE-normdiff\", \"macro-f1\"])\n",
    "df = pd.DataFrame(values, columns=important_keys)\n",
    "df.sort_values(by=['class_num'], ascending=True)"
   ]
  },
  {
   "cell_type": "markdown",
   "metadata": {},
   "source": [
    "#### Save your results somewhere and load again to tabularize your results altogether"
   ]
  },
  {
   "cell_type": "code",
   "execution_count": 28,
   "metadata": {},
   "outputs": [
    {
     "name": "stdout",
     "output_type": "stream",
     "text": [
      "Plase give an output file name: results\n",
      "Writing to file:  ../proxy_training_results/BERT-fewshots-hdim-results/results.pkl\n"
     ]
    }
   ],
   "source": [
    "output_name = input(\"Plase give an output file name: \")\n",
    "\n",
    "output_directory = f'../proxy_training_results/{model_path}/'\n",
    "output_filename = os.path.join(output_directory, f'{output_name}.pkl')\n",
    "print(\"Writing to file: \", output_filename)\n",
    "with open(output_filename, 'wb') as f:\n",
    "    pickle.dump(results, f)"
   ]
  },
  {
   "cell_type": "code",
   "execution_count": null,
   "metadata": {},
   "outputs": [],
   "source": []
  }
 ],
 "metadata": {
  "kernelspec": {
   "display_name": "Python 3",
   "language": "python",
   "name": "python3"
  },
  "language_info": {
   "codemirror_mode": {
    "name": "ipython",
    "version": 3
   },
   "file_extension": ".py",
   "mimetype": "text/x-python",
   "name": "python",
   "nbconvert_exporter": "python",
   "pygments_lexer": "ipython3",
   "version": "3.7.6"
  }
 },
 "nbformat": 4,
 "nbformat_minor": 4
}
