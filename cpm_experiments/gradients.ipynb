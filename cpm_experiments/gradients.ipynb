{
 "cells": [
  {
   "cell_type": "markdown",
   "metadata": {},
   "source": [
    "## Gradient-Based Explanations of Causal Proxy Model\n",
    "\n",
    "This notebook generates gradient-based visualizations to show how different representations within a CPM model capture the different aspects that they are trained to represent."
   ]
  },
  {
   "cell_type": "markdown",
   "metadata": {},
   "source": [
    "## General Setup\n",
    "\n",
    "Loads modules, CEBaB data, and Static Proxy Model."
   ]
  },
  {
   "cell_type": "code",
   "execution_count": 97,
   "metadata": {},
   "outputs": [],
   "source": [
    "from typing import List\n",
    "from libs import *\n",
    "from modelings.modelings_bert import *\n",
    "from modelings.modelings_roberta import *\n",
    "from modelings.modelings_gpt2 import *\n",
    "from modelings.modelings_lstm import *\n",
    "from IPython.display import display, HTML\n",
    "\"\"\"\n",
    "For evaluate, we use a single random seed, as\n",
    "the models are trained with 5 different seeds\n",
    "already.\n",
    "\"\"\"\n",
    "_ = random.seed(123)\n",
    "_ = np.random.seed(123)\n",
    "_ = torch.manual_seed(123)"
   ]
  },
  {
   "cell_type": "markdown",
   "metadata": {},
   "source": [
    "Load CEBaB data and model weights."
   ]
  },
  {
   "cell_type": "code",
   "execution_count": 197,
   "metadata": {},
   "outputs": [],
   "source": [
    "\"\"\"\n",
    "The following blocks will run CEBaB benchmark in\n",
    "all the combinations of the following conditions.\n",
    "\"\"\"\n",
    "grid = {\n",
    "    \"eval_split\": [\"test\"],\n",
    "    # dev,test\n",
    "    \"control\": [\"ablation\"],\n",
    "    # baseline-random,baseline-blackbox,hdims,layers,ks,approximate,ablation\n",
    "    \"seed\": [42],\n",
    "    # 42, 66, 77\n",
    "    \"h_dim\": [192],\n",
    "    # 1,16,64,128,192\n",
    "    # 1,16,64,75\n",
    "    \"interchange_layer\" : [10],\n",
    "    # 0,1; 2,4,6,8,10,12\n",
    "    \"class_num\": [5],\n",
    "    \"k\" : [19684], \n",
    "    # 0;10,100,500,1000,3000,6000,9848,19684\n",
    "    \"alpha\" : [1.0],\n",
    "    # 0.0,1.0\n",
    "    \"beta\" : [0.0],\n",
    "    # 0.0,1.0\n",
    "    \"gemma\" : [3.0],\n",
    "    # 0.0,3.0\n",
    "    \"model_arch\" : [\"bert-base-uncased\"],\n",
    "    # lstm, bert-base-uncased, roberta-base, gpt2\n",
    "    \"lr\" : [\"8e-05\"],\n",
    "    # 8e-05; 0.001\n",
    "    \"counterfactual_type\" : [\"true\"]\n",
    "    # approximate,true\n",
    "}\n",
    "\n",
    "keys, values = zip(*grid.items())\n",
    "permutations_dicts = [dict(zip(keys, v)) for v in itertools.product(*values)]\n",
    "\n",
    "device = 'cuda:9'\n",
    "batch_size = 32\n",
    "\n",
    "if grid[\"control\"][0] == \"hdims\" or grid[\"control\"][0] == \"layers\":\n",
    "    assert grid[\"eval_split\"][0] == \"dev\"\n",
    "else:\n",
    "    assert grid[\"eval_split\"][0] == \"test\"\n",
    "    \n",
    "aspect_label_encode = {\n",
    "    \"Negative\":0,\n",
    "    \"Positive\":1,\n",
    "    \"unknown\":2,\n",
    "    \"no majority\": 2,\n",
    "}"
   ]
  },
  {
   "cell_type": "code",
   "execution_count": 198,
   "metadata": {},
   "outputs": [
    {
     "name": "stdout",
     "output_type": "stream",
     "text": [
      "Running for this setting:  (('eval_split', 'test'), ('control', 'ablation'), ('seed', 42), ('h_dim', 192), ('interchange_layer', 10), ('class_num', 5), ('k', 19684), ('alpha', 1.0), ('beta', 0.0), ('gemma', 3.0), ('model_arch', 'bert-base-uncased'), ('lr', '8e-05'), ('counterfactual_type', 'true'))\n"
     ]
    },
    {
     "name": "stderr",
     "output_type": "stream",
     "text": [
      "Using custom data configuration CEBaB--CEBaB-ccd674d249652bd4\n",
      "Reusing dataset parquet (../train_cache/CEBaB___parquet/CEBaB--CEBaB-ccd674d249652bd4/0.0.0/7328ef7ee03eaf3f86ae40594d46a1cec86161704e02dd19f232d81eee72ade8)\n"
     ]
    },
    {
     "data": {
      "application/vnd.jupyter.widget-view+json": {
       "model_id": "1440c87f729541d0b4d8bc533bf85ae8",
       "version_major": 2,
       "version_minor": 0
      },
      "text/plain": [
       "  0%|          | 0/5 [00:00<?, ?it/s]"
      ]
     },
     "metadata": {},
     "output_type": "display_data"
    },
    {
     "name": "stdout",
     "output_type": "stream",
     "text": [
      "Dropping no majority reviews: 16.6382% of train_exclusive dataset.\n",
      "Dropping no majority reviews: 16.03% of train_inclusive dataset.\n",
      "intervention_h_dim=192\n"
     ]
    }
   ],
   "source": [
    "i = 0\n",
    "eval_split=permutations_dicts[i][\"eval_split\"]\n",
    "seed=permutations_dicts[i][\"seed\"]\n",
    "class_num=permutations_dicts[i][\"class_num\"]\n",
    "alpha=permutations_dicts[i][\"alpha\"]\n",
    "beta=permutations_dicts[i][\"beta\"]\n",
    "gemma=permutations_dicts[i][\"gemma\"]\n",
    "h_dim=permutations_dicts[i][\"h_dim\"]\n",
    "dataset_type = f'{class_num}-way'\n",
    "control=permutations_dicts[i][\"control\"]\n",
    "model_arch=permutations_dicts[i][\"model_arch\"]\n",
    "k=permutations_dicts[i][\"k\"]\n",
    "interchange_layer=permutations_dicts[i][\"interchange_layer\"]\n",
    "lr=permutations_dicts[i][\"lr\"]\n",
    "counterfactual_type=permutations_dicts[i][\"counterfactual_type\"]\n",
    "\n",
    "if model_arch == \"bert-base-uncased\":\n",
    "    model_path = \"BERT\"\n",
    "    model_module = BERTForCEBaB\n",
    "    explainer_module = CausalProxyModelForBERT\n",
    "elif model_arch == \"roberta-base\":\n",
    "    model_path = \"RoBERTa\" \n",
    "    model_module = RoBERTaForCEBaB\n",
    "    explainer_module = CausalProxyModelForRoBERTa\n",
    "elif model_arch == \"gpt2\":\n",
    "    model_path = \"gpt2\"\n",
    "    model_module = GPT2ForCEBaB\n",
    "    explainer_module = CausalProxyModelForGPT2\n",
    "elif model_arch == \"lstm\":\n",
    "    model_path = \"lstm\"\n",
    "    model_module = LSTMForCEBaB\n",
    "    explainer_module = CausalProxyModelForLSTM\n",
    "model_path += f\"-{control}\"\n",
    "grid_conditions=(\n",
    "    (\"eval_split\", eval_split),\n",
    "    (\"control\", control),\n",
    "    (\"seed\", seed),\n",
    "    (\"h_dim\", h_dim),\n",
    "    (\"interchange_layer\", interchange_layer),\n",
    "    (\"class_num\", class_num),\n",
    "    (\"k\", k),\n",
    "    (\"alpha\", alpha),\n",
    "    (\"beta\", beta),\n",
    "    (\"gemma\", gemma),\n",
    "    (\"model_arch\", model_arch),\n",
    "    (\"lr\", lr),\n",
    "    (\"counterfactual_type\", counterfactual_type)\n",
    ")\n",
    "print(\"Running for this setting: \", grid_conditions)\n",
    "\n",
    "blackbox_model_path = f'CEBaB/{model_arch}.CEBaB.sa.'\\\n",
    "                      f'{class_num}-class.exclusive.seed_{seed}'\n",
    "cpm_model_path = f'../proxy_training_results/{model_path}/'\\\n",
    "                 f'cebab.alpha.{alpha}.beta.{beta}.gemma.{gemma}.'\\\n",
    "                 f'lr.{lr}.dim.{h_dim}.hightype.{model_arch}.'\\\n",
    "                 f'CEBaB.cls.dropout.0.1.enc.dropout.0.1.counter.type.'\\\n",
    "                 f'{counterfactual_type}.k.{k}.int.layer.{interchange_layer}.'\\\n",
    "                 f'seed_{seed}/'\n",
    "\n",
    "# load data from HF\n",
    "cebab = datasets.load_dataset(\n",
    "    'CEBaB/CEBaB', use_auth_token=True,\n",
    "    cache_dir=\"../train_cache/\"\n",
    ")\n",
    "\n",
    "train, dev, test = preprocess_hf_dataset_inclusive(\n",
    "    cebab, verbose=1, dataset_type=dataset_type\n",
    ")\n",
    "\n",
    "eval_dataset = dev if eval_split == 'dev' else test\n",
    "\n",
    "tf_model = model_module(\n",
    "    blackbox_model_path, \n",
    "    device=device, \n",
    "    batch_size=batch_size\n",
    ")\n",
    "explainer = explainer_module(\n",
    "    blackbox_model_path,\n",
    "    cpm_model_path, \n",
    "    device=device, \n",
    "    batch_size=batch_size,\n",
    "    intervention_h_dim=h_dim,\n",
    ")"
   ]
  },
  {
   "cell_type": "markdown",
   "metadata": {},
   "source": [
    "## Computing Saliency Map\n",
    "\n",
    "The code below sets up a pipeline for computing and visualizing saliency maps for the causal proxy model, and the control blackbox model."
   ]
  },
  {
   "cell_type": "markdown",
   "metadata": {},
   "source": [
    "### General Utility Functions"
   ]
  },
  {
   "cell_type": "code",
   "execution_count": 4,
   "metadata": {},
   "outputs": [],
   "source": [
    "def softmax(x):\n",
    "    e_x = np.exp(x - x.max())\n",
    "    return e_x / np.sum(e_x)"
   ]
  },
  {
   "cell_type": "code",
   "execution_count": 5,
   "metadata": {},
   "outputs": [],
   "source": [
    "def tokenize_sentence(sentence, explanator):\n",
    "    \"\"\"\n",
    "    Tokenize the sentence using the `explanator` tokenizer\n",
    "    \"\"\"\n",
    "    explanator.blackbox_model.eval()\n",
    "    explanator.cpm_model.model.eval()\n",
    "    is_split_into_words = isinstance(sentence, List)\n",
    "    # Original ratings.\n",
    "    x = explanator.tokenizer([sentence], padding=True, truncation=True, return_tensors='pt', is_split_into_words=is_split_into_words)\n",
    "    x_batch = {k: v.to(explanator.device) for k, v in x.items()}\n",
    "    return x_batch"
   ]
  },
  {
   "cell_type": "code",
   "execution_count": 6,
   "metadata": {},
   "outputs": [],
   "source": [
    "def get_max(\n",
    "    x, \n",
    "    key_fn=lambda x: x\n",
    "):\n",
    "    \"\"\"\n",
    "    Returns maximum of n-dimensional array `x` at last dimension.\n",
    "\n",
    "    Parameters \n",
    "    -----------\n",
    "    x : numpy narray\n",
    "    key_fn : single-variable function, default is identity\n",
    "        Function by which to sort input in order to choose maximum value. By default,\n",
    "        no key function is used.\n",
    "    \"\"\"\n",
    "    index = np.argmax(key_fn(x), axis=-1)\n",
    "    shp = np.array(x.shape)\n",
    "    dim_index = [np.arange(i) for i in shp[:-1]]\n",
    "    dim_index.append(index)\n",
    "    return x[tuple(dim_index)]"
   ]
  },
  {
   "cell_type": "code",
   "execution_count": 7,
   "metadata": {},
   "outputs": [],
   "source": [
    "def highlight_word(word, weight, is_significant, is_pos, pos_color='224,108,120', neg_color='88,117,220', max_weight=0.8):\n",
    "    \"\"\"\n",
    "    Highlights a word using HTML based on its weight\n",
    "    \"\"\"\n",
    "    if not is_significant:\n",
    "        return word\n",
    "    color = pos_color if is_pos else neg_color\n",
    "    return f\"\"\"<span style=\"background-color:rgba({color},{str(abs(weight) / max_weight)})\">{word}</span>\"\"\"\n",
    "\n",
    "def display_colored_text(plot_df, n_color=10):\n",
    "    \"\"\"\n",
    "    Displays sentence as colored words \n",
    "    NOTE: needs some calibration\n",
    "    \"\"\"\n",
    "    result = \"\"\n",
    "    for model in plot_df['model'].unique():\n",
    "        model_df = plot_df[plot_df['model'] == model].copy()\n",
    "        most_significant_words = model_df.sort_values(by='weight', key=np.abs, ascending=False).iloc[:n_color]['word']\n",
    "        model_df['is_pos'] = model_df['weight'] > 0\n",
    "        model_df['is_significant'] = model_df['word'].isin(most_significant_words)\n",
    "        to_plot = model_df.apply(\n",
    "            lambda r: highlight_word(r['word'], r['weight'], r['is_significant'], r['is_pos'], max_weight=model_df['weight'].abs().max()),\n",
    "            axis=1\n",
    "        )\n",
    "        colored_text = ' '.join(list(to_plot.values))\n",
    "        title = f'Saliency for {model}:'\n",
    "        result += f'<p>{title}</p><p>{colored_text}</p>'\n",
    "    result = f\"\"\"<div style=\"background-color:#FFFFFF;color:black\">{result}</div>\"\"\"\n",
    "    display(HTML(result))"
   ]
  },
  {
   "cell_type": "code",
   "execution_count": 8,
   "metadata": {},
   "outputs": [],
   "source": [
    "def display_bar_plot(plot_df):\n",
    "    \"\"\"\n",
    "    Helper function to plot saliency map for `explain_interventions_with_gradients`.\n",
    "    \"\"\"\n",
    "    g = sns.catplot(\n",
    "        data=plot_df,\n",
    "        x='word',\n",
    "        y='weight',\n",
    "        col='model',\n",
    "        kind='bar'\n",
    "    )\n",
    "    axes = g.axes[0]\n",
    "    for ax in axes:\n",
    "        _ = ax.set_xticklabels(ax.get_xticklabels(), rotation=90)"
   ]
  },
  {
   "cell_type": "markdown",
   "metadata": {},
   "source": [
    "### Gradient Functions\n",
    "\n",
    "The functions below each compute the gradients across the lowest layer of the provided model, which corresponds to the inputted token embeddings. These gradients are then used to compute and visualize the saliency of the model with respect to the specified aspect.\n",
    "\n",
    "The functions are as follows:\n",
    " - `compute_saliency_of_logits`: takes the gradient of the input layer with respect to the logit of the specified aspect; if no aspect is specified (for control), then the gradient is taken with respect to the overall sentiment logit. NOTE: this function will not work with the blackbox model, since it does not compute aspect-specific logits.\n",
    " - `compute_saliency_of_final_layer`: takes the gradient of the input layer with respect to the slice of the final layer that represents the specified aspect; if no aspect is specified (for control), then the gradient is taken with respect to the entire final layer.\n",
    " - `compute_weighted_saliency`: takes the gradient of the input layer with respect to the slice of the final layer that represents the specified aspect, but weighted by the gradient from the final logit to the final layer; if no aspect is specified, then the gradient is taken with respect to the entire final layer.\n",
    " - `compute_guided_saliency`: takes the gradient of the input layer with respect to logit for overall sentiment, but only guided through the slice of the final layer that represents the specified aspect; if no aspect is specified (for control), then the gradient is guided through the entire final layer (should be the same as taking the gradient of the input with respect to the final overall logit)."
   ]
  },
  {
   "cell_type": "code",
   "execution_count": 9,
   "metadata": {},
   "outputs": [],
   "source": [
    "def compute_saliency_of_logits(model, x, explanator, aspect=None):\n",
    "    \"\"\"\n",
    "    Applies a saliency map on the logits of the output of the `explanator` \n",
    "    model when run on a single input sentence. It uses the tokens produced by\n",
    "    the `explanator` tokenizer to determine which parts of the input had the\n",
    "    most influence on the chosen logit.\n",
    "\n",
    "    aspect : int\n",
    "        Chooses which output to focus on, from the following:\n",
    "        0 - ambiance\n",
    "        1 - food\n",
    "        2 - noise\n",
    "        3 - service\n",
    "        None - overall review\n",
    "    \"\"\"\n",
    "    logit_index = aspect + 1 if aspect is not None else 0\n",
    "\n",
    "    model.eval()\n",
    "    model.zero_grad()\n",
    "\n",
    "    outputs = model(\n",
    "        **x,\n",
    "        output_hidden_states=True,\n",
    "    )\n",
    "\n",
    "    outputs.hidden_states[0].retain_grad()\n",
    "\n",
    "    classification = outputs.logits[logit_index].argmax()\n",
    "    output_max = outputs.logits[logit_index][0, classification]\n",
    "    output_max.backward()\n",
    "\n",
    "    return outputs.hidden_states[0].grad.data.clone().detach().cpu().numpy()\n"
   ]
  },
  {
   "cell_type": "code",
   "execution_count": 10,
   "metadata": {},
   "outputs": [],
   "source": [
    "def compute_saliency_of_final_layer(model, x, explanator, aspect=None):\n",
    "    \"\"\"\n",
    "    Computes gradient-based saliency of how the input features affect \n",
    "    the computation of the final layer of the CPM model, which is used to\n",
    "    predict the overall sentiment of a sentence.\n",
    "\n",
    "    model\n",
    "        model to explain (either cpm_model.model or blackbox_model)\n",
    "    x\n",
    "        tokenized sentence to explain\n",
    "    explanator\n",
    "        CPM model\n",
    "    aspect : int\n",
    "        Different aspects correspond to different slices of the \n",
    "        final model layer. The options are:\n",
    "        0 - ambiance\n",
    "        1 - food\n",
    "        2 - noise\n",
    "        3 - service\n",
    "        None - all of the above (for control)\n",
    "    \"\"\"\n",
    "    # zero gradients\n",
    "    model.eval()\n",
    "    model.zero_grad()\n",
    "\n",
    "    # compute output\n",
    "    outputs = model(\n",
    "        **x,\n",
    "        output_hidden_states=True,\n",
    "    )\n",
    "    outputs.hidden_states[0].retain_grad()\n",
    "\n",
    "    # get slice of final layer that corresponds to aspect provided\n",
    "    if aspect is not None:\n",
    "        start_idx = aspect*explanator.intervention_h_dim\n",
    "        end_idx = (aspect+1)*explanator.intervention_h_dim\n",
    "    else:\n",
    "        start_idx = 0\n",
    "        end_idx = outputs.hidden_states[-1].size(2)\n",
    "    \n",
    "    # run gradient backwards for the final layer,\n",
    "    # only computing the gradients for the range of the specified aspect\n",
    "    output_grad = outputs.hidden_states[-1]\n",
    "    mask = torch.zeros_like(output_grad)\n",
    "    mask[:, 0, start_idx:end_idx] = 1\n",
    "    output_grad.backward(gradient=mask)\n",
    "\n",
    "    # return gradient at input layer\n",
    "    return outputs.hidden_states[0].grad.data.clone().detach().cpu().numpy()"
   ]
  },
  {
   "cell_type": "code",
   "execution_count": 11,
   "metadata": {},
   "outputs": [],
   "source": [
    "def compute_weighted_saliency(model, x, explanator, aspect=None):\n",
    "    \"\"\"\n",
    "    Computes the gradient-based saliency of the output logits,\n",
    "    through the specified slice of the final layer of the CPM model.\n",
    "    Corresponds to\n",
    "    dy/d(aspect representation) * d(aspect representation)/dx\n",
    "\n",
    "    model\n",
    "        model to explain (either cpm_model.model or blackbox_model)\n",
    "    x\n",
    "        tokenized sentence to explain\n",
    "    explanator\n",
    "        CPM model\n",
    "    aspect : int\n",
    "        Different aspects correspond to different slices of the \n",
    "        final model layer. The options are:\n",
    "        0 - ambiance\n",
    "        1 - food\n",
    "        2 - noise\n",
    "        3 - service\n",
    "        None - all of the above (for control)\n",
    "    \"\"\"\n",
    "    # zero gradients\n",
    "    model.eval()\n",
    "    model.zero_grad()\n",
    "\n",
    "    # compute output\n",
    "    outputs = model(\n",
    "        **x,\n",
    "        output_hidden_states=True,\n",
    "    )\n",
    "\n",
    "    # get aspect representation\n",
    "    if aspect is not None:\n",
    "        start_idx = aspect*explanator.intervention_h_dim\n",
    "        end_idx = (aspect+1)*explanator.intervention_h_dim\n",
    "    else:\n",
    "        start_idx = 0\n",
    "        end_idx = outputs.hidden_states[-1].size(2)\n",
    "\n",
    "    first_layer = outputs.hidden_states[0]\n",
    "    last_layer = outputs.hidden_states[-1]\n",
    "\n",
    "    first_layer.retain_grad()\n",
    "\n",
    "    # compute backwards gradient from final layer to input layer\n",
    "    mask = torch.zeros_like(last_layer)\n",
    "    mask[:, 0, start_idx:end_idx] = 1\n",
    "    last_layer.backward(gradient=mask, retain_graph=True)\n",
    "\n",
    "    first_layer_gradient = first_layer.grad.data.clone().detach()\n",
    "\n",
    "\n",
    "    # reset gradients\n",
    "    model.zero_grad()\n",
    "    \n",
    "    last_layer.retain_grad()\n",
    "\n",
    "    # compute backwards gradient from output logits to final layer\n",
    "    logits = outputs.logits[0] if isinstance(outputs.logits, tuple) else outputs.logits\n",
    "    classification = logits.argmax()\n",
    "    output_max = logits[0, classification]\n",
    "    output_max.backward(retain_graph=True)\n",
    "\n",
    "    last_layer_gradient = last_layer.grad.data.clone().detach()\n",
    "\n",
    "    # multiply gradient at input level with gradient of CLS vector at final layer, \n",
    "    # since only this slice is used in computing the output logits\n",
    "    weighted_gradient = first_layer_gradient * last_layer_gradient[:, 0, :]\n",
    "\n",
    "    return weighted_gradient.clone().detach().cpu().numpy()"
   ]
  },
  {
   "cell_type": "code",
   "execution_count": 21,
   "metadata": {},
   "outputs": [],
   "source": [
    "def compute_guided_saliency(model, x, explanator, aspect=None):\n",
    "    \"\"\"\n",
    "    Computes the gradient-based saliency of the output logits,\n",
    "    through the specified slice of the final layer of the CPM model.\n",
    "    Corresponds to\n",
    "    dy/d(aspect representation) * d(aspect representation)/dx\n",
    "\n",
    "    model\n",
    "        model to explain (either cpm_model.model or blackbox_model)\n",
    "    x\n",
    "        tokenized sentence to explain\n",
    "    explanator\n",
    "        CPM model\n",
    "    aspect : int\n",
    "        Different aspects correspond to different slices of the \n",
    "        final model layer. The options are:\n",
    "        0 - ambiance\n",
    "        1 - food\n",
    "        2 - noise\n",
    "        3 - service\n",
    "        None - all of the above (for control)\n",
    "    \"\"\"\n",
    "    # zero gradients\n",
    "    model.eval()\n",
    "    model.zero_grad()\n",
    "\n",
    "    # compute output\n",
    "    outputs = model(\n",
    "        **x,\n",
    "        output_hidden_states=True,\n",
    "    )\n",
    "\n",
    "    first_layer = outputs.hidden_states[0]\n",
    "    last_layer = outputs.hidden_states[explanator.interchange_hidden_layer]\n",
    "\n",
    "    # get aspect representation\n",
    "    if aspect is not None:\n",
    "        start_idx = aspect*explanator.intervention_h_dim\n",
    "        end_idx = (aspect+1)*explanator.intervention_h_dim\n",
    "    else:\n",
    "        start_idx = 0\n",
    "        end_idx = outputs.hidden_states[-1].size(2)\n",
    "    \n",
    "    # compute backwards gradient from output logits to final layer\n",
    "    last_layer.retain_grad()\n",
    "\n",
    "    logits = outputs.logits[0] if isinstance(outputs.logits, tuple) else outputs.logits\n",
    "    classification = logits.argmax()\n",
    "    output_max = logits[0, classification]\n",
    "    output_max.backward(retain_graph=True)\n",
    "\n",
    "    last_layer_gradient = last_layer.grad.data.clone().detach()\n",
    "\n",
    "    # reset gradients\n",
    "    model.zero_grad()\n",
    "\n",
    "    # compute backwards gradient from final layer to input layer,\n",
    "    # guided by the gradient from the logits to the final layer\n",
    "    first_layer.retain_grad()\n",
    "\n",
    "    \n",
    "    mask = torch.zeros_like(last_layer)\n",
    "    mask[:, 0, start_idx:end_idx] = last_layer_gradient[:, 0, start_idx:end_idx]\n",
    "    last_layer.backward(gradient=mask)\n",
    "\n",
    "    first_layer_gradient = first_layer.grad.data.clone().detach().cpu().numpy()\n",
    "\n",
    "    return first_layer_gradient"
   ]
  },
  {
   "cell_type": "markdown",
   "metadata": {},
   "source": [
    "### Visualization Function\n",
    "\n",
    "This function uses one of the defined gradient-computation functions to visualize the aspect-specific saliency across an input sentence.\n",
    "This function allows the user to specify whether to show the control blackbox model, whether to normalize the output, and whether to select the maximum gradient to display by applying a key (such as `np.abs`), as well as other display flags."
   ]
  },
  {
   "cell_type": "code",
   "execution_count": 22,
   "metadata": {},
   "outputs": [],
   "source": [
    "def explain_interventions_with_gradients(\n",
    "        sentence, \n",
    "        explanator, \n",
    "        aspect, \n",
    "        show_control=True,\n",
    "        normalize=True, \n",
    "        softmax_norm=False, \n",
    "        control_for_gradient=False, \n",
    "        saliency_fn=compute_guided_saliency,\n",
    "        grad_apply_fn=lambda x: x,\n",
    "        max_key_fn=lambda x: x,\n",
    "        display_fn=display_bar_plot\n",
    "    ):\n",
    "    \"\"\"\n",
    "    Provides gradient-based saliency map to display which tokens \n",
    "    had the most effect on the intermediate representations\n",
    "    encoded by the `explanator.cpm_model` in the final layer.\n",
    "\n",
    "    sentence : str\n",
    "        Single input example\n",
    "    explanator : StaticCausalProxyModelForBERT \n",
    "    aspect : int\n",
    "        Chooses which embedded aspect to focus on.\n",
    "        0 - ambiance\n",
    "        1 - food\n",
    "        2 - noise\n",
    "        3 - service\n",
    "    show_control : bool, default True\n",
    "        Whether to display a second saliency plot, with \n",
    "    normalize : bool, default True\n",
    "        Whether to normalize output gradients\n",
    "    softmax_norm : bool, default False\n",
    "        Whether to apply softmax function in normalization (by default,\n",
    "        divide the gradients by their sum)\n",
    "    control_for_gradient : bool, default False\n",
    "        Whether to control for the change in gradients by computing \n",
    "        saliency both for the particular aspect representation and for \n",
    "        the whole final layer (our control), and plotting the difference\n",
    "        between these\n",
    "    saliency_fn\n",
    "        The function to use in order to compute gradient-based saliency\n",
    "        (right now, either `compute_saliency_of_final_layer`, `compute_weighted_saliency`, `compute_guided_saliency` or `compute_saliency_of_logits`)\n",
    "        NOTE: for `compute_saliency_of_logits`, set `show_control` to False, since the blackbox model does not have aspect-specific logits.\n",
    "    \"\"\"\n",
    "    explanator.blackbox_model.eval()\n",
    "    explanator.cpm_model.model.eval()\n",
    "\n",
    "    models = {'CPM': explanator.cpm_model.model}\n",
    "    if show_control:\n",
    "        models['control'] = explanator.blackbox_model\n",
    "\n",
    "    x = tokenize_sentence(sentence, explanator)\n",
    "    tokens = explanator.tokenizer.convert_ids_to_tokens(x['input_ids'][0])\n",
    "\n",
    "    plot_dfs = []\n",
    "    for model_name in models:\n",
    "        gradients = saliency_fn(models[model_name], x, explanator, aspect=aspect)\n",
    "        gradients = grad_apply_fn(gradients)\n",
    "        saliency = get_max(gradients, key_fn=max_key_fn)[0]\n",
    "\n",
    "        if control_for_gradient:\n",
    "            gradient_control = saliency_fn(models[model_name], x, explanator, aspect=None)\n",
    "            gradient_control = grad_apply_fn(gradient_control)\n",
    "            gradient_control = get_max(gradient_control, key_fn=max_key_fn)[0]\n",
    "            saliency = np.abs(saliency - gradient_control)\n",
    "\n",
    "        plot_df = pd.DataFrame({\n",
    "            'word': tokens,\n",
    "            'weight': saliency,\n",
    "            'model': model_name\n",
    "        })\n",
    "\n",
    "        plot_dfs.append(plot_df)\n",
    "\n",
    "    if normalize:\n",
    "        for plot_df in plot_dfs:\n",
    "            if softmax_norm:\n",
    "                plot_df['weight'] = softmax(plot_df['weight'])\n",
    "            else:\n",
    "                plot_df['weight'] = plot_df['weight'] / plot_df['weight'].sum()\n",
    "\n",
    "    plot_data = pd.concat(plot_dfs)\n",
    "    \n",
    "    display_fn(plot_data)"
   ]
  },
  {
   "cell_type": "markdown",
   "metadata": {},
   "source": [
    "## Gradient-Based Visualizations\n",
    "\n",
    "Graphs visualizations of which parts of the input the CPM model focuses on in representing a certain concept, such as ambiance, food, noise, or service."
   ]
  },
  {
   "cell_type": "code",
   "execution_count": 23,
   "metadata": {},
   "outputs": [],
   "source": [
    "example_sentence = 'The music was too loud, and the decorations were tasteless, but they had friendly waiters and delicious pasta'"
   ]
  },
  {
   "cell_type": "code",
   "execution_count": 24,
   "metadata": {},
   "outputs": [
    {
     "data": {
      "image/png": "[encoded data removed]",
      "text/plain": [
       "<Figure size 720x360 with 2 Axes>"
      ]
     },
     "metadata": {},
     "output_type": "display_data"
    }
   ],
   "source": [
    "# which tokens influence the representation of ambiance?\n",
    "explain_interventions_with_gradients(\n",
    "    example_sentence, explainer, \n",
    "    0, normalize=True, softmax_norm=False, \n",
    "    control_for_gradient=False, \n",
    "    saliency_fn=compute_guided_saliency, grad_apply_fn=np.abs\n",
    ")"
   ]
  },
  {
   "cell_type": "code",
   "execution_count": 25,
   "metadata": {},
   "outputs": [
    {
     "data": {
      "image/png": "[encoded data removed]",
      "text/plain": [
       "<Figure size 720x360 with 2 Axes>"
      ]
     },
     "metadata": {},
     "output_type": "display_data"
    }
   ],
   "source": [
    "# which tokens influence the representation of food?\n",
    "explain_interventions_with_gradients(\n",
    "    example_sentence, explainer, 1, \n",
    "    normalize=True, softmax_norm=False, \n",
    "    control_for_gradient=False, \n",
    "    saliency_fn=compute_guided_saliency, grad_apply_fn=np.abs\n",
    ")"
   ]
  },
  {
   "cell_type": "code",
   "execution_count": 26,
   "metadata": {},
   "outputs": [
    {
     "data": {
      "image/png": "[encoded data removed]",
      "text/plain": [
       "<Figure size 720x360 with 2 Axes>"
      ]
     },
     "metadata": {},
     "output_type": "display_data"
    }
   ],
   "source": [
    "# which tokens influence the representation of noise?\n",
    "explain_interventions_with_gradients(\n",
    "    example_sentence, explainer, \n",
    "    2, normalize=True, softmax_norm=False, \n",
    "    control_for_gradient=False, \n",
    "    saliency_fn=compute_guided_saliency, grad_apply_fn=np.abs\n",
    ")"
   ]
  },
  {
   "cell_type": "code",
   "execution_count": 27,
   "metadata": {},
   "outputs": [
    {
     "data": {
      "image/png": "[encoded data removed]",
      "text/plain": [
       "<Figure size 720x360 with 2 Axes>"
      ]
     },
     "metadata": {},
     "output_type": "display_data"
    }
   ],
   "source": [
    "# which tokens influence the representation of service?\n",
    "explain_interventions_with_gradients(\n",
    "    example_sentence, explainer, \n",
    "    3, normalize=True, softmax_norm=False, \n",
    "    control_for_gradient=False, \n",
    "    saliency_fn=compute_guided_saliency, grad_apply_fn=np.abs\n",
    ")"
   ]
  },
  {
   "cell_type": "code",
   "execution_count": 21,
   "metadata": {},
   "outputs": [
    {
     "name": "stderr",
     "output_type": "stream",
     "text": [
      "c:\\Users\\t-amirzur\\Anaconda3\\envs\\data-analysis\\lib\\site-packages\\transformers\\modeling_utils.py:812: FutureWarning: The `device` argument is deprecated and will be removed in v5 of Transformers.\n",
      "  warnings.warn(\n"
     ]
    },
    {
     "data": {
      "image/png": "[encoded data removed]",
      "text/plain": [
       "<Figure size 720x360 with 2 Axes>"
      ]
     },
     "metadata": {},
     "output_type": "display_data"
    }
   ],
   "source": [
    "# which tokens influence the representation of noise?\n",
    "explain_interventions_with_gradients(\n",
    "    example_sentence, cpm_explainer, 2, normalize=True, softmax_norm=False, control_for_gradient=False, saliency_fn=compute_guided_saliency, max_key_fn=np.abs\n",
    ")"
   ]
  },
  {
   "cell_type": "code",
   "execution_count": 22,
   "metadata": {},
   "outputs": [
    {
     "name": "stderr",
     "output_type": "stream",
     "text": [
      "c:\\Users\\t-amirzur\\Anaconda3\\envs\\data-analysis\\lib\\site-packages\\transformers\\modeling_utils.py:812: FutureWarning: The `device` argument is deprecated and will be removed in v5 of Transformers.\n",
      "  warnings.warn(\n"
     ]
    },
    {
     "data": {
      "text/html": [
       "<div style=\"background-color:#FFFFFF;color:black\"><p>Saliency for CPM:</p><p><span style=\"background-color:rgba(224,108,120,0.5791871049766436)\">[CLS]</span> the <span style=\"background-color:rgba(224,108,120,0.5834737695719576)\">music</span> was <span style=\"background-color:rgba(224,108,120,0.4327806125995057)\">too</span> <span style=\"background-color:rgba(88,117,220,1.0)\">loud</span> , and the <span style=\"background-color:rgba(88,117,220,0.6236991533178343)\">decorations</span> were taste ##less , but they had <span style=\"background-color:rgba(88,117,220,0.48892623629506404)\">friendly</span> <span style=\"background-color:rgba(224,108,120,0.7956085918122262)\">waiter</span> ##s and <span style=\"background-color:rgba(224,108,120,0.6396777279517661)\">delicious</span> <span style=\"background-color:rgba(88,117,220,0.6682189668347428)\">pasta</span> <span style=\"background-color:rgba(224,108,120,0.4829758588356244)\">[SEP]</span></p><p>Saliency for control:</p><p><span style=\"background-color:rgba(224,108,120,0.7614021517839192)\">[CLS]</span> the music was <span style=\"background-color:rgba(224,108,120,0.5092843935731525)\">too</span> <span style=\"background-color:rgba(224,108,120,0.6342833317445231)\">loud</span> , and the <span style=\"background-color:rgba(88,117,220,0.6465867990633256)\">decorations</span> were <span style=\"background-color:rgba(88,117,220,0.9222189292425717)\">taste</span> <span style=\"background-color:rgba(88,117,220,1.0)\">##less</span> , but they had <span style=\"background-color:rgba(224,108,120,0.748178079043467)\">friendly</span> <span style=\"background-color:rgba(224,108,120,0.8448035404669969)\">waiter</span> ##s and <span style=\"background-color:rgba(224,108,120,0.9892006129346772)\">delicious</span> <span style=\"background-color:rgba(88,117,220,0.7890479809682556)\">pasta</span> [SEP]</p></div>"
      ],
      "text/plain": [
       "<IPython.core.display.HTML object>"
      ]
     },
     "metadata": {},
     "output_type": "display_data"
    }
   ],
   "source": [
    "# which tokens influence the representation of noise?\n",
    "explain_interventions_with_gradients(\n",
    "    example_sentence, cpm_explainer, 2, normalize=True, softmax_norm=False, control_for_gradient=False, saliency_fn=compute_guided_saliency, max_key_fn=np.abs, display_fn=display_colored_text\n",
    ")"
   ]
  },
  {
   "cell_type": "code",
   "execution_count": 23,
   "metadata": {},
   "outputs": [
    {
     "name": "stderr",
     "output_type": "stream",
     "text": [
      "c:\\Users\\t-amirzur\\Anaconda3\\envs\\data-analysis\\lib\\site-packages\\transformers\\modeling_utils.py:812: FutureWarning: The `device` argument is deprecated and will be removed in v5 of Transformers.\n",
      "  warnings.warn(\n"
     ]
    },
    {
     "data": {
      "text/html": [
       "<div style=\"background-color:#FFFFFF;color:black\"><p>Saliency for CPM:</p><p><span style=\"background-color:rgba(224,108,120,0.5249118518050994)\">[CLS]</span> the music was too <span style=\"background-color:rgba(224,108,120,0.33869018300126646)\">loud</span> , and the <span style=\"background-color:rgba(224,108,120,0.6662489386852669)\">decorations</span> were <span style=\"background-color:rgba(224,108,120,0.42523596313142475)\">taste</span> <span style=\"background-color:rgba(224,108,120,0.4105173316620831)\">##less</span> , but they had <span style=\"background-color:rgba(224,108,120,0.6224246724236416)\">friendly</span> <span style=\"background-color:rgba(224,108,120,1.0)\">waiter</span> <span style=\"background-color:rgba(224,108,120,0.36462679622661975)\">##s</span> and <span style=\"background-color:rgba(224,108,120,0.8303134640837139)\">delicious</span> <span style=\"background-color:rgba(224,108,120,0.7331719807201494)\">pasta</span> [SEP]</p><p>Saliency for control:</p><p><span style=\"background-color:rgba(224,108,120,0.7711151040203997)\">[CLS]</span> <span style=\"background-color:rgba(224,108,120,0.24203210336070727)\">the</span> music was too <span style=\"background-color:rgba(224,108,120,0.5227846791288765)\">loud</span> , and <span style=\"background-color:rgba(224,108,120,0.49804589951780415)\">the</span> <span style=\"background-color:rgba(224,108,120,0.7650143142246931)\">decorations</span> were <span style=\"background-color:rgba(224,108,120,0.9770078968827943)\">taste</span> <span style=\"background-color:rgba(224,108,120,1.0)\">##less</span> , but they had <span style=\"background-color:rgba(224,108,120,0.6979441212129568)\">friendly</span> <span style=\"background-color:rgba(224,108,120,0.806793641420771)\">waiter</span> ##s and <span style=\"background-color:rgba(224,108,120,0.9659819287781044)\">delicious</span> <span style=\"background-color:rgba(224,108,120,0.7078216031949561)\">pasta</span> [SEP]</p></div>"
      ],
      "text/plain": [
       "<IPython.core.display.HTML object>"
      ]
     },
     "metadata": {},
     "output_type": "display_data"
    }
   ],
   "source": [
    "# which tokens influence the representation of service?\n",
    "explain_interventions_with_gradients(\n",
    "    example_sentence, cpm_explainer, 3, normalize=True, softmax_norm=False, control_for_gradient=False, saliency_fn=compute_guided_saliency, grad_apply_fn=np.abs, display_fn=display_colored_text\n",
    ")"
   ]
  },
  {
   "cell_type": "code",
   "execution_count": 24,
   "metadata": {},
   "outputs": [
    {
     "name": "stdout",
     "output_type": "stream",
     "text": [
      "ambiance\n"
     ]
    },
    {
     "data": {
      "text/html": [
       "<div style=\"background-color:#FFFFFF;color:black\"><p>Saliency for CPM:</p><p>[CLS] the music was too <span style=\"background-color:rgba(224,108,120,0.5801911132338835)\">loud</span> , <span style=\"background-color:rgba(224,108,120,0.4626121574886977)\">and</span> the <span style=\"background-color:rgba(224,108,120,0.9880765217607794)\">decorations</span> were <span style=\"background-color:rgba(224,108,120,0.49723047118185876)\">taste</span> <span style=\"background-color:rgba(224,108,120,0.5590052088110992)\">##less</span> , but they had <span style=\"background-color:rgba(224,108,120,0.40294578873794845)\">friendly</span> <span style=\"background-color:rgba(224,108,120,1.0)\">waiter</span> <span style=\"background-color:rgba(224,108,120,0.5971234170654398)\">##s</span> <span style=\"background-color:rgba(224,108,120,0.27065276410498)\">and</span> <span style=\"background-color:rgba(224,108,120,0.9621578369496453)\">delicious</span> <span style=\"background-color:rgba(224,108,120,0.6691737345748489)\">pasta</span> [SEP]</p><p>Saliency for control:</p><p><span style=\"background-color:rgba(224,108,120,0.7120055027636593)\">[CLS]</span> <span style=\"background-color:rgba(224,108,120,0.2818841123788514)\">the</span> music was too <span style=\"background-color:rgba(224,108,120,0.6241514290068051)\">loud</span> , and <span style=\"background-color:rgba(224,108,120,0.4761196314790065)\">the</span> <span style=\"background-color:rgba(224,108,120,0.6945836303329963)\">decorations</span> were <span style=\"background-color:rgba(224,108,120,0.9308752324841411)\">taste</span> <span style=\"background-color:rgba(224,108,120,1.0)\">##less</span> , but they had <span style=\"background-color:rgba(224,108,120,0.6808726396006268)\">friendly</span> <span style=\"background-color:rgba(224,108,120,0.8617444370681464)\">waiter</span> ##s and <span style=\"background-color:rgba(224,108,120,0.9688381497289617)\">delicious</span> <span style=\"background-color:rgba(224,108,120,0.7664740959412996)\">pasta</span> [SEP]</p></div>"
      ],
      "text/plain": [
       "<IPython.core.display.HTML object>"
      ]
     },
     "metadata": {},
     "output_type": "display_data"
    },
    {
     "name": "stdout",
     "output_type": "stream",
     "text": [
      "food\n"
     ]
    },
    {
     "data": {
      "text/html": [
       "<div style=\"background-color:#FFFFFF;color:black\"><p>Saliency for CPM:</p><p><span style=\"background-color:rgba(224,108,120,0.36812205260933)\">[CLS]</span> the music was too <span style=\"background-color:rgba(224,108,120,0.23913721537684657)\">loud</span> , and the <span style=\"background-color:rgba(224,108,120,1.0)\">decorations</span> were <span style=\"background-color:rgba(224,108,120,0.4936254837956224)\">taste</span> <span style=\"background-color:rgba(224,108,120,0.4256389885402326)\">##less</span> , but they had <span style=\"background-color:rgba(224,108,120,0.2533826371035261)\">friendly</span> <span style=\"background-color:rgba(224,108,120,0.3575708412081197)\">waiter</span> ##s and <span style=\"background-color:rgba(224,108,120,0.7207138134033387)\">delicious</span> <span style=\"background-color:rgba(224,108,120,0.6844144407544662)\">pasta</span> <span style=\"background-color:rgba(224,108,120,0.4619949033889133)\">[SEP]</span></p><p>Saliency for control:</p><p><span style=\"background-color:rgba(224,108,120,0.8883231792612594)\">[CLS]</span> the music was <span style=\"background-color:rgba(224,108,120,0.5354460409036612)\">too</span> <span style=\"background-color:rgba(224,108,120,0.5886290772003703)\">loud</span> , and the <span style=\"background-color:rgba(224,108,120,0.6760708704431887)\">decorations</span> were <span style=\"background-color:rgba(224,108,120,1.0)\">taste</span> <span style=\"background-color:rgba(224,108,120,0.9564088223894066)\">##less</span> , but they had <span style=\"background-color:rgba(224,108,120,0.8037744242527081)\">friendly</span> <span style=\"background-color:rgba(224,108,120,0.8700426037353125)\">waiter</span> ##s and <span style=\"background-color:rgba(224,108,120,0.9163026344747734)\">delicious</span> <span style=\"background-color:rgba(224,108,120,0.7826921885758732)\">pasta</span> [SEP]</p></div>"
      ],
      "text/plain": [
       "<IPython.core.display.HTML object>"
      ]
     },
     "metadata": {},
     "output_type": "display_data"
    },
    {
     "name": "stdout",
     "output_type": "stream",
     "text": [
      "noise\n"
     ]
    },
    {
     "data": {
      "text/html": [
       "<div style=\"background-color:#FFFFFF;color:black\"><p>Saliency for CPM:</p><p><span style=\"background-color:rgba(224,108,120,0.5791871387384263)\">[CLS]</span> the <span style=\"background-color:rgba(224,108,120,0.5834737598608505)\">music</span> was <span style=\"background-color:rgba(224,108,120,0.4327805990475418)\">too</span> <span style=\"background-color:rgba(224,108,120,1.0)\">loud</span> , and the <span style=\"background-color:rgba(224,108,120,0.6236991087832529)\">decorations</span> were taste ##less , but they had <span style=\"background-color:rgba(224,108,120,0.4889262404187908)\">friendly</span> <span style=\"background-color:rgba(224,108,120,0.7956085833093308)\">waiter</span> ##s and <span style=\"background-color:rgba(224,108,120,0.6396777413933407)\">delicious</span> <span style=\"background-color:rgba(224,108,120,0.6682189786941312)\">pasta</span> <span style=\"background-color:rgba(224,108,120,0.4829758585686282)\">[SEP]</span></p><p>Saliency for control:</p><p><span style=\"background-color:rgba(224,108,120,0.7614021794709854)\">[CLS]</span> the music was <span style=\"background-color:rgba(224,108,120,0.5092844281543248)\">too</span> <span style=\"background-color:rgba(224,108,120,0.634283328689132)\">loud</span> , and the <span style=\"background-color:rgba(224,108,120,0.6465868655938486)\">decorations</span> were <span style=\"background-color:rgba(224,108,120,0.9222189810038711)\">taste</span> <span style=\"background-color:rgba(224,108,120,1.0)\">##less</span> , but they had <span style=\"background-color:rgba(224,108,120,0.7481781295018566)\">friendly</span> <span style=\"background-color:rgba(224,108,120,0.844803573855815)\">waiter</span> ##s and <span style=\"background-color:rgba(224,108,120,0.9892006674955198)\">delicious</span> <span style=\"background-color:rgba(224,108,120,0.7890480390573562)\">pasta</span> [SEP]</p></div>"
      ],
      "text/plain": [
       "<IPython.core.display.HTML object>"
      ]
     },
     "metadata": {},
     "output_type": "display_data"
    },
    {
     "name": "stdout",
     "output_type": "stream",
     "text": [
      "service\n"
     ]
    },
    {
     "data": {
      "text/html": [
       "<div style=\"background-color:#FFFFFF;color:black\"><p>Saliency for CPM:</p><p><span style=\"background-color:rgba(224,108,120,0.5249118518050994)\">[CLS]</span> the music was too <span style=\"background-color:rgba(224,108,120,0.33869018300126646)\">loud</span> , and the <span style=\"background-color:rgba(224,108,120,0.6662489386852669)\">decorations</span> were <span style=\"background-color:rgba(224,108,120,0.42523596313142475)\">taste</span> <span style=\"background-color:rgba(224,108,120,0.4105173316620831)\">##less</span> , but they had <span style=\"background-color:rgba(224,108,120,0.6224246724236416)\">friendly</span> <span style=\"background-color:rgba(224,108,120,1.0)\">waiter</span> <span style=\"background-color:rgba(224,108,120,0.36462679622661975)\">##s</span> and <span style=\"background-color:rgba(224,108,120,0.8303134640837139)\">delicious</span> <span style=\"background-color:rgba(224,108,120,0.7331719807201494)\">pasta</span> [SEP]</p><p>Saliency for control:</p><p><span style=\"background-color:rgba(224,108,120,0.7711151040203997)\">[CLS]</span> <span style=\"background-color:rgba(224,108,120,0.24203210336070727)\">the</span> music was too <span style=\"background-color:rgba(224,108,120,0.5227846791288765)\">loud</span> , and <span style=\"background-color:rgba(224,108,120,0.49804589951780415)\">the</span> <span style=\"background-color:rgba(224,108,120,0.7650143142246931)\">decorations</span> were <span style=\"background-color:rgba(224,108,120,0.9770078968827943)\">taste</span> <span style=\"background-color:rgba(224,108,120,1.0)\">##less</span> , but they had <span style=\"background-color:rgba(224,108,120,0.6979441212129568)\">friendly</span> <span style=\"background-color:rgba(224,108,120,0.806793641420771)\">waiter</span> ##s and <span style=\"background-color:rgba(224,108,120,0.9659819287781044)\">delicious</span> <span style=\"background-color:rgba(224,108,120,0.7078216031949561)\">pasta</span> [SEP]</p></div>"
      ],
      "text/plain": [
       "<IPython.core.display.HTML object>"
      ]
     },
     "metadata": {},
     "output_type": "display_data"
    }
   ],
   "source": [
    "import warnings\n",
    "warnings.filterwarnings('ignore')\n",
    "\n",
    "example_sentence = 'The music was too loud, and the decorations were tasteless, but they had friendly waiters and delicious pasta'\n",
    "aspects = ['ambiance', 'food', 'noise', 'service']\n",
    "\n",
    "for i, a in enumerate(aspects):\n",
    "    print(a)\n",
    "    explain_interventions_with_gradients(\n",
    "        example_sentence, \n",
    "        cpm_explainer, \n",
    "        i, \n",
    "        show_control=True,\n",
    "        normalize=True, \n",
    "        softmax_norm=False, \n",
    "        control_for_gradient=False, \n",
    "        saliency_fn=compute_guided_saliency,\n",
    "        grad_apply_fn=np.abs,\n",
    "        max_key_fn=lambda x: x,\n",
    "        display_fn=display_colored_text\n",
    "    )"
   ]
  },
  {
   "cell_type": "code",
   "execution_count": 25,
   "metadata": {},
   "outputs": [
    {
     "name": "stdout",
     "output_type": "stream",
     "text": [
      "ambiance\n"
     ]
    },
    {
     "data": {
      "text/html": [
       "<div style=\"background-color:#FFFFFF;color:black\"><p>Saliency for CPM:</p><p>[CLS] the music was too <span style=\"background-color:rgba(88,117,220,0.5801911205982717)\">loud</span> , <span style=\"background-color:rgba(88,117,220,0.46261213316177874)\">and</span> the <span style=\"background-color:rgba(224,108,120,0.98807646470439)\">decorations</span> were <span style=\"background-color:rgba(88,117,220,0.4972304541611052)\">taste</span> <span style=\"background-color:rgba(88,117,220,0.5590052187808517)\">##less</span> , but they had <span style=\"background-color:rgba(224,108,120,0.40294579261926733)\">friendly</span> <span style=\"background-color:rgba(224,108,120,1.0)\">waiter</span> <span style=\"background-color:rgba(88,117,220,0.5971233986354347)\">##s</span> <span style=\"background-color:rgba(88,117,220,0.2706527635664146)\">and</span> <span style=\"background-color:rgba(224,108,120,0.9621578269038996)\">delicious</span> <span style=\"background-color:rgba(224,108,120,0.6691737822176688)\">pasta</span> [SEP]</p><p>Saliency for control:</p><p><span style=\"background-color:rgba(224,108,120,0.7120055065386721)\">[CLS]</span> <span style=\"background-color:rgba(224,108,120,0.2818841186804858)\">the</span> music was too <span style=\"background-color:rgba(224,108,120,0.6241514714632593)\">loud</span> , and <span style=\"background-color:rgba(224,108,120,0.4761196425408062)\">the</span> <span style=\"background-color:rgba(88,117,220,0.6945837070738443)\">decorations</span> were <span style=\"background-color:rgba(88,117,220,0.9308752796117912)\">taste</span> <span style=\"background-color:rgba(88,117,220,1.0)\">##less</span> , but they had <span style=\"background-color:rgba(224,108,120,0.6808726422493947)\">friendly</span> <span style=\"background-color:rgba(224,108,120,0.8617445309666762)\">waiter</span> ##s and <span style=\"background-color:rgba(224,108,120,0.968838158975821)\">delicious</span> <span style=\"background-color:rgba(88,117,220,0.7664741643294612)\">pasta</span> [SEP]</p></div>"
      ],
      "text/plain": [
       "<IPython.core.display.HTML object>"
      ]
     },
     "metadata": {},
     "output_type": "display_data"
    },
    {
     "name": "stdout",
     "output_type": "stream",
     "text": [
      "food\n"
     ]
    },
    {
     "data": {
      "text/html": [
       "<div style=\"background-color:#FFFFFF;color:black\"><p>Saliency for CPM:</p><p><span style=\"background-color:rgba(224,108,120,0.3681220387325813)\">[CLS]</span> the music was too <span style=\"background-color:rgba(224,108,120,0.23913720254576074)\">loud</span> , and the <span style=\"background-color:rgba(224,108,120,1.0)\">decorations</span> were <span style=\"background-color:rgba(224,108,120,0.49362546367587823)\">taste</span> <span style=\"background-color:rgba(88,117,220,0.4256389662208804)\">##less</span> , but they had <span style=\"background-color:rgba(88,117,220,0.2533826302654236)\">friendly</span> <span style=\"background-color:rgba(224,108,120,0.3575708162971167)\">waiter</span> ##s and <span style=\"background-color:rgba(224,108,120,0.7207137839744514)\">delicious</span> <span style=\"background-color:rgba(224,108,120,0.684414452274572)\">pasta</span> <span style=\"background-color:rgba(88,117,220,0.46199488723857784)\">[SEP]</span></p><p>Saliency for control:</p><p><span style=\"background-color:rgba(224,108,120,0.8883231446526141)\">[CLS]</span> the music was <span style=\"background-color:rgba(224,108,120,0.5354460378816024)\">too</span> <span style=\"background-color:rgba(224,108,120,0.588629052587729)\">loud</span> , and the <span style=\"background-color:rgba(224,108,120,0.676070886122906)\">decorations</span> were <span style=\"background-color:rgba(88,117,220,1.0)\">taste</span> <span style=\"background-color:rgba(88,117,220,0.9564087928589273)\">##less</span> , but they had <span style=\"background-color:rgba(224,108,120,0.8037744624052939)\">friendly</span> <span style=\"background-color:rgba(224,108,120,0.8700426092990022)\">waiter</span> ##s and <span style=\"background-color:rgba(224,108,120,0.91630263900188)\">delicious</span> <span style=\"background-color:rgba(88,117,220,0.7826921991189395)\">pasta</span> [SEP]</p></div>"
      ],
      "text/plain": [
       "<IPython.core.display.HTML object>"
      ]
     },
     "metadata": {},
     "output_type": "display_data"
    },
    {
     "name": "stdout",
     "output_type": "stream",
     "text": [
      "noise\n"
     ]
    },
    {
     "data": {
      "text/html": [
       "<div style=\"background-color:#FFFFFF;color:black\"><p>Saliency for CPM:</p><p><span style=\"background-color:rgba(224,108,120,0.5791871049766436)\">[CLS]</span> the <span style=\"background-color:rgba(224,108,120,0.5834737695719576)\">music</span> was <span style=\"background-color:rgba(224,108,120,0.4327806125995057)\">too</span> <span style=\"background-color:rgba(88,117,220,1.0)\">loud</span> , and the <span style=\"background-color:rgba(88,117,220,0.6236991533178343)\">decorations</span> were taste ##less , but they had <span style=\"background-color:rgba(88,117,220,0.48892623629506404)\">friendly</span> <span style=\"background-color:rgba(224,108,120,0.7956085918122262)\">waiter</span> ##s and <span style=\"background-color:rgba(224,108,120,0.6396777279517661)\">delicious</span> <span style=\"background-color:rgba(88,117,220,0.6682189668347428)\">pasta</span> <span style=\"background-color:rgba(224,108,120,0.4829758588356244)\">[SEP]</span></p><p>Saliency for control:</p><p><span style=\"background-color:rgba(224,108,120,0.7614021517839192)\">[CLS]</span> the music was <span style=\"background-color:rgba(224,108,120,0.5092843935731525)\">too</span> <span style=\"background-color:rgba(224,108,120,0.6342833317445231)\">loud</span> , and the <span style=\"background-color:rgba(88,117,220,0.6465867990633256)\">decorations</span> were <span style=\"background-color:rgba(88,117,220,0.9222189292425717)\">taste</span> <span style=\"background-color:rgba(88,117,220,1.0)\">##less</span> , but they had <span style=\"background-color:rgba(224,108,120,0.748178079043467)\">friendly</span> <span style=\"background-color:rgba(224,108,120,0.8448035404669969)\">waiter</span> ##s and <span style=\"background-color:rgba(224,108,120,0.9892006129346772)\">delicious</span> <span style=\"background-color:rgba(88,117,220,0.7890479809682556)\">pasta</span> [SEP]</p></div>"
      ],
      "text/plain": [
       "<IPython.core.display.HTML object>"
      ]
     },
     "metadata": {},
     "output_type": "display_data"
    },
    {
     "name": "stdout",
     "output_type": "stream",
     "text": [
      "service\n"
     ]
    },
    {
     "data": {
      "text/html": [
       "<div style=\"background-color:#FFFFFF;color:black\"><p>Saliency for CPM:</p><p><span style=\"background-color:rgba(88,117,220,0.5249118706486894)\">[CLS]</span> the music was too <span style=\"background-color:rgba(224,108,120,0.3386901929127272)\">loud</span> , and the <span style=\"background-color:rgba(224,108,120,0.6662489625073295)\">decorations</span> were <span style=\"background-color:rgba(224,108,120,0.42523596359720434)\">taste</span> <span style=\"background-color:rgba(88,117,220,0.41051732872189384)\">##less</span> , but they had <span style=\"background-color:rgba(224,108,120,0.6224246765432179)\">friendly</span> <span style=\"background-color:rgba(88,117,220,1.0)\">waiter</span> <span style=\"background-color:rgba(224,108,120,0.36462681034462535)\">##s</span> and <span style=\"background-color:rgba(88,117,220,0.8303134829560641)\">delicious</span> <span style=\"background-color:rgba(224,108,120,0.733171954608218)\">pasta</span> [SEP]</p><p>Saliency for control:</p><p><span style=\"background-color:rgba(88,117,220,0.7711150914828917)\">[CLS]</span> <span style=\"background-color:rgba(224,108,120,0.24203209713775245)\">the</span> music was too <span style=\"background-color:rgba(88,117,220,0.5227846449394798)\">loud</span> , and <span style=\"background-color:rgba(224,108,120,0.49804589343818945)\">the</span> <span style=\"background-color:rgba(88,117,220,0.7650143021874122)\">decorations</span> were <span style=\"background-color:rgba(88,117,220,0.9770078296024668)\">taste</span> <span style=\"background-color:rgba(224,108,120,1.0)\">##less</span> , but they had <span style=\"background-color:rgba(224,108,120,0.6979440838507994)\">friendly</span> <span style=\"background-color:rgba(224,108,120,0.8067935656394006)\">waiter</span> ##s and <span style=\"background-color:rgba(224,108,120,0.9659819291476077)\">delicious</span> <span style=\"background-color:rgba(224,108,120,0.7078215902605643)\">pasta</span> [SEP]</p></div>"
      ],
      "text/plain": [
       "<IPython.core.display.HTML object>"
      ]
     },
     "metadata": {},
     "output_type": "display_data"
    }
   ],
   "source": [
    "example_sentence = 'The music was too loud, and the decorations were tasteless, but they had friendly waiters and delicious pasta'\n",
    "aspects = ['ambiance', 'food', 'noise', 'service']\n",
    "\n",
    "for i, a in enumerate(aspects):\n",
    "    print(a)\n",
    "    explain_interventions_with_gradients(\n",
    "        example_sentence, \n",
    "        cpm_explainer, \n",
    "        i, \n",
    "        show_control=True,\n",
    "        normalize=True, \n",
    "        softmax_norm=False, \n",
    "        control_for_gradient=False, \n",
    "        saliency_fn=compute_guided_saliency,\n",
    "        grad_apply_fn=lambda x: x,\n",
    "        max_key_fn=np.abs,\n",
    "        display_fn=display_colored_text\n",
    "    )"
   ]
  },
  {
   "cell_type": "code",
   "execution_count": 26,
   "metadata": {},
   "outputs": [
    {
     "name": "stdout",
     "output_type": "stream",
     "text": [
      "ambiance\n"
     ]
    },
    {
     "data": {
      "text/html": [
       "<div style=\"background-color:#FFFFFF;color:black\"><p>Saliency for CPM:</p><p><span style=\"background-color:rgba(88,117,220,0.5298616412566498)\">[CLS]</span> the <span style=\"background-color:rgba(88,117,220,0.46540892782544724)\">music</span> was <span style=\"background-color:rgba(224,108,120,0.8530173162733783)\">soothing</span> , and the <span style=\"background-color:rgba(224,108,120,1.0)\">decorations</span> were <span style=\"background-color:rgba(88,117,220,0.4661374768019608)\">pleasant</span> . i <span style=\"background-color:rgba(224,108,120,0.49020633777823786)\">especially</span> <span style=\"background-color:rgba(88,117,220,0.4563918742629308)\">liked</span> the friendly <span style=\"background-color:rgba(224,108,120,0.8505353686917045)\">waiter</span> ##s and <span style=\"background-color:rgba(224,108,120,0.591674191395838)\">delicious</span> <span style=\"background-color:rgba(88,117,220,0.5686423971430367)\">pasta</span> [SEP]</p><p>Saliency for control:</p><p><span style=\"background-color:rgba(224,108,120,0.8556546030259364)\">[CLS]</span> the <span style=\"background-color:rgba(224,108,120,0.7270105188389)\">music</span> was <span style=\"background-color:rgba(224,108,120,0.939276390180519)\">soothing</span> , and the <span style=\"background-color:rgba(224,108,120,0.8599747834540777)\">decorations</span> were <span style=\"background-color:rgba(224,108,120,0.9754041728302886)\">pleasant</span> <span style=\"background-color:rgba(88,117,220,0.7777830547462159)\">.</span> i <span style=\"background-color:rgba(224,108,120,1.0)\">especially</span> <span style=\"background-color:rgba(224,108,120,0.7518467548730349)\">liked</span> the friendly waiter ##s and <span style=\"background-color:rgba(224,108,120,0.8477371868456712)\">delicious</span> <span style=\"background-color:rgba(224,108,120,0.6455564612306037)\">pasta</span> [SEP]</p></div>"
      ],
      "text/plain": [
       "<IPython.core.display.HTML object>"
      ]
     },
     "metadata": {},
     "output_type": "display_data"
    },
    {
     "name": "stdout",
     "output_type": "stream",
     "text": [
      "food\n"
     ]
    },
    {
     "data": {
      "text/html": [
       "<div style=\"background-color:#FFFFFF;color:black\"><p>Saliency for CPM:</p><p><span style=\"background-color:rgba(88,117,220,0.7160974324871323)\">[CLS]</span> the <span style=\"background-color:rgba(88,117,220,0.6571405172551411)\">music</span> was <span style=\"background-color:rgba(224,108,120,1.0)\">soothing</span> , and the <span style=\"background-color:rgba(224,108,120,0.9301030709604845)\">decorations</span> were <span style=\"background-color:rgba(224,108,120,0.6439158327080876)\">pleasant</span> . i <span style=\"background-color:rgba(224,108,120,0.7420248098075847)\">especially</span> <span style=\"background-color:rgba(224,108,120,0.7518271352186122)\">liked</span> the friendly <span style=\"background-color:rgba(224,108,120,0.7181462009954801)\">waiter</span> ##s and <span style=\"background-color:rgba(88,117,220,0.6583414044880795)\">delicious</span> <span style=\"background-color:rgba(224,108,120,0.8785234171370315)\">pasta</span> [SEP]</p><p>Saliency for control:</p><p><span style=\"background-color:rgba(224,108,120,0.9409127687711645)\">[CLS]</span> the <span style=\"background-color:rgba(224,108,120,0.8375393978868315)\">music</span> was <span style=\"background-color:rgba(224,108,120,0.9131634395397576)\">soothing</span> , and the <span style=\"background-color:rgba(88,117,220,0.7502826978530754)\">decorations</span> were <span style=\"background-color:rgba(224,108,120,0.9660323455014997)\">pleasant</span> <span style=\"background-color:rgba(88,117,220,0.8471502596277615)\">.</span> i <span style=\"background-color:rgba(224,108,120,1.0)\">especially</span> <span style=\"background-color:rgba(224,108,120,0.7456416941126489)\">liked</span> the friendly waiter ##s and <span style=\"background-color:rgba(224,108,120,0.8752135714005276)\">delicious</span> <span style=\"background-color:rgba(88,117,220,0.8856834236145804)\">pasta</span> [SEP]</p></div>"
      ],
      "text/plain": [
       "<IPython.core.display.HTML object>"
      ]
     },
     "metadata": {},
     "output_type": "display_data"
    },
    {
     "name": "stdout",
     "output_type": "stream",
     "text": [
      "noise\n"
     ]
    },
    {
     "data": {
      "text/html": [
       "<div style=\"background-color:#FFFFFF;color:black\"><p>Saliency for CPM:</p><p><span style=\"background-color:rgba(224,108,120,0.6595896490445521)\">[CLS]</span> the <span style=\"background-color:rgba(88,117,220,0.5803655835835241)\">music</span> was <span style=\"background-color:rgba(224,108,120,1.0)\">soothing</span> , and the <span style=\"background-color:rgba(224,108,120,0.81924816937086)\">decorations</span> were <span style=\"background-color:rgba(88,117,220,0.5886871319290518)\">pleasant</span> . i <span style=\"background-color:rgba(224,108,120,0.6067880560230654)\">especially</span> <span style=\"background-color:rgba(224,108,120,0.6168661163750839)\">liked</span> the friendly <span style=\"background-color:rgba(88,117,220,0.6883042297631832)\">waiter</span> ##s and <span style=\"background-color:rgba(224,108,120,0.8152292582656445)\">delicious</span> <span style=\"background-color:rgba(88,117,220,0.9140644991153382)\">pasta</span> [SEP]</p><p>Saliency for control:</p><p><span style=\"background-color:rgba(224,108,120,0.821791248854653)\">[CLS]</span> the music was <span style=\"background-color:rgba(224,108,120,0.7902753545114674)\">soothing</span> , <span style=\"background-color:rgba(88,117,220,0.44761000093246317)\">and</span> the <span style=\"background-color:rgba(88,117,220,0.6506654220455779)\">decorations</span> were <span style=\"background-color:rgba(224,108,120,0.7419461179524369)\">pleasant</span> <span style=\"background-color:rgba(88,117,220,0.9035016641817692)\">.</span> i <span style=\"background-color:rgba(224,108,120,1.0)\">especially</span> <span style=\"background-color:rgba(224,108,120,0.7007532325747915)\">liked</span> the friendly waiter ##s <span style=\"background-color:rgba(88,117,220,0.5929238220562345)\">and</span> <span style=\"background-color:rgba(224,108,120,0.6321240150231132)\">delicious</span> <span style=\"background-color:rgba(224,108,120,0.5852180022972111)\">pasta</span> [SEP]</p></div>"
      ],
      "text/plain": [
       "<IPython.core.display.HTML object>"
      ]
     },
     "metadata": {},
     "output_type": "display_data"
    },
    {
     "name": "stdout",
     "output_type": "stream",
     "text": [
      "service\n"
     ]
    },
    {
     "data": {
      "text/html": [
       "<div style=\"background-color:#FFFFFF;color:black\"><p>Saliency for CPM:</p><p><span style=\"background-color:rgba(224,108,120,0.582931911250477)\">[CLS]</span> the music was <span style=\"background-color:rgba(88,117,220,0.690836834772501)\">soothing</span> , and the <span style=\"background-color:rgba(224,108,120,0.818478208676408)\">decorations</span> were <span style=\"background-color:rgba(88,117,220,0.6241494908522716)\">pleasant</span> . i <span style=\"background-color:rgba(224,108,120,0.39364530139646153)\">especially</span> <span style=\"background-color:rgba(88,117,220,0.4662245599533055)\">liked</span> the <span style=\"background-color:rgba(88,117,220,0.4856010909622499)\">friendly</span> <span style=\"background-color:rgba(88,117,220,1.0)\">waiter</span> ##s and <span style=\"background-color:rgba(88,117,220,0.4031515620159326)\">delicious</span> <span style=\"background-color:rgba(224,108,120,0.5495322542035943)\">pasta</span> [SEP]</p><p>Saliency for control:</p><p><span style=\"background-color:rgba(224,108,120,0.7407533708546994)\">[CLS]</span> <span style=\"background-color:rgba(224,108,120,0.21266369062022933)\">the</span> music was <span style=\"background-color:rgba(224,108,120,0.41305882152929224)\">soothing</span> <span style=\"background-color:rgba(224,108,120,0.4213665168343563)\">,</span> and <span style=\"background-color:rgba(88,117,220,0.14868635508396144)\">the</span> <span style=\"background-color:rgba(88,117,220,0.47811904111292375)\">decorations</span> were <span style=\"background-color:rgba(88,117,220,0.5016825421408027)\">pleasant</span> <span style=\"background-color:rgba(224,108,120,1.0)\">.</span> i <span style=\"background-color:rgba(224,108,120,0.6156711889368806)\">especially</span> <span style=\"background-color:rgba(88,117,220,0.5158427440781242)\">liked</span> <span style=\"background-color:rgba(88,117,220,0.46549290164155355)\">the</span> friendly waiter ##s and delicious <span style=\"background-color:rgba(224,108,120,0.5026008141625163)\">pasta</span> [SEP]</p></div>"
      ],
      "text/plain": [
       "<IPython.core.display.HTML object>"
      ]
     },
     "metadata": {},
     "output_type": "display_data"
    }
   ],
   "source": [
    "example_sentence = 'The music was soothing, and the decorations were pleasant. I especially liked the friendly waiters and delicious pasta'\n",
    "aspects = ['ambiance', 'food', 'noise', 'service']\n",
    "\n",
    "for i, a in enumerate(aspects):\n",
    "    print(a)\n",
    "    explain_interventions_with_gradients(\n",
    "        example_sentence, \n",
    "        cpm_explainer, \n",
    "        i, \n",
    "        show_control=True,\n",
    "        normalize=False, \n",
    "        softmax_norm=False, \n",
    "        control_for_gradient=False, \n",
    "        saliency_fn=compute_guided_saliency,\n",
    "        grad_apply_fn=lambda x: x,\n",
    "        max_key_fn=np.abs,\n",
    "        display_fn=display_colored_text\n",
    "    )"
   ]
  },
  {
   "cell_type": "code",
   "execution_count": 27,
   "metadata": {},
   "outputs": [
    {
     "name": "stdout",
     "output_type": "stream",
     "text": [
      "ambiance\n"
     ]
    },
    {
     "data": {
      "text/html": [
       "<div style=\"background-color:#FFFFFF;color:black\"><p>Saliency for CPM:</p><p><span style=\"background-color:rgba(224,108,120,0.5455735215422927)\">[CLS]</span> the <span style=\"background-color:rgba(88,117,220,0.6153982994833748)\">music</span> was <span style=\"background-color:rgba(88,117,220,0.937661559189108)\">bother</span> <span style=\"background-color:rgba(224,108,120,0.5365651387686922)\">##some</span> , and there were <span style=\"background-color:rgba(224,108,120,0.5045729186014838)\">no</span> <span style=\"background-color:rgba(224,108,120,0.9273014888656889)\">decorations</span> whatsoever . not to mention , the <span style=\"background-color:rgba(224,108,120,0.4753857672060733)\">waiter</span> ##s were <span style=\"background-color:rgba(88,117,220,0.5616499755922628)\">rude</span> and the <span style=\"background-color:rgba(88,117,220,1.0)\">pasta</span> was <span style=\"background-color:rgba(88,117,220,0.5041930194248414)\">cold</span> [SEP]</p><p>Saliency for control:</p><p><span style=\"background-color:rgba(88,117,220,0.4096787696856597)\">[CLS]</span> the <span style=\"background-color:rgba(224,108,120,0.35140867716615254)\">music</span> was <span style=\"background-color:rgba(224,108,120,1.0)\">bother</span> <span style=\"background-color:rgba(88,117,220,0.6055982956405254)\">##some</span> , and there were <span style=\"background-color:rgba(224,108,120,0.5392544527961648)\">no</span> <span style=\"background-color:rgba(88,117,220,0.5823799101059602)\">decorations</span> <span style=\"background-color:rgba(88,117,220,0.3313651441830264)\">whatsoever</span> . not to mention , the <span style=\"background-color:rgba(224,108,120,0.2536051277445861)\">waiter</span> ##s were <span style=\"background-color:rgba(224,108,120,0.297665430208242)\">rude</span> and the pasta was <span style=\"background-color:rgba(224,108,120,0.3110813932040846)\">cold</span> [SEP]</p></div>"
      ],
      "text/plain": [
       "<IPython.core.display.HTML object>"
      ]
     },
     "metadata": {},
     "output_type": "display_data"
    },
    {
     "name": "stdout",
     "output_type": "stream",
     "text": [
      "food\n"
     ]
    },
    {
     "data": {
      "text/html": [
       "<div style=\"background-color:#FFFFFF;color:black\"><p>Saliency for CPM:</p><p><span style=\"background-color:rgba(224,108,120,0.5106922510261772)\">[CLS]</span> the <span style=\"background-color:rgba(224,108,120,0.45202975911100873)\">music</span> was <span style=\"background-color:rgba(88,117,220,1.0)\">bother</span> <span style=\"background-color:rgba(224,108,120,0.5892057694882415)\">##some</span> , and there were no <span style=\"background-color:rgba(224,108,120,0.4645609158192154)\">decorations</span> whatsoever . not to mention , the <span style=\"background-color:rgba(88,117,220,0.6348926483395468)\">waiter</span> ##s were <span style=\"background-color:rgba(224,108,120,0.46979859860225265)\">rude</span> and the <span style=\"background-color:rgba(88,117,220,0.751558023127441)\">pasta</span> was <span style=\"background-color:rgba(224,108,120,0.4039441155191452)\">cold</span> <span style=\"background-color:rgba(224,108,120,0.3721923729556596)\">[SEP]</span></p><p>Saliency for control:</p><p><span style=\"background-color:rgba(224,108,120,0.4108297258123924)\">[CLS]</span> the <span style=\"background-color:rgba(224,108,120,0.3302336070273922)\">music</span> was <span style=\"background-color:rgba(224,108,120,1.0)\">bother</span> <span style=\"background-color:rgba(88,117,220,0.5877081202507262)\">##some</span> , and there were <span style=\"background-color:rgba(224,108,120,0.547844976974118)\">no</span> <span style=\"background-color:rgba(88,117,220,0.6190529326594265)\">decorations</span> <span style=\"background-color:rgba(224,108,120,0.35026690196845023)\">whatsoever</span> . not to mention , the waiter ##s were <span style=\"background-color:rgba(224,108,120,0.2875213261734627)\">rude</span> and the <span style=\"background-color:rgba(88,117,220,0.2696888012948763)\">pasta</span> was <span style=\"background-color:rgba(224,108,120,0.26237937506614545)\">cold</span> [SEP]</p></div>"
      ],
      "text/plain": [
       "<IPython.core.display.HTML object>"
      ]
     },
     "metadata": {},
     "output_type": "display_data"
    },
    {
     "name": "stdout",
     "output_type": "stream",
     "text": [
      "noise\n"
     ]
    },
    {
     "data": {
      "text/html": [
       "<div style=\"background-color:#FFFFFF;color:black\"><p>Saliency for CPM:</p><p><span style=\"background-color:rgba(224,108,120,0.49066414945125186)\">[CLS]</span> the <span style=\"background-color:rgba(88,117,220,0.5063366110482839)\">music</span> was <span style=\"background-color:rgba(88,117,220,0.8178433004715414)\">bother</span> <span style=\"background-color:rgba(88,117,220,0.5899537150667844)\">##some</span> , and there were no <span style=\"background-color:rgba(224,108,120,0.7798334006097791)\">decorations</span> whatsoever . not to <span style=\"background-color:rgba(224,108,120,0.38212067972141023)\">mention</span> , the <span style=\"background-color:rgba(224,108,120,0.5712962363299766)\">waiter</span> ##s were <span style=\"background-color:rgba(224,108,120,0.43890736134129194)\">rude</span> and the <span style=\"background-color:rgba(88,117,220,1.0)\">pasta</span> was <span style=\"background-color:rgba(88,117,220,0.6280438217180087)\">cold</span> [SEP]</p><p>Saliency for control:</p><p><span style=\"background-color:rgba(88,117,220,0.46193489073253274)\">[CLS]</span> the <span style=\"background-color:rgba(224,108,120,0.37660601798031074)\">music</span> was <span style=\"background-color:rgba(224,108,120,1.0)\">bother</span> <span style=\"background-color:rgba(88,117,220,0.6396205669795669)\">##some</span> , and there were <span style=\"background-color:rgba(224,108,120,0.5946535829557)\">no</span> <span style=\"background-color:rgba(88,117,220,0.6395508422622053)\">decorations</span> <span style=\"background-color:rgba(88,117,220,0.36966283737843614)\">whatsoever</span> . not to mention , the waiter ##s were <span style=\"background-color:rgba(224,108,120,0.3215033729543055)\">rude</span> and the <span style=\"background-color:rgba(88,117,220,0.2612413802185068)\">pasta</span> was <span style=\"background-color:rgba(224,108,120,0.311583414003537)\">cold</span> [SEP]</p></div>"
      ],
      "text/plain": [
       "<IPython.core.display.HTML object>"
      ]
     },
     "metadata": {},
     "output_type": "display_data"
    },
    {
     "name": "stdout",
     "output_type": "stream",
     "text": [
      "service\n"
     ]
    },
    {
     "data": {
      "text/html": [
       "<div style=\"background-color:#FFFFFF;color:black\"><p>Saliency for CPM:</p><p><span style=\"background-color:rgba(224,108,120,0.44808938634112994)\">[CLS]</span> the <span style=\"background-color:rgba(224,108,120,0.3621656205838094)\">music</span> was <span style=\"background-color:rgba(88,117,220,0.3884872619882505)\">bother</span> ##some , and there were <span style=\"background-color:rgba(88,117,220,0.25029135845106903)\">no</span> <span style=\"background-color:rgba(224,108,120,0.4321294981269185)\">decorations</span> whatsoever . not to mention , the <span style=\"background-color:rgba(224,108,120,0.7399681417550933)\">waiter</span> ##s were <span style=\"background-color:rgba(88,117,220,0.2985443178494275)\">rude</span> and the <span style=\"background-color:rgba(224,108,120,1.0)\">pasta</span> was <span style=\"background-color:rgba(224,108,120,0.515049108920661)\">cold</span> <span style=\"background-color:rgba(88,117,220,0.5455386122633098)\">[SEP]</span></p><p>Saliency for control:</p><p><span style=\"background-color:rgba(88,117,220,0.4655118149189366)\">[CLS]</span> the <span style=\"background-color:rgba(224,108,120,0.343240397037684)\">music</span> was <span style=\"background-color:rgba(224,108,120,1.0)\">bother</span> <span style=\"background-color:rgba(88,117,220,0.6437851979729606)\">##some</span> , and there were <span style=\"background-color:rgba(224,108,120,0.5866899348581618)\">no</span> <span style=\"background-color:rgba(88,117,220,0.6416157746056007)\">decorations</span> <span style=\"background-color:rgba(224,108,120,0.3885491441035719)\">whatsoever</span> . not to mention , the <span style=\"background-color:rgba(224,108,120,0.26895234569754534)\">waiter</span> ##s were <span style=\"background-color:rgba(224,108,120,0.31154641355969215)\">rude</span> and the pasta was <span style=\"background-color:rgba(224,108,120,0.2778966680768601)\">cold</span> [SEP]</p></div>"
      ],
      "text/plain": [
       "<IPython.core.display.HTML object>"
      ]
     },
     "metadata": {},
     "output_type": "display_data"
    }
   ],
   "source": [
    "example_sentence = 'The music was bothersome, and there were no decorations whatsoever. Not to mention, the waiters were rude and the pasta was cold'\n",
    "aspects = ['ambiance', 'food', 'noise', 'service']\n",
    "\n",
    "for i, a in enumerate(aspects):\n",
    "    print(a)\n",
    "    explain_interventions_with_gradients(\n",
    "        example_sentence, \n",
    "        cpm_explainer, \n",
    "        i, \n",
    "        show_control=True,\n",
    "        normalize=True, \n",
    "        softmax_norm=False, \n",
    "        control_for_gradient=False, \n",
    "        saliency_fn=compute_guided_saliency,\n",
    "        grad_apply_fn=lambda x: x,\n",
    "        max_key_fn=np.abs,\n",
    "        display_fn=display_colored_text\n",
    "    )"
   ]
  },
  {
   "cell_type": "markdown",
   "metadata": {},
   "source": [
    "## Integrated Gradients\n",
    "\n",
    "Running gradient-based visualizations for the CPM model, using `captum.ai`'s implementation of integrated gradients."
   ]
  },
  {
   "cell_type": "code",
   "execution_count": 29,
   "metadata": {},
   "outputs": [],
   "source": [
    "from captum.attr import visualization as viz\n",
    "import torch.nn.functional as F"
   ]
  },
  {
   "cell_type": "markdown",
   "metadata": {},
   "source": [
    "Slightly modifying `LayerIntegratedGradients` to give us the opportunity of running gradients through the hidden layer of the CPM.\n",
    "This requires modifying the `_run_forward()` function so that it can return the hidden layers, and modifying the `gradient_func` used in the integrated gradients computation so that it computes the gradient through the aspect representations that we specify. \n",
    "Note that, at least with this implementation, computing the convergence delta won't work (but I don't think it should take too many changes to fix this)."
   ]
  },
  {
   "cell_type": "code",
   "execution_count": 78,
   "metadata": {},
   "outputs": [],
   "source": [
    "#!/usr/bin/env python3\n",
    "import functools\n",
    "import warnings\n",
    "from typing import Any, Callable, List, overload, Tuple, Union\n",
    "\n",
    "from captum._utils.common import (\n",
    "    _extract_device,\n",
    "    _format_additional_forward_args,\n",
    "    _format_outputs,\n",
    ")\n",
    "from captum._utils.gradient import _forward_layer_eval #, _run_forward\n",
    "#################### IMPORT MODULES ###########################\n",
    "from inspect import signature\n",
    "from captum._utils.common import _select_targets, _format_input\n",
    "###############################################################\n",
    "from captum._utils.typing import BaselineType, Literal, ModuleOrModuleList, TargetType\n",
    "from captum.attr._core.integrated_gradients import IntegratedGradients\n",
    "from captum.attr._utils.attribution import GradientAttribution, LayerAttribution\n",
    "from captum.attr._utils.common import (\n",
    "    _format_input_baseline,\n",
    "    _tensorize_baseline,\n",
    "    _validate_input,\n",
    ")\n",
    "from captum.log import log_usage\n",
    "from torch import Tensor\n",
    "from torch.nn.parallel.scatter_gather import scatter\n",
    "\n",
    "############### A FEW CONSTANTS (SHOULD LATER INTEGRATE AS ARGUMENTS) ####################\n",
    "INTERVENTION_H_DIM = 192\n",
    "MODEL_H_DIM = 768\n",
    "INTERCHANGE_LAYER = interchange_layer\n",
    "CONTROL = False\n",
    "\n",
    "####################### OVERRIDE RUN FORWARD FUNCTION ####################################\n",
    "def _run_forward(\n",
    "    forward_func: Callable,\n",
    "    inputs: Union[Tensor, Tuple[Tensor, ...]],\n",
    "    target: TargetType = None,\n",
    "    additional_forward_args: Any = None,\n",
    ") -> Tensor:\n",
    "    forward_func_args = signature(forward_func).parameters\n",
    "    if len(forward_func_args) == 0:\n",
    "        output = forward_func()\n",
    "        return output if target is None else _select_targets(output, target)\n",
    "\n",
    "    # make everything a tuple so that it is easy to unpack without\n",
    "    # using if-statements\n",
    "    inputs = _format_input(inputs)\n",
    "    additional_forward_args = _format_additional_forward_args(additional_forward_args)\n",
    "\n",
    "    output = forward_func(\n",
    "        *(*inputs, *additional_forward_args)\n",
    "        if additional_forward_args is not None\n",
    "        else inputs,\n",
    "    )\n",
    "    if CONTROL:\n",
    "        logits = output.logits # take first logit for overall sentiment\n",
    "    else:\n",
    "        logits = output.logits[0] # take first logit for overall sentiment\n",
    "    final_activation = output.hidden_states[INTERCHANGE_LAYER]\n",
    "    return _select_targets(logits, target), final_activation\n",
    "#########################################################################################\n",
    "\n",
    "\n",
    "class LayerIntegratedGradients(LayerAttribution, GradientAttribution):\n",
    "    r\"\"\"\n",
    "    Layer Integrated Gradients is a variant of Integrated Gradients that assigns\n",
    "    an importance score to layer inputs or outputs, depending on whether we\n",
    "    attribute to the former or to the latter one.\n",
    "\n",
    "    Integrated Gradients is an axiomatic model interpretability algorithm that\n",
    "    attributes / assigns an importance score to each input feature by approximating\n",
    "    the integral of gradients of the model's output with respect to the inputs\n",
    "    along the path (straight line) from given baselines / references to inputs.\n",
    "\n",
    "    Baselines can be provided as input arguments to attribute method.\n",
    "    To approximate the integral we can choose to use either a variant of\n",
    "    Riemann sum or Gauss-Legendre quadrature rule.\n",
    "\n",
    "    More details regarding the integrated gradients method can be found in the\n",
    "    original paper:\n",
    "    https://arxiv.org/abs/1703.01365\n",
    "\n",
    "    \"\"\"\n",
    "\n",
    "    def __init__(\n",
    "        self,\n",
    "        forward_func: Callable,\n",
    "        layer: ModuleOrModuleList,\n",
    "        device_ids: Union[None, List[int]] = None,\n",
    "        multiply_by_inputs: bool = True,\n",
    "    ) -> None:\n",
    "        r\"\"\"\n",
    "        Args:\n",
    "            forward_func (callable):  The forward function of the model or any\n",
    "                        modification of it\n",
    "            layer (ModuleOrModuleList):\n",
    "                        Layer or list of layers for which attributions are computed.\n",
    "                        For each layer the output size of the attribute matches\n",
    "                        this layer's input or output dimensions, depending on\n",
    "                        whether we attribute to the inputs or outputs of the\n",
    "                        layer, corresponding to the attribution of each neuron\n",
    "                        in the input or output of this layer.\n",
    "\n",
    "                        Please note that layers to attribute on cannot be\n",
    "                        dependent on each other. That is, a subset of layers in\n",
    "                        `layer` cannot produce the inputs for another layer.\n",
    "\n",
    "                        For example, if your model is of a simple linked-list\n",
    "                        based graph structure (think nn.Sequence), e.g. x -> l1\n",
    "                        -> l2 -> l3 -> output. If you pass in any one of those\n",
    "                        layers, you cannot pass in another due to the\n",
    "                        dependence, e.g.  if you pass in l2 you cannot pass in\n",
    "                        l1 or l3.\n",
    "\n",
    "            device_ids (list(int)): Device ID list, necessary only if forward_func\n",
    "                        applies a DataParallel model. This allows reconstruction of\n",
    "                        intermediate outputs from batched results across devices.\n",
    "                        If forward_func is given as the DataParallel model itself,\n",
    "                        then it is not necessary to provide this argument.\n",
    "            multiply_by_inputs (bool, optional): Indicates whether to factor\n",
    "                        model inputs' multiplier in the final attribution scores.\n",
    "                        In the literature this is also known as local vs global\n",
    "                        attribution. If inputs' multiplier isn't factored in,\n",
    "                        then this type of attribution method is also called local\n",
    "                        attribution. If it is, then that type of attribution\n",
    "                        method is called global.\n",
    "                        More detailed can be found here:\n",
    "                        https://arxiv.org/abs/1711.06104\n",
    "\n",
    "                        In case of layer integrated gradients, if `multiply_by_inputs`\n",
    "                        is set to True, final sensitivity scores are being multiplied by\n",
    "                        layer activations for inputs - layer activations for baselines.\n",
    "\n",
    "        \"\"\"\n",
    "        LayerAttribution.__init__(self, forward_func, layer, device_ids=device_ids)\n",
    "        GradientAttribution.__init__(self, forward_func)\n",
    "        self.ig = IntegratedGradients(forward_func, multiply_by_inputs)\n",
    "\n",
    "        if isinstance(layer, list) and len(layer) > 1:\n",
    "            warnings.warn(\n",
    "                \"Multiple layers provided. Please ensure that each layer is\"\n",
    "                \"**not** solely solely dependent on the outputs of\"\n",
    "                \"another layer. Please refer to the documentation for more\"\n",
    "                \"detail.\"\n",
    "            )\n",
    "\n",
    "    @overload\n",
    "    def attribute(\n",
    "        self,\n",
    "        inputs: Union[Tensor, Tuple[Tensor, ...]],\n",
    "        baselines: BaselineType,\n",
    "        target: TargetType,\n",
    "        additional_forward_args: Any,\n",
    "        n_steps: int,\n",
    "        method: str,\n",
    "        internal_batch_size: Union[None, int],\n",
    "        return_convergence_delta: Literal[False],\n",
    "        attribute_to_layer_input: bool,\n",
    "    ) -> Union[Tensor, Tuple[Tensor, ...], List[Union[Tensor, Tuple[Tensor, ...]]]]:\n",
    "        ...\n",
    "\n",
    "    @overload\n",
    "    def attribute(\n",
    "        self,\n",
    "        inputs: Union[Tensor, Tuple[Tensor, ...]],\n",
    "        baselines: BaselineType,\n",
    "        target: TargetType,\n",
    "        additional_forward_args: Any,\n",
    "        n_steps: int,\n",
    "        method: str,\n",
    "        internal_batch_size: Union[None, int],\n",
    "        return_convergence_delta: Literal[True],\n",
    "        attribute_to_layer_input: bool,\n",
    "    ) -> Tuple[\n",
    "        Union[Tensor, Tuple[Tensor, ...], List[Union[Tensor, Tuple[Tensor, ...]]]],\n",
    "        Tensor,\n",
    "    ]:\n",
    "        ...\n",
    "\n",
    "    @overload\n",
    "    def attribute(\n",
    "        self,\n",
    "        inputs: Union[Tensor, Tuple[Tensor, ...]],\n",
    "        baselines: BaselineType = None,\n",
    "        target: TargetType = None,\n",
    "        additional_forward_args: Any = None,\n",
    "        n_steps: int = 50,\n",
    "        method: str = \"gausslegendre\",\n",
    "        internal_batch_size: Union[None, int] = None,\n",
    "        return_convergence_delta: bool = False,\n",
    "        attribute_to_layer_input: bool = False,\n",
    "    ) -> Union[\n",
    "        Union[Tensor, Tuple[Tensor, ...], List[Union[Tensor, Tuple[Tensor, ...]]]],\n",
    "        Tuple[\n",
    "            Union[Tensor, Tuple[Tensor, ...], List[Union[Tensor, Tuple[Tensor, ...]]]],\n",
    "            Tensor,\n",
    "        ],\n",
    "    ]:\n",
    "        ...\n",
    "\n",
    "    @log_usage()\n",
    "    def attribute(\n",
    "        self,\n",
    "        inputs: Union[Tensor, Tuple[Tensor, ...]],\n",
    "        baselines: BaselineType = None,\n",
    "        target: TargetType = None,\n",
    "        additional_forward_args: Any = None,\n",
    "        n_steps: int = 50,\n",
    "        method: str = \"gausslegendre\",\n",
    "        internal_batch_size: Union[None, int] = None,\n",
    "        return_convergence_delta: bool = False,\n",
    "        attribute_to_layer_input: bool = False,\n",
    "        ############## NEW ARGUMENT: ASPECT OF INTEREST ############################\n",
    "        aspect: Union[int, None] = None\n",
    "        ############################################################################\n",
    "    ) -> Union[\n",
    "        Union[Tensor, Tuple[Tensor, ...], List[Union[Tensor, Tuple[Tensor, ...]]]],\n",
    "        Tuple[\n",
    "            Union[Tensor, Tuple[Tensor, ...], List[Union[Tensor, Tuple[Tensor, ...]]]],\n",
    "            Tensor,\n",
    "        ],\n",
    "    ]:\n",
    "        r\"\"\"\n",
    "        This method attributes the output of the model with given target index\n",
    "        (in case it is provided, otherwise it assumes that output is a\n",
    "        scalar) to layer inputs or outputs of the model, depending on whether\n",
    "        `attribute_to_layer_input` is set to True or False, using the approach\n",
    "        described above.\n",
    "\n",
    "        In addition to that it also returns, if `return_convergence_delta` is\n",
    "        set to True, integral approximation delta based on the completeness\n",
    "        property of integrated gradients.\n",
    "\n",
    "        Args:\n",
    "\n",
    "            inputs (tensor or tuple of tensors):  Input for which layer integrated\n",
    "                        gradients are computed. If forward_func takes a single\n",
    "                        tensor as input, a single input tensor should be provided.\n",
    "                        If forward_func takes multiple tensors as input, a tuple\n",
    "                        of the input tensors should be provided. It is assumed\n",
    "                        that for all given input tensors, dimension 0 corresponds\n",
    "                        to the number of examples, and if multiple input tensors\n",
    "                        are provided, the examples must be aligned appropriately.\n",
    "            baselines (scalar, tensor, tuple of scalars or tensors, optional):\n",
    "                        Baselines define the starting point from which integral\n",
    "                        is computed and can be provided as:\n",
    "\n",
    "                        - a single tensor, if inputs is a single tensor, with\n",
    "                          exactly the same dimensions as inputs or the first\n",
    "                          dimension is one and the remaining dimensions match\n",
    "                          with inputs.\n",
    "\n",
    "                        - a single scalar, if inputs is a single tensor, which will\n",
    "                          be broadcasted for each input value in input tensor.\n",
    "\n",
    "                        - a tuple of tensors or scalars, the baseline corresponding\n",
    "                          to each tensor in the inputs' tuple can be:\n",
    "                            - either a tensor with matching dimensions to\n",
    "                              corresponding tensor in the inputs' tuple\n",
    "                              or the first dimension is one and the remaining\n",
    "                              dimensions match with the corresponding\n",
    "                              input tensor.\n",
    "                            - or a scalar, corresponding to a tensor in the\n",
    "                              inputs' tuple. This scalar value is broadcasted\n",
    "                              for corresponding input tensor.\n",
    "\n",
    "                        In the cases when `baselines` is not provided, we internally\n",
    "                        use zero scalar corresponding to each input tensor.\n",
    "\n",
    "                        Default: None\n",
    "            target (int, tuple, tensor or list, optional):  Output indices for\n",
    "                        which gradients are computed (for classification cases,\n",
    "                        this is usually the target class).\n",
    "                        If the network returns a scalar value per example,\n",
    "                        no target index is necessary.\n",
    "                        For general 2D outputs, targets can be either:\n",
    "\n",
    "                        - a single integer or a tensor containing a single\n",
    "                          integer, which is applied to all input examples\n",
    "\n",
    "                        - a list of integers or a 1D tensor, with length matching\n",
    "                          the number of examples in inputs (dim 0). Each integer\n",
    "                          is applied as the target for the corresponding example.\n",
    "\n",
    "                        For outputs with > 2 dimensions, targets can be either:\n",
    "\n",
    "                        - A single tuple, which contains #output_dims - 1\n",
    "                          elements. This target index is applied to all examples.\n",
    "\n",
    "                        - A list of tuples with length equal to the number of\n",
    "                          examples in inputs (dim 0), and each tuple containing\n",
    "                          #output_dims - 1 elements. Each tuple is applied as the\n",
    "                          target for the corresponding example.\n",
    "\n",
    "                        Default: None\n",
    "            additional_forward_args (any, optional): If the forward function\n",
    "                        requires additional arguments other than the inputs for\n",
    "                        which attributions should not be computed, this argument\n",
    "                        can be provided. It must be either a single additional\n",
    "                        argument of a Tensor or arbitrary (non-tuple) type or a\n",
    "                        tuple containing multiple additional arguments including\n",
    "                        tensors or any arbitrary python types. These arguments\n",
    "                        are provided to forward_func in order following the\n",
    "                        arguments in inputs.\n",
    "                        For a tensor, the first dimension of the tensor must\n",
    "                        correspond to the number of examples. It will be\n",
    "                        repeated for each of `n_steps` along the integrated\n",
    "                        path. For all other types, the given argument is used\n",
    "                        for all forward evaluations.\n",
    "                        Note that attributions are not computed with respect\n",
    "                        to these arguments.\n",
    "                        Default: None\n",
    "            n_steps (int, optional): The number of steps used by the approximation\n",
    "                        method. Default: 50.\n",
    "            method (string, optional): Method for approximating the integral,\n",
    "                        one of `riemann_right`, `riemann_left`, `riemann_middle`,\n",
    "                        `riemann_trapezoid` or `gausslegendre`.\n",
    "                        Default: `gausslegendre` if no method is provided.\n",
    "            internal_batch_size (int, optional): Divides total #steps * #examples\n",
    "                        data points into chunks of size at most internal_batch_size,\n",
    "                        which are computed (forward / backward passes)\n",
    "                        sequentially. internal_batch_size must be at least equal to\n",
    "                        #examples.\n",
    "                        For DataParallel models, each batch is split among the\n",
    "                        available devices, so evaluations on each available\n",
    "                        device contain internal_batch_size / num_devices examples.\n",
    "                        If internal_batch_size is None, then all evaluations are\n",
    "                        processed in one batch.\n",
    "                        Default: None\n",
    "            return_convergence_delta (bool, optional): Indicates whether to return\n",
    "                        convergence delta or not. If `return_convergence_delta`\n",
    "                        is set to True convergence delta will be returned in\n",
    "                        a tuple following attributions.\n",
    "                        Default: False\n",
    "            attribute_to_layer_input (bool, optional): Indicates whether to\n",
    "                        compute the attribution with respect to the layer input\n",
    "                        or output. If `attribute_to_layer_input` is set to True\n",
    "                        then the attributions will be computed with respect to\n",
    "                        layer input, otherwise it will be computed with respect\n",
    "                        to layer output.\n",
    "                        Note that currently it is assumed that either the input\n",
    "                        or the output of internal layer, depending on whether we\n",
    "                        attribute to the input or output, is a single tensor.\n",
    "                        Support for multiple tensors will be added later.\n",
    "                        Default: False\n",
    "            Returns:\n",
    "                **attributions** or 2-element tuple of **attributions**, **delta**:\n",
    "                - **attributions** (*tensor*, tuple of *tensors* or tuple of *tensors*):\n",
    "                        Integrated gradients with respect to `layer`'s inputs or\n",
    "                        outputs. Attributions will always be the same size and\n",
    "                        dimensionality as the input or output of the given layer,\n",
    "                        depending on whether we attribute to the inputs or outputs\n",
    "                        of the layer which is decided by the input flag\n",
    "                        `attribute_to_layer_input`.\n",
    "\n",
    "                        For a single layer, attributions are returned in a tuple if\n",
    "                        the layer inputs / outputs contain multiple tensors,\n",
    "                        otherwise a single tensor is returned.\n",
    "\n",
    "                        For multiple layers, attributions will always be\n",
    "                        returned as a list. Each element in this list will be\n",
    "                        equivalent to that of a single layer output, i.e. in the\n",
    "                        case that one layer, in the given layers, inputs / outputs\n",
    "                        multiple tensors: the corresponding output element will be\n",
    "                        a tuple of tensors. The ordering of the outputs will be\n",
    "                        the same order as the layers given in the constructor.\n",
    "                - **delta** (*tensor*, returned if return_convergence_delta=True):\n",
    "                        The difference between the total approximated and true\n",
    "                        integrated gradients. This is computed using the property\n",
    "                        that the total sum of forward_func(inputs) -\n",
    "                        forward_func(baselines) must equal the total sum of the\n",
    "                        integrated gradient.\n",
    "                        Delta is calculated per example, meaning that the number of\n",
    "                        elements in returned delta tensor is equal to the number of\n",
    "                        of examples in inputs.\n",
    "\n",
    "            Examples::\n",
    "\n",
    "                >>> # ImageClassifier takes a single input tensor of images Nx3x32x32,\n",
    "                >>> # and returns an Nx10 tensor of class probabilities.\n",
    "                >>> # It contains an attribute conv1, which is an instance of nn.conv2d,\n",
    "                >>> # and the output of this layer has dimensions Nx12x32x32.\n",
    "                >>> net = ImageClassifier()\n",
    "                >>> lig = LayerIntegratedGradients(net, net.conv1)\n",
    "                >>> input = torch.randn(2, 3, 32, 32, requires_grad=True)\n",
    "                >>> # Computes layer integrated gradients for class 3.\n",
    "                >>> # attribution size matches layer output, Nx12x32x32\n",
    "                >>> attribution = lig.attribute(input, target=3)\n",
    "        \"\"\"\n",
    "        inps, baselines = _format_input_baseline(inputs, baselines)\n",
    "        _validate_input(inps, baselines, n_steps, method)\n",
    "\n",
    "        baselines = _tensorize_baseline(inps, baselines)\n",
    "        additional_forward_args = _format_additional_forward_args(\n",
    "            additional_forward_args\n",
    "        )\n",
    "\n",
    "        def flatten_tuple(tup):\n",
    "            return tuple(\n",
    "                sum((list(x) if isinstance(x, (tuple, list)) else [x] for x in tup), [])\n",
    "            )\n",
    "\n",
    "        if self.device_ids is None:\n",
    "            self.device_ids = getattr(self.forward_func, \"device_ids\", None)\n",
    "\n",
    "        inputs_layer = _forward_layer_eval(\n",
    "            self.forward_func,\n",
    "            inps,\n",
    "            self.layer,\n",
    "            device_ids=self.device_ids,\n",
    "            additional_forward_args=additional_forward_args,\n",
    "            attribute_to_layer_input=attribute_to_layer_input,\n",
    "        )\n",
    "\n",
    "        # if we have one output\n",
    "        if not isinstance(self.layer, list):\n",
    "            inputs_layer = (inputs_layer,)\n",
    "\n",
    "        num_outputs = [1 if isinstance(x, Tensor) else len(x) for x in inputs_layer]\n",
    "        num_outputs_cumsum = torch.cumsum(\n",
    "            torch.IntTensor([0] + num_outputs), dim=0  # type: ignore\n",
    "        )\n",
    "        inputs_layer = flatten_tuple(inputs_layer)\n",
    "\n",
    "        baselines_layer = _forward_layer_eval(\n",
    "            self.forward_func,\n",
    "            baselines,\n",
    "            self.layer,\n",
    "            device_ids=self.device_ids,\n",
    "            additional_forward_args=additional_forward_args,\n",
    "            attribute_to_layer_input=attribute_to_layer_input,\n",
    "        )\n",
    "        baselines_layer = flatten_tuple(baselines_layer)\n",
    "\n",
    "        # inputs -> these inputs are scaled\n",
    "        def gradient_func(\n",
    "            forward_fn: Callable,\n",
    "            inputs: Union[Tensor, Tuple[Tensor, ...]],\n",
    "            target_ind: TargetType = None,\n",
    "            additional_forward_args: Any = None,\n",
    "        ) -> Tuple[Tensor, ...]:\n",
    "            if self.device_ids is None or len(self.device_ids) == 0:\n",
    "                scattered_inputs = (inputs,)\n",
    "            else:\n",
    "                # scatter method does not have a precise enough return type in its\n",
    "                # stub, so suppress the type warning.\n",
    "                scattered_inputs = scatter(  # type:ignore\n",
    "                    inputs, target_gpus=self.device_ids\n",
    "                )\n",
    "\n",
    "            scattered_inputs_dict = {\n",
    "                scattered_input[0].device: scattered_input\n",
    "                for scattered_input in scattered_inputs\n",
    "            }\n",
    "\n",
    "            with torch.autograd.set_grad_enabled(True):\n",
    "\n",
    "                def layer_forward_hook(\n",
    "                    module, hook_inputs, hook_outputs=None, layer_idx=0\n",
    "                ):\n",
    "                    device = _extract_device(module, hook_inputs, hook_outputs)\n",
    "                    is_layer_tuple = (\n",
    "                        isinstance(hook_outputs, tuple)\n",
    "                        # hook_outputs is None if attribute_to_layer_input == True\n",
    "                        if hook_outputs is not None\n",
    "                        else isinstance(hook_inputs, tuple)\n",
    "                    )\n",
    "\n",
    "                    if is_layer_tuple:\n",
    "                        return scattered_inputs_dict[device][\n",
    "                            num_outputs_cumsum[layer_idx] : num_outputs_cumsum[\n",
    "                                layer_idx + 1\n",
    "                            ]\n",
    "                        ]\n",
    "\n",
    "                    return scattered_inputs_dict[device][num_outputs_cumsum[layer_idx]]\n",
    "\n",
    "                hooks = []\n",
    "                try:\n",
    "\n",
    "                    layers = self.layer\n",
    "                    if not isinstance(layers, list):\n",
    "                        layers = [self.layer]\n",
    "\n",
    "                    for layer_idx, layer in enumerate(layers):\n",
    "                        hook = None\n",
    "                        # TODO:\n",
    "                        # Allow multiple attribute_to_layer_input flags for\n",
    "                        # each layer, i.e. attribute_to_layer_input[layer_idx]\n",
    "                        if attribute_to_layer_input:\n",
    "                            hook = layer.register_forward_pre_hook(\n",
    "                                functools.partial(\n",
    "                                    layer_forward_hook, layer_idx=layer_idx\n",
    "                                )\n",
    "                            )\n",
    "                        else:\n",
    "                            hook = layer.register_forward_hook(\n",
    "                                functools.partial(\n",
    "                                    layer_forward_hook, layer_idx=layer_idx\n",
    "                                )\n",
    "                            )\n",
    "\n",
    "                        hooks.append(hook)\n",
    "\n",
    "                    output = _run_forward(\n",
    "                        self.forward_func, tuple(), target_ind, additional_forward_args\n",
    "                    )\n",
    "                finally:\n",
    "                    for hook in hooks:\n",
    "                        if hook is not None:\n",
    "                            hook.remove()\n",
    "\n",
    "                # assert output[0].numel() == 1, (\n",
    "                #     \"Target not provided when necessary, cannot\"\n",
    "                #     \" take gradient with respect to multiple outputs.\"\n",
    "                # )\n",
    "                # torch.unbind(forward_out) is a list of scalar tensor tuples and\n",
    "                # contains batch_size * #steps elements\n",
    "                # grads = torch.autograd.grad(torch.unbind(output), inputs)\n",
    "\n",
    "                ##################### TAKE GRADIENT THROUGH ACTIVATION #########################\n",
    "                model_output, final_layer_activation = output\n",
    "\n",
    "                # get aspect representation\n",
    "                if aspect is not None:\n",
    "                    start_idx = aspect * INTERVENTION_H_DIM\n",
    "                    end_idx = (aspect+1) * INTERVENTION_H_DIM\n",
    "                else:\n",
    "                    start_idx = 0\n",
    "                    # end_idx = model_output.hidden_states[-1].size(2)\n",
    "                    end_idx = MODEL_H_DIM\n",
    "\n",
    "                # compute backwards gradient from output logits to final layer\n",
    "                final_layer_gradient = torch.autograd.grad(\n",
    "                    outputs=torch.unbind(model_output),\n",
    "                    inputs=final_layer_activation,\n",
    "                    retain_graph=True\n",
    "                )\n",
    "\n",
    "                final_layer_gradient = torch.stack(final_layer_gradient).squeeze(0).clone().detach()\n",
    "\n",
    "                # reset gradients ??\n",
    "\n",
    "                # compute backwards gradient from final layer to input layer,\n",
    "                # guided by the gradient from the logits to the final layer\n",
    "                mask = torch.zeros_like(final_layer_activation)\n",
    "                mask[:, 0, start_idx:end_idx] = final_layer_gradient[:, 0, start_idx:end_idx]\n",
    "\n",
    "                grads = torch.autograd.grad(\n",
    "                    outputs=torch.unbind(final_layer_activation),\n",
    "                    inputs=inputs,\n",
    "                    grad_outputs=torch.unbind(mask)\n",
    "                )\n",
    "                ###############################################################################\n",
    "\n",
    "            return grads\n",
    "\n",
    "        self.ig.gradient_func = gradient_func\n",
    "        all_inputs = (\n",
    "            (inps + additional_forward_args)\n",
    "            if additional_forward_args is not None\n",
    "            else inps\n",
    "        )\n",
    "\n",
    "        attributions = self.ig.attribute.__wrapped__(  # type: ignore\n",
    "            self.ig,  # self\n",
    "            inputs_layer,\n",
    "            baselines=baselines_layer,\n",
    "            target=target,\n",
    "            additional_forward_args=all_inputs,\n",
    "            n_steps=n_steps,\n",
    "            method=method,\n",
    "            internal_batch_size=internal_batch_size,\n",
    "            return_convergence_delta=False,\n",
    "        )\n",
    "\n",
    "        # handle multiple outputs\n",
    "        output: List[Tuple[Tensor, ...]] = [\n",
    "            tuple(\n",
    "                attributions[\n",
    "                    int(num_outputs_cumsum[i]) : int(num_outputs_cumsum[i + 1])\n",
    "                ]\n",
    "            )\n",
    "            for i in range(len(num_outputs))\n",
    "        ]\n",
    "\n",
    "        if return_convergence_delta:\n",
    "            start_point, end_point = baselines, inps\n",
    "            # computes approximation error based on the completeness axiom\n",
    "            delta = self.compute_convergence_delta(\n",
    "                attributions,\n",
    "                start_point,\n",
    "                end_point,\n",
    "                additional_forward_args=additional_forward_args,\n",
    "                target=target,\n",
    "            )\n",
    "            return _format_outputs(isinstance(self.layer, list), output), delta\n",
    "        return _format_outputs(isinstance(self.layer, list), output)\n",
    "\n",
    "\n",
    "    def has_convergence_delta(self) -> bool:\n",
    "        return True\n",
    "\n",
    "    @property\n",
    "    def multiplies_by_inputs(self):\n",
    "        return self.ig.multiplies_by_inputs"
   ]
  },
  {
   "cell_type": "markdown",
   "metadata": {},
   "source": [
    "Code taken from CS 224u that uses `LayerIntegratedGradients` to compute integrated gradients for a BERT model.\n",
    "Note that we will need to modify this code slightly for other models."
   ]
  },
  {
   "cell_type": "code",
   "execution_count": 79,
   "metadata": {},
   "outputs": [],
   "source": [
    "def hf_predict_one_proba(text, tokenizer, model):\n",
    "    input_ids = tokenizer.encode(\n",
    "        text, add_special_tokens=True, return_tensors='pt').to(model.device)\n",
    "    model.eval()\n",
    "    with torch.no_grad():\n",
    "        logits = model(input_ids).logits\n",
    "        # case when cpm returns multiple predictions, take the first\n",
    "        # (corresponding to overall sentiment)\n",
    "        if isinstance(logits, tuple):\n",
    "            logits = logits[0]\n",
    "        preds = F.softmax(logits, dim=1)\n",
    "    model.train()\n",
    "    return preds.squeeze(0)\n",
    "\n",
    "\n",
    "def hf_ig_encodings(text, tokenizer):\n",
    "    pad_id = tokenizer.pad_token_id\n",
    "    cls_id = tokenizer.cls_token_id\n",
    "    sep_id = tokenizer.sep_token_id\n",
    "    input_ids = tokenizer.encode(text, add_special_tokens=False)\n",
    "    base_ids = [pad_id] * len(input_ids)\n",
    "    input_ids = [cls_id] + input_ids + [sep_id]\n",
    "    base_ids = [cls_id] + base_ids + [sep_id]\n",
    "    return torch.LongTensor([input_ids]), torch.LongTensor([base_ids])"
   ]
  },
  {
   "cell_type": "code",
   "execution_count": 80,
   "metadata": {},
   "outputs": [],
   "source": [
    "ASPECTS = ['ambiance', 'food', 'noise', 'service']\n",
    "asp_to_ind = {\n",
    "    'overall': None,\n",
    "    **({a: i for i, a in enumerate(ASPECTS)})\n",
    "}"
   ]
  },
  {
   "cell_type": "code",
   "execution_count": 176,
   "metadata": {},
   "outputs": [],
   "source": [
    "def hf_ig_analyses(inputs, targets, tokenizer, model):\n",
    "    data = []\n",
    "    for text, true_class in zip(inputs, targets):\n",
    "        # create visualization for each aspect \n",
    "        for aspect, _ in enumerate(ASPECTS):\n",
    "            score_vis = hf_ig_analysis_one(text, true_class, tokenizer, model, aspect=aspect)\n",
    "            data.append(score_vis)\n",
    "    html = viz.visualize_text(data)\n",
    "\n",
    "def hf_ig_analysis_one(text, true_class, tokenizer, model, device=0, aspect=None):\n",
    "    # Option to look at different layers:\n",
    "    # layer = model.roberta.encoder.layer[0]\n",
    "    # layer = model.roberta.embeddings.word_embeddings\n",
    "    layer = model.bert.embeddings\n",
    "\n",
    "    def ig_forward(inputs):\n",
    "        # logits at first index, cpm returns multiple logits\n",
    "        # logits = model(inputs).logits\n",
    "        # return logits[pred_ind] if isinstance(logits, tuple) else logits\n",
    "        return model(inputs, output_hidden_states=True)\n",
    "\n",
    "    ig = LayerIntegratedGradients(ig_forward, layer)\n",
    "\n",
    "    input_ids, base_ids = hf_ig_encodings(text, tokenizer)\n",
    "\n",
    "    attrs = ig.attribute(\n",
    "        input_ids.to(model.device),\n",
    "        base_ids.to(model.device),\n",
    "        target=true_class,\n",
    "        return_convergence_delta=False,\n",
    "        attribute_to_layer_input=False,\n",
    "        aspect=aspect\n",
    "    )\n",
    "\n",
    "    # Summarize and z-score normalize the attributions\n",
    "    # for each representation in `layer`:\n",
    "    scores = attrs.sum(dim=-1).squeeze(0)\n",
    "    scores = (scores - scores.mean()) / scores.norm()\n",
    "    \n",
    "    # Intuitive tokens to help with analysis:\n",
    "    raw_input = tokenizer.convert_ids_to_tokens(input_ids.tolist()[0])\n",
    "    # RoBERTa-specific clean-up:\n",
    "    # raw_input = [x.strip(\"Ġ\") for x in raw_input]\n",
    "\n",
    "    # Predictions for comparisons:\n",
    "    pred_probs = hf_predict_one_proba(text, tokenizer, model)\n",
    "    pred_class = pred_probs.argmax()\n",
    "\n",
    "    score_vis = viz.VisualizationDataRecord(\n",
    "        word_attributions=scores,\n",
    "        pred_prob=pred_probs.max(),\n",
    "        pred_class=pred_class,\n",
    "        true_class=true_class,\n",
    "        # override attribution label with aspect label, to make the visualization clearer\n",
    "        attr_class=ASPECTS[aspect] if aspect is not None else None,\n",
    "        attr_score=attrs.sum(),\n",
    "        raw_input_ids=raw_input,\n",
    "        convergence_score=None)\n",
    "    \n",
    "    max_score = max([abs(score) for score in scores.tolist()])\n",
    "    mag = 1.0/max_score\n",
    "    word_idx = 0\n",
    "    latex_str = \"\"\n",
    "    for score in scores.tolist():\n",
    "        sign = \"green\" if score > 0 else \"red\"\n",
    "        color_mag = int(abs(score*mag)*100)\n",
    "        word = raw_input[word_idx]\n",
    "        latex_str += \"\\\\colorbox{\"+sign+\"!\"+str(color_mag)+\"}{\\\\strut \"+word+\"}\"\n",
    "        word_idx += 1\n",
    "        \n",
    "    print(latex_str)\n",
    "    print()\n",
    "    \n",
    "    return score_vis"
   ]
  },
  {
   "cell_type": "markdown",
   "metadata": {},
   "source": [
    "Create integrated gradients visualizations!"
   ]
  },
  {
   "cell_type": "code",
   "execution_count": 177,
   "metadata": {},
   "outputs": [],
   "source": [
    "# example_sentences = [\n",
    "#     # all negative\n",
    "#     \"Horrible experience! Distasteful decorations, slow service, bland food, and all the while with music blasting from the walls\",\n",
    "#     # all neutral (I tried?)\n",
    "#     \"The decorations were okay, the servers were meh, the pasta so-so, and the music not my taste, but also not bad\",\n",
    "#     # all positive\n",
    "#     \"Wonderful place all around! Kind waiters, good vibes, and pleasant music - not to mention the best sushi I ever had\",\n",
    "#     # some negative, some positive\n",
    "#     \"Although the decorations were tasteless and the music was far too loud, the food arrived quickly, and the dessert was incredible\",\n",
    "#     # some negative, some unmentioned\n",
    "#     \"Tacky decorations, deafening music :(\",\n",
    "#     # some positive, some unmentioned\n",
    "#     \"Kind waiters, awesome fish tacos!\"\n",
    "# ]\n",
    "\n",
    "# labels = [0, 2, 4, 3, 0, 4]"
   ]
  },
  {
   "cell_type": "code",
   "execution_count": 199,
   "metadata": {},
   "outputs": [],
   "source": [
    "example_sentences = [\n",
    "    'The music was too loud, and the decorations were tasteless, but they had friendly waiters and delicious pasta'\n",
    "]\n",
    "\n",
    "labels = [4]"
   ]
  },
  {
   "cell_type": "code",
   "execution_count": 200,
   "metadata": {},
   "outputs": [
    {
     "name": "stdout",
     "output_type": "stream",
     "text": [
      "\\colorbox{green!7}{\\strut [CLS]}\\colorbox{red!26}{\\strut the}\\colorbox{green!39}{\\strut music}\\colorbox{red!40}{\\strut was}\\colorbox{green!100}{\\strut too}\\colorbox{green!14}{\\strut loud}\\colorbox{red!12}{\\strut ,}\\colorbox{red!34}{\\strut and}\\colorbox{green!1}{\\strut the}\\colorbox{red!70}{\\strut decorations}\\colorbox{red!33}{\\strut were}\\colorbox{green!55}{\\strut taste}\\colorbox{green!16}{\\strut ##less}\\colorbox{red!16}{\\strut ,}\\colorbox{red!48}{\\strut but}\\colorbox{green!17}{\\strut they}\\colorbox{green!28}{\\strut had}\\colorbox{red!1}{\\strut friendly}\\colorbox{red!81}{\\strut waiter}\\colorbox{green!21}{\\strut ##s}\\colorbox{green!5}{\\strut and}\\colorbox{green!40}{\\strut delicious}\\colorbox{green!11}{\\strut pasta}\\colorbox{green!7}{\\strut [SEP]}\n",
      "\n",
      "\\colorbox{red!4}{\\strut [CLS]}\\colorbox{red!4}{\\strut the}\\colorbox{green!4}{\\strut music}\\colorbox{red!8}{\\strut was}\\colorbox{red!4}{\\strut too}\\colorbox{green!2}{\\strut loud}\\colorbox{red!6}{\\strut ,}\\colorbox{red!1}{\\strut and}\\colorbox{green!0}{\\strut the}\\colorbox{red!6}{\\strut decorations}\\colorbox{red!0}{\\strut were}\\colorbox{red!19}{\\strut taste}\\colorbox{red!4}{\\strut ##less}\\colorbox{red!5}{\\strut ,}\\colorbox{green!1}{\\strut but}\\colorbox{red!2}{\\strut they}\\colorbox{red!9}{\\strut had}\\colorbox{green!4}{\\strut friendly}\\colorbox{red!17}{\\strut waiter}\\colorbox{red!6}{\\strut ##s}\\colorbox{green!2}{\\strut and}\\colorbox{green!100}{\\strut delicious}\\colorbox{red!8}{\\strut pasta}\\colorbox{red!4}{\\strut [SEP]}\n",
      "\n",
      "\\colorbox{green!26}{\\strut [CLS]}\\colorbox{green!35}{\\strut the}\\colorbox{red!2}{\\strut music}\\colorbox{green!4}{\\strut was}\\colorbox{red!57}{\\strut too}\\colorbox{red!100}{\\strut loud}\\colorbox{red!14}{\\strut ,}\\colorbox{green!22}{\\strut and}\\colorbox{green!11}{\\strut the}\\colorbox{green!50}{\\strut decorations}\\colorbox{green!9}{\\strut were}\\colorbox{red!2}{\\strut taste}\\colorbox{red!1}{\\strut ##less}\\colorbox{red!0}{\\strut ,}\\colorbox{red!3}{\\strut but}\\colorbox{green!13}{\\strut they}\\colorbox{green!35}{\\strut had}\\colorbox{red!43}{\\strut friendly}\\colorbox{green!16}{\\strut waiter}\\colorbox{green!3}{\\strut ##s}\\colorbox{green!24}{\\strut and}\\colorbox{red!53}{\\strut delicious}\\colorbox{red!1}{\\strut pasta}\\colorbox{green!26}{\\strut [SEP]}\n",
      "\n",
      "\\colorbox{red!10}{\\strut [CLS]}\\colorbox{red!7}{\\strut the}\\colorbox{red!7}{\\strut music}\\colorbox{red!6}{\\strut was}\\colorbox{green!0}{\\strut too}\\colorbox{red!8}{\\strut loud}\\colorbox{red!3}{\\strut ,}\\colorbox{red!3}{\\strut and}\\colorbox{red!7}{\\strut the}\\colorbox{green!2}{\\strut decorations}\\colorbox{red!8}{\\strut were}\\colorbox{red!5}{\\strut taste}\\colorbox{red!0}{\\strut ##less}\\colorbox{red!4}{\\strut ,}\\colorbox{green!2}{\\strut but}\\colorbox{red!15}{\\strut they}\\colorbox{red!20}{\\strut had}\\colorbox{green!76}{\\strut friendly}\\colorbox{green!100}{\\strut waiter}\\colorbox{green!5}{\\strut ##s}\\colorbox{green!7}{\\strut and}\\colorbox{red!60}{\\strut delicious}\\colorbox{red!17}{\\strut pasta}\\colorbox{red!8}{\\strut [SEP]}\n",
      "\n"
     ]
    },
    {
     "data": {
      "text/html": [
       "<table width: 100%><div style=\"border-top: 1px solid; margin-top: 5px;             padding-top: 5px; display: inline-block\"><b>Legend: </b><span style=\"display: inline-block; width: 10px; height: 10px;                 border: 1px solid; background-color:                 hsl(0, 75%, 60%)\"></span> Negative  <span style=\"display: inline-block; width: 10px; height: 10px;                 border: 1px solid; background-color:                 hsl(0, 75%, 100%)\"></span> Neutral  <span style=\"display: inline-block; width: 10px; height: 10px;                 border: 1px solid; background-color:                 hsl(120, 75%, 50%)\"></span> Positive  </div><tr><th>True Label</th><th>Predicted Label</th><th>Attribution Label</th><th>Attribution Score</th><th>Word Importance</th><tr><td><text style=\"padding-right:2em\"><b>4</b></text></td><td><text style=\"padding-right:2em\"><b>2 (0.98)</b></text></td><td><text style=\"padding-right:2em\"><b>ambiance</b></text></td><td><text style=\"padding-right:2em\"><b>-0.24</b></text></td><td><mark style=\"background-color: hsl(120, 75%, 99%); opacity:1.0;                     line-height:1.75\"><font color=\"black\"> [CLS]                    </font></mark><mark style=\"background-color: hsl(0, 75%, 95%); opacity:1.0;                     line-height:1.75\"><font color=\"black\"> the                    </font></mark><mark style=\"background-color: hsl(120, 75%, 91%); opacity:1.0;                     line-height:1.75\"><font color=\"black\"> music                    </font></mark><mark style=\"background-color: hsl(0, 75%, 92%); opacity:1.0;                     line-height:1.75\"><font color=\"black\"> was                    </font></mark><mark style=\"background-color: hsl(120, 75%, 75%); opacity:1.0;                     line-height:1.75\"><font color=\"black\"> too                    </font></mark><mark style=\"background-color: hsl(120, 75%, 97%); opacity:1.0;                     line-height:1.75\"><font color=\"black\"> loud                    </font></mark><mark style=\"background-color: hsl(0, 75%, 98%); opacity:1.0;                     line-height:1.75\"><font color=\"black\"> ,                    </font></mark><mark style=\"background-color: hsl(0, 75%, 94%); opacity:1.0;                     line-height:1.75\"><font color=\"black\"> and                    </font></mark><mark style=\"background-color: hsl(120, 75%, 100%); opacity:1.0;                     line-height:1.75\"><font color=\"black\"> the                    </font></mark><mark style=\"background-color: hsl(0, 75%, 86%); opacity:1.0;                     line-height:1.75\"><font color=\"black\"> decorations                    </font></mark><mark style=\"background-color: hsl(0, 75%, 94%); opacity:1.0;                     line-height:1.75\"><font color=\"black\"> were                    </font></mark><mark style=\"background-color: hsl(120, 75%, 87%); opacity:1.0;                     line-height:1.75\"><font color=\"black\"> taste                    </font></mark><mark style=\"background-color: hsl(120, 75%, 96%); opacity:1.0;                     line-height:1.75\"><font color=\"black\"> ##less                    </font></mark><mark style=\"background-color: hsl(0, 75%, 97%); opacity:1.0;                     line-height:1.75\"><font color=\"black\"> ,                    </font></mark><mark style=\"background-color: hsl(0, 75%, 91%); opacity:1.0;                     line-height:1.75\"><font color=\"black\"> but                    </font></mark><mark style=\"background-color: hsl(120, 75%, 96%); opacity:1.0;                     line-height:1.75\"><font color=\"black\"> they                    </font></mark><mark style=\"background-color: hsl(120, 75%, 93%); opacity:1.0;                     line-height:1.75\"><font color=\"black\"> had                    </font></mark><mark style=\"background-color: hsl(0, 75%, 100%); opacity:1.0;                     line-height:1.75\"><font color=\"black\"> friendly                    </font></mark><mark style=\"background-color: hsl(0, 75%, 84%); opacity:1.0;                     line-height:1.75\"><font color=\"black\"> waiter                    </font></mark><mark style=\"background-color: hsl(120, 75%, 95%); opacity:1.0;                     line-height:1.75\"><font color=\"black\"> ##s                    </font></mark><mark style=\"background-color: hsl(120, 75%, 99%); opacity:1.0;                     line-height:1.75\"><font color=\"black\"> and                    </font></mark><mark style=\"background-color: hsl(120, 75%, 90%); opacity:1.0;                     line-height:1.75\"><font color=\"black\"> delicious                    </font></mark><mark style=\"background-color: hsl(120, 75%, 98%); opacity:1.0;                     line-height:1.75\"><font color=\"black\"> pasta                    </font></mark><mark style=\"background-color: hsl(120, 75%, 99%); opacity:1.0;                     line-height:1.75\"><font color=\"black\"> [SEP]                    </font></mark></td><tr><tr><td><text style=\"padding-right:2em\"><b>4</b></text></td><td><text style=\"padding-right:2em\"><b>2 (0.98)</b></text></td><td><text style=\"padding-right:2em\"><b>food</b></text></td><td><text style=\"padding-right:2em\"><b>1.38</b></text></td><td><mark style=\"background-color: hsl(0, 75%, 99%); opacity:1.0;                     line-height:1.75\"><font color=\"black\"> [CLS]                    </font></mark><mark style=\"background-color: hsl(0, 75%, 99%); opacity:1.0;                     line-height:1.75\"><font color=\"black\"> the                    </font></mark><mark style=\"background-color: hsl(120, 75%, 99%); opacity:1.0;                     line-height:1.75\"><font color=\"black\"> music                    </font></mark><mark style=\"background-color: hsl(0, 75%, 97%); opacity:1.0;                     line-height:1.75\"><font color=\"black\"> was                    </font></mark><mark style=\"background-color: hsl(0, 75%, 99%); opacity:1.0;                     line-height:1.75\"><font color=\"black\"> too                    </font></mark><mark style=\"background-color: hsl(120, 75%, 100%); opacity:1.0;                     line-height:1.75\"><font color=\"black\"> loud                    </font></mark><mark style=\"background-color: hsl(0, 75%, 98%); opacity:1.0;                     line-height:1.75\"><font color=\"black\"> ,                    </font></mark><mark style=\"background-color: hsl(0, 75%, 100%); opacity:1.0;                     line-height:1.75\"><font color=\"black\"> and                    </font></mark><mark style=\"background-color: hsl(120, 75%, 100%); opacity:1.0;                     line-height:1.75\"><font color=\"black\"> the                    </font></mark><mark style=\"background-color: hsl(0, 75%, 98%); opacity:1.0;                     line-height:1.75\"><font color=\"black\"> decorations                    </font></mark><mark style=\"background-color: hsl(0, 75%, 100%); opacity:1.0;                     line-height:1.75\"><font color=\"black\"> were                    </font></mark><mark style=\"background-color: hsl(0, 75%, 93%); opacity:1.0;                     line-height:1.75\"><font color=\"black\"> taste                    </font></mark><mark style=\"background-color: hsl(0, 75%, 99%); opacity:1.0;                     line-height:1.75\"><font color=\"black\"> ##less                    </font></mark><mark style=\"background-color: hsl(0, 75%, 98%); opacity:1.0;                     line-height:1.75\"><font color=\"black\"> ,                    </font></mark><mark style=\"background-color: hsl(120, 75%, 100%); opacity:1.0;                     line-height:1.75\"><font color=\"black\"> but                    </font></mark><mark style=\"background-color: hsl(0, 75%, 100%); opacity:1.0;                     line-height:1.75\"><font color=\"black\"> they                    </font></mark><mark style=\"background-color: hsl(0, 75%, 97%); opacity:1.0;                     line-height:1.75\"><font color=\"black\"> had                    </font></mark><mark style=\"background-color: hsl(120, 75%, 98%); opacity:1.0;                     line-height:1.75\"><font color=\"black\"> friendly                    </font></mark><mark style=\"background-color: hsl(0, 75%, 94%); opacity:1.0;                     line-height:1.75\"><font color=\"black\"> waiter                    </font></mark><mark style=\"background-color: hsl(0, 75%, 98%); opacity:1.0;                     line-height:1.75\"><font color=\"black\"> ##s                    </font></mark><mark style=\"background-color: hsl(120, 75%, 99%); opacity:1.0;                     line-height:1.75\"><font color=\"black\"> and                    </font></mark><mark style=\"background-color: hsl(120, 75%, 55%); opacity:1.0;                     line-height:1.75\"><font color=\"black\"> delicious                    </font></mark><mark style=\"background-color: hsl(0, 75%, 98%); opacity:1.0;                     line-height:1.75\"><font color=\"black\"> pasta                    </font></mark><mark style=\"background-color: hsl(0, 75%, 99%); opacity:1.0;                     line-height:1.75\"><font color=\"black\"> [SEP]                    </font></mark></td><tr><tr><td><text style=\"padding-right:2em\"><b>4</b></text></td><td><text style=\"padding-right:2em\"><b>2 (0.98)</b></text></td><td><text style=\"padding-right:2em\"><b>noise</b></text></td><td><text style=\"padding-right:2em\"><b>-1.28</b></text></td><td><mark style=\"background-color: hsl(120, 75%, 94%); opacity:1.0;                     line-height:1.75\"><font color=\"black\"> [CLS]                    </font></mark><mark style=\"background-color: hsl(120, 75%, 92%); opacity:1.0;                     line-height:1.75\"><font color=\"black\"> the                    </font></mark><mark style=\"background-color: hsl(0, 75%, 100%); opacity:1.0;                     line-height:1.75\"><font color=\"black\"> music                    </font></mark><mark style=\"background-color: hsl(120, 75%, 99%); opacity:1.0;                     line-height:1.75\"><font color=\"black\"> was                    </font></mark><mark style=\"background-color: hsl(0, 75%, 89%); opacity:1.0;                     line-height:1.75\"><font color=\"black\"> too                    </font></mark><mark style=\"background-color: hsl(0, 75%, 81%); opacity:1.0;                     line-height:1.75\"><font color=\"black\"> loud                    </font></mark><mark style=\"background-color: hsl(0, 75%, 98%); opacity:1.0;                     line-height:1.75\"><font color=\"black\"> ,                    </font></mark><mark style=\"background-color: hsl(120, 75%, 95%); opacity:1.0;                     line-height:1.75\"><font color=\"black\"> and                    </font></mark><mark style=\"background-color: hsl(120, 75%, 98%); opacity:1.0;                     line-height:1.75\"><font color=\"black\"> the                    </font></mark><mark style=\"background-color: hsl(120, 75%, 88%); opacity:1.0;                     line-height:1.75\"><font color=\"black\"> decorations                    </font></mark><mark style=\"background-color: hsl(120, 75%, 98%); opacity:1.0;                     line-height:1.75\"><font color=\"black\"> were                    </font></mark><mark style=\"background-color: hsl(0, 75%, 100%); opacity:1.0;                     line-height:1.75\"><font color=\"black\"> taste                    </font></mark><mark style=\"background-color: hsl(0, 75%, 100%); opacity:1.0;                     line-height:1.75\"><font color=\"black\"> ##less                    </font></mark><mark style=\"background-color: hsl(0, 75%, 100%); opacity:1.0;                     line-height:1.75\"><font color=\"black\"> ,                    </font></mark><mark style=\"background-color: hsl(0, 75%, 100%); opacity:1.0;                     line-height:1.75\"><font color=\"black\"> but                    </font></mark><mark style=\"background-color: hsl(120, 75%, 97%); opacity:1.0;                     line-height:1.75\"><font color=\"black\"> they                    </font></mark><mark style=\"background-color: hsl(120, 75%, 92%); opacity:1.0;                     line-height:1.75\"><font color=\"black\"> had                    </font></mark><mark style=\"background-color: hsl(0, 75%, 92%); opacity:1.0;                     line-height:1.75\"><font color=\"black\"> friendly                    </font></mark><mark style=\"background-color: hsl(120, 75%, 97%); opacity:1.0;                     line-height:1.75\"><font color=\"black\"> waiter                    </font></mark><mark style=\"background-color: hsl(120, 75%, 100%); opacity:1.0;                     line-height:1.75\"><font color=\"black\"> ##s                    </font></mark><mark style=\"background-color: hsl(120, 75%, 95%); opacity:1.0;                     line-height:1.75\"><font color=\"black\"> and                    </font></mark><mark style=\"background-color: hsl(0, 75%, 90%); opacity:1.0;                     line-height:1.75\"><font color=\"black\"> delicious                    </font></mark><mark style=\"background-color: hsl(0, 75%, 100%); opacity:1.0;                     line-height:1.75\"><font color=\"black\"> pasta                    </font></mark><mark style=\"background-color: hsl(120, 75%, 94%); opacity:1.0;                     line-height:1.75\"><font color=\"black\"> [SEP]                    </font></mark></td><tr><tr><td><text style=\"padding-right:2em\"><b>4</b></text></td><td><text style=\"padding-right:2em\"><b>2 (0.98)</b></text></td><td><text style=\"padding-right:2em\"><b>service</b></text></td><td><text style=\"padding-right:2em\"><b>1.10</b></text></td><td><mark style=\"background-color: hsl(0, 75%, 98%); opacity:1.0;                     line-height:1.75\"><font color=\"black\"> [CLS]                    </font></mark><mark style=\"background-color: hsl(0, 75%, 98%); opacity:1.0;                     line-height:1.75\"><font color=\"black\"> the                    </font></mark><mark style=\"background-color: hsl(0, 75%, 99%); opacity:1.0;                     line-height:1.75\"><font color=\"black\"> music                    </font></mark><mark style=\"background-color: hsl(0, 75%, 99%); opacity:1.0;                     line-height:1.75\"><font color=\"black\"> was                    </font></mark><mark style=\"background-color: hsl(120, 75%, 100%); opacity:1.0;                     line-height:1.75\"><font color=\"black\"> too                    </font></mark><mark style=\"background-color: hsl(0, 75%, 98%); opacity:1.0;                     line-height:1.75\"><font color=\"black\"> loud                    </font></mark><mark style=\"background-color: hsl(0, 75%, 100%); opacity:1.0;                     line-height:1.75\"><font color=\"black\"> ,                    </font></mark><mark style=\"background-color: hsl(0, 75%, 99%); opacity:1.0;                     line-height:1.75\"><font color=\"black\"> and                    </font></mark><mark style=\"background-color: hsl(0, 75%, 98%); opacity:1.0;                     line-height:1.75\"><font color=\"black\"> the                    </font></mark><mark style=\"background-color: hsl(120, 75%, 100%); opacity:1.0;                     line-height:1.75\"><font color=\"black\"> decorations                    </font></mark><mark style=\"background-color: hsl(0, 75%, 98%); opacity:1.0;                     line-height:1.75\"><font color=\"black\"> were                    </font></mark><mark style=\"background-color: hsl(0, 75%, 99%); opacity:1.0;                     line-height:1.75\"><font color=\"black\"> taste                    </font></mark><mark style=\"background-color: hsl(0, 75%, 100%); opacity:1.0;                     line-height:1.75\"><font color=\"black\"> ##less                    </font></mark><mark style=\"background-color: hsl(0, 75%, 99%); opacity:1.0;                     line-height:1.75\"><font color=\"black\"> ,                    </font></mark><mark style=\"background-color: hsl(120, 75%, 100%); opacity:1.0;                     line-height:1.75\"><font color=\"black\"> but                    </font></mark><mark style=\"background-color: hsl(0, 75%, 96%); opacity:1.0;                     line-height:1.75\"><font color=\"black\"> they                    </font></mark><mark style=\"background-color: hsl(0, 75%, 95%); opacity:1.0;                     line-height:1.75\"><font color=\"black\"> had                    </font></mark><mark style=\"background-color: hsl(120, 75%, 75%); opacity:1.0;                     line-height:1.75\"><font color=\"black\"> friendly                    </font></mark><mark style=\"background-color: hsl(120, 75%, 68%); opacity:1.0;                     line-height:1.75\"><font color=\"black\"> waiter                    </font></mark><mark style=\"background-color: hsl(120, 75%, 99%); opacity:1.0;                     line-height:1.75\"><font color=\"black\"> ##s                    </font></mark><mark style=\"background-color: hsl(120, 75%, 98%); opacity:1.0;                     line-height:1.75\"><font color=\"black\"> and                    </font></mark><mark style=\"background-color: hsl(0, 75%, 85%); opacity:1.0;                     line-height:1.75\"><font color=\"black\"> delicious                    </font></mark><mark style=\"background-color: hsl(0, 75%, 96%); opacity:1.0;                     line-height:1.75\"><font color=\"black\"> pasta                    </font></mark><mark style=\"background-color: hsl(0, 75%, 98%); opacity:1.0;                     line-height:1.75\"><font color=\"black\"> [SEP]                    </font></mark></td><tr></table>"
      ],
      "text/plain": [
       "<IPython.core.display.HTML object>"
      ]
     },
     "metadata": {},
     "output_type": "display_data"
    }
   ],
   "source": [
    "CONTROL = False\n",
    "_ = random.seed(seed)\n",
    "_ = np.random.seed(seed)\n",
    "_ = torch.manual_seed(seed)\n",
    "hf_ig_analyses(\n",
    "    example_sentences, labels, explainer.tokenizer, \n",
    "    explainer.cpm_model.model\n",
    ")"
   ]
  },
  {
   "cell_type": "code",
   "execution_count": 180,
   "metadata": {},
   "outputs": [
    {
     "name": "stdout",
     "output_type": "stream",
     "text": [
      "\\colorbox{red!15}{\\strut [CLS]}\\colorbox{green!12}{\\strut the}\\colorbox{green!27}{\\strut music}\\colorbox{green!31}{\\strut was}\\colorbox{red!100}{\\strut too}\\colorbox{red!28}{\\strut loud}\\colorbox{red!52}{\\strut ,}\\colorbox{red!12}{\\strut and}\\colorbox{green!35}{\\strut the}\\colorbox{red!15}{\\strut decorations}\\colorbox{red!22}{\\strut were}\\colorbox{green!19}{\\strut taste}\\colorbox{green!15}{\\strut ##less}\\colorbox{red!30}{\\strut ,}\\colorbox{green!66}{\\strut but}\\colorbox{green!21}{\\strut they}\\colorbox{green!82}{\\strut had}\\colorbox{green!41}{\\strut friendly}\\colorbox{red!31}{\\strut waiter}\\colorbox{red!47}{\\strut ##s}\\colorbox{red!4}{\\strut and}\\colorbox{green!22}{\\strut delicious}\\colorbox{red!6}{\\strut pasta}\\colorbox{red!7}{\\strut [SEP]}\n",
      "\n",
      "\\colorbox{red!9}{\\strut [CLS]}\\colorbox{red!74}{\\strut the}\\colorbox{green!63}{\\strut music}\\colorbox{red!34}{\\strut was}\\colorbox{red!44}{\\strut too}\\colorbox{green!9}{\\strut loud}\\colorbox{red!30}{\\strut ,}\\colorbox{red!13}{\\strut and}\\colorbox{green!19}{\\strut the}\\colorbox{red!11}{\\strut decorations}\\colorbox{red!11}{\\strut were}\\colorbox{green!24}{\\strut taste}\\colorbox{red!11}{\\strut ##less}\\colorbox{green!0}{\\strut ,}\\colorbox{green!11}{\\strut but}\\colorbox{green!33}{\\strut they}\\colorbox{green!17}{\\strut had}\\colorbox{green!100}{\\strut friendly}\\colorbox{green!3}{\\strut waiter}\\colorbox{green!12}{\\strut ##s}\\colorbox{green!12}{\\strut and}\\colorbox{red!38}{\\strut delicious}\\colorbox{red!12}{\\strut pasta}\\colorbox{red!14}{\\strut [SEP]}\n",
      "\n",
      "\\colorbox{red!25}{\\strut [CLS]}\\colorbox{red!8}{\\strut the}\\colorbox{green!2}{\\strut music}\\colorbox{green!6}{\\strut was}\\colorbox{red!12}{\\strut too}\\colorbox{red!37}{\\strut loud}\\colorbox{green!12}{\\strut ,}\\colorbox{green!0}{\\strut and}\\colorbox{green!4}{\\strut the}\\colorbox{red!29}{\\strut decorations}\\colorbox{red!18}{\\strut were}\\colorbox{red!2}{\\strut taste}\\colorbox{red!0}{\\strut ##less}\\colorbox{red!7}{\\strut ,}\\colorbox{green!9}{\\strut but}\\colorbox{green!2}{\\strut they}\\colorbox{red!12}{\\strut had}\\colorbox{green!100}{\\strut friendly}\\colorbox{red!8}{\\strut waiter}\\colorbox{red!8}{\\strut ##s}\\colorbox{green!13}{\\strut and}\\colorbox{green!25}{\\strut delicious}\\colorbox{green!1}{\\strut pasta}\\colorbox{red!6}{\\strut [SEP]}\n",
      "\n",
      "\\colorbox{red!31}{\\strut [CLS]}\\colorbox{green!97}{\\strut the}\\colorbox{green!20}{\\strut music}\\colorbox{red!49}{\\strut was}\\colorbox{red!0}{\\strut too}\\colorbox{red!99}{\\strut loud}\\colorbox{green!38}{\\strut ,}\\colorbox{red!29}{\\strut and}\\colorbox{green!20}{\\strut the}\\colorbox{red!43}{\\strut decorations}\\colorbox{red!11}{\\strut were}\\colorbox{green!2}{\\strut taste}\\colorbox{green!26}{\\strut ##less}\\colorbox{red!7}{\\strut ,}\\colorbox{green!37}{\\strut but}\\colorbox{green!12}{\\strut they}\\colorbox{green!26}{\\strut had}\\colorbox{green!84}{\\strut friendly}\\colorbox{red!32}{\\strut waiter}\\colorbox{green!10}{\\strut ##s}\\colorbox{green!18}{\\strut and}\\colorbox{red!28}{\\strut delicious}\\colorbox{red!32}{\\strut pasta}\\colorbox{red!28}{\\strut [SEP]}\n",
      "\n"
     ]
    },
    {
     "data": {
      "text/html": [
       "<table width: 100%><div style=\"border-top: 1px solid; margin-top: 5px;             padding-top: 5px; display: inline-block\"><b>Legend: </b><span style=\"display: inline-block; width: 10px; height: 10px;                 border: 1px solid; background-color:                 hsl(0, 75%, 60%)\"></span> Negative  <span style=\"display: inline-block; width: 10px; height: 10px;                 border: 1px solid; background-color:                 hsl(0, 75%, 100%)\"></span> Neutral  <span style=\"display: inline-block; width: 10px; height: 10px;                 border: 1px solid; background-color:                 hsl(120, 75%, 50%)\"></span> Positive  </div><tr><th>True Label</th><th>Predicted Label</th><th>Attribution Label</th><th>Attribution Score</th><th>Word Importance</th><tr><td><text style=\"padding-right:2em\"><b>4</b></text></td><td><text style=\"padding-right:2em\"><b>2 (0.98)</b></text></td><td><text style=\"padding-right:2em\"><b>ambiance</b></text></td><td><text style=\"padding-right:2em\"><b>-0.01</b></text></td><td><mark style=\"background-color: hsl(0, 75%, 97%); opacity:1.0;                     line-height:1.75\"><font color=\"black\"> [CLS]                    </font></mark><mark style=\"background-color: hsl(120, 75%, 97%); opacity:1.0;                     line-height:1.75\"><font color=\"black\"> the                    </font></mark><mark style=\"background-color: hsl(120, 75%, 93%); opacity:1.0;                     line-height:1.75\"><font color=\"black\"> music                    </font></mark><mark style=\"background-color: hsl(120, 75%, 92%); opacity:1.0;                     line-height:1.75\"><font color=\"black\"> was                    </font></mark><mark style=\"background-color: hsl(0, 75%, 80%); opacity:1.0;                     line-height:1.75\"><font color=\"black\"> too                    </font></mark><mark style=\"background-color: hsl(0, 75%, 95%); opacity:1.0;                     line-height:1.75\"><font color=\"black\"> loud                    </font></mark><mark style=\"background-color: hsl(0, 75%, 89%); opacity:1.0;                     line-height:1.75\"><font color=\"black\"> ,                    </font></mark><mark style=\"background-color: hsl(0, 75%, 98%); opacity:1.0;                     line-height:1.75\"><font color=\"black\"> and                    </font></mark><mark style=\"background-color: hsl(120, 75%, 91%); opacity:1.0;                     line-height:1.75\"><font color=\"black\"> the                    </font></mark><mark style=\"background-color: hsl(0, 75%, 97%); opacity:1.0;                     line-height:1.75\"><font color=\"black\"> decorations                    </font></mark><mark style=\"background-color: hsl(0, 75%, 96%); opacity:1.0;                     line-height:1.75\"><font color=\"black\"> were                    </font></mark><mark style=\"background-color: hsl(120, 75%, 95%); opacity:1.0;                     line-height:1.75\"><font color=\"black\"> taste                    </font></mark><mark style=\"background-color: hsl(120, 75%, 97%); opacity:1.0;                     line-height:1.75\"><font color=\"black\"> ##less                    </font></mark><mark style=\"background-color: hsl(0, 75%, 94%); opacity:1.0;                     line-height:1.75\"><font color=\"black\"> ,                    </font></mark><mark style=\"background-color: hsl(120, 75%, 83%); opacity:1.0;                     line-height:1.75\"><font color=\"black\"> but                    </font></mark><mark style=\"background-color: hsl(120, 75%, 95%); opacity:1.0;                     line-height:1.75\"><font color=\"black\"> they                    </font></mark><mark style=\"background-color: hsl(120, 75%, 79%); opacity:1.0;                     line-height:1.75\"><font color=\"black\"> had                    </font></mark><mark style=\"background-color: hsl(120, 75%, 90%); opacity:1.0;                     line-height:1.75\"><font color=\"black\"> friendly                    </font></mark><mark style=\"background-color: hsl(0, 75%, 94%); opacity:1.0;                     line-height:1.75\"><font color=\"black\"> waiter                    </font></mark><mark style=\"background-color: hsl(0, 75%, 91%); opacity:1.0;                     line-height:1.75\"><font color=\"black\"> ##s                    </font></mark><mark style=\"background-color: hsl(0, 75%, 100%); opacity:1.0;                     line-height:1.75\"><font color=\"black\"> and                    </font></mark><mark style=\"background-color: hsl(120, 75%, 95%); opacity:1.0;                     line-height:1.75\"><font color=\"black\"> delicious                    </font></mark><mark style=\"background-color: hsl(0, 75%, 99%); opacity:1.0;                     line-height:1.75\"><font color=\"black\"> pasta                    </font></mark><mark style=\"background-color: hsl(0, 75%, 99%); opacity:1.0;                     line-height:1.75\"><font color=\"black\"> [SEP]                    </font></mark></td><tr><tr><td><text style=\"padding-right:2em\"><b>4</b></text></td><td><text style=\"padding-right:2em\"><b>2 (0.98)</b></text></td><td><text style=\"padding-right:2em\"><b>food</b></text></td><td><text style=\"padding-right:2em\"><b>0.18</b></text></td><td><mark style=\"background-color: hsl(0, 75%, 98%); opacity:1.0;                     line-height:1.75\"><font color=\"black\"> [CLS]                    </font></mark><mark style=\"background-color: hsl(0, 75%, 84%); opacity:1.0;                     line-height:1.75\"><font color=\"black\"> the                    </font></mark><mark style=\"background-color: hsl(120, 75%, 83%); opacity:1.0;                     line-height:1.75\"><font color=\"black\"> music                    </font></mark><mark style=\"background-color: hsl(0, 75%, 93%); opacity:1.0;                     line-height:1.75\"><font color=\"black\"> was                    </font></mark><mark style=\"background-color: hsl(0, 75%, 91%); opacity:1.0;                     line-height:1.75\"><font color=\"black\"> too                    </font></mark><mark style=\"background-color: hsl(120, 75%, 98%); opacity:1.0;                     line-height:1.75\"><font color=\"black\"> loud                    </font></mark><mark style=\"background-color: hsl(0, 75%, 94%); opacity:1.0;                     line-height:1.75\"><font color=\"black\"> ,                    </font></mark><mark style=\"background-color: hsl(0, 75%, 98%); opacity:1.0;                     line-height:1.75\"><font color=\"black\"> and                    </font></mark><mark style=\"background-color: hsl(120, 75%, 95%); opacity:1.0;                     line-height:1.75\"><font color=\"black\"> the                    </font></mark><mark style=\"background-color: hsl(0, 75%, 98%); opacity:1.0;                     line-height:1.75\"><font color=\"black\"> decorations                    </font></mark><mark style=\"background-color: hsl(0, 75%, 98%); opacity:1.0;                     line-height:1.75\"><font color=\"black\"> were                    </font></mark><mark style=\"background-color: hsl(120, 75%, 94%); opacity:1.0;                     line-height:1.75\"><font color=\"black\"> taste                    </font></mark><mark style=\"background-color: hsl(0, 75%, 98%); opacity:1.0;                     line-height:1.75\"><font color=\"black\"> ##less                    </font></mark><mark style=\"background-color: hsl(120, 75%, 100%); opacity:1.0;                     line-height:1.75\"><font color=\"black\"> ,                    </font></mark><mark style=\"background-color: hsl(120, 75%, 97%); opacity:1.0;                     line-height:1.75\"><font color=\"black\"> but                    </font></mark><mark style=\"background-color: hsl(120, 75%, 91%); opacity:1.0;                     line-height:1.75\"><font color=\"black\"> they                    </font></mark><mark style=\"background-color: hsl(120, 75%, 96%); opacity:1.0;                     line-height:1.75\"><font color=\"black\"> had                    </font></mark><mark style=\"background-color: hsl(120, 75%, 73%); opacity:1.0;                     line-height:1.75\"><font color=\"black\"> friendly                    </font></mark><mark style=\"background-color: hsl(120, 75%, 100%); opacity:1.0;                     line-height:1.75\"><font color=\"black\"> waiter                    </font></mark><mark style=\"background-color: hsl(120, 75%, 97%); opacity:1.0;                     line-height:1.75\"><font color=\"black\"> ##s                    </font></mark><mark style=\"background-color: hsl(120, 75%, 97%); opacity:1.0;                     line-height:1.75\"><font color=\"black\"> and                    </font></mark><mark style=\"background-color: hsl(0, 75%, 92%); opacity:1.0;                     line-height:1.75\"><font color=\"black\"> delicious                    </font></mark><mark style=\"background-color: hsl(0, 75%, 98%); opacity:1.0;                     line-height:1.75\"><font color=\"black\"> pasta                    </font></mark><mark style=\"background-color: hsl(0, 75%, 97%); opacity:1.0;                     line-height:1.75\"><font color=\"black\"> [SEP]                    </font></mark></td><tr><tr><td><text style=\"padding-right:2em\"><b>4</b></text></td><td><text style=\"padding-right:2em\"><b>2 (0.98)</b></text></td><td><text style=\"padding-right:2em\"><b>noise</b></text></td><td><text style=\"padding-right:2em\"><b>0.19</b></text></td><td><mark style=\"background-color: hsl(0, 75%, 93%); opacity:1.0;                     line-height:1.75\"><font color=\"black\"> [CLS]                    </font></mark><mark style=\"background-color: hsl(0, 75%, 98%); opacity:1.0;                     line-height:1.75\"><font color=\"black\"> the                    </font></mark><mark style=\"background-color: hsl(120, 75%, 100%); opacity:1.0;                     line-height:1.75\"><font color=\"black\"> music                    </font></mark><mark style=\"background-color: hsl(120, 75%, 98%); opacity:1.0;                     line-height:1.75\"><font color=\"black\"> was                    </font></mark><mark style=\"background-color: hsl(0, 75%, 97%); opacity:1.0;                     line-height:1.75\"><font color=\"black\"> too                    </font></mark><mark style=\"background-color: hsl(0, 75%, 89%); opacity:1.0;                     line-height:1.75\"><font color=\"black\"> loud                    </font></mark><mark style=\"background-color: hsl(120, 75%, 96%); opacity:1.0;                     line-height:1.75\"><font color=\"black\"> ,                    </font></mark><mark style=\"background-color: hsl(120, 75%, 100%); opacity:1.0;                     line-height:1.75\"><font color=\"black\"> and                    </font></mark><mark style=\"background-color: hsl(120, 75%, 99%); opacity:1.0;                     line-height:1.75\"><font color=\"black\"> the                    </font></mark><mark style=\"background-color: hsl(0, 75%, 92%); opacity:1.0;                     line-height:1.75\"><font color=\"black\"> decorations                    </font></mark><mark style=\"background-color: hsl(0, 75%, 95%); opacity:1.0;                     line-height:1.75\"><font color=\"black\"> were                    </font></mark><mark style=\"background-color: hsl(0, 75%, 100%); opacity:1.0;                     line-height:1.75\"><font color=\"black\"> taste                    </font></mark><mark style=\"background-color: hsl(0, 75%, 100%); opacity:1.0;                     line-height:1.75\"><font color=\"black\"> ##less                    </font></mark><mark style=\"background-color: hsl(0, 75%, 98%); opacity:1.0;                     line-height:1.75\"><font color=\"black\"> ,                    </font></mark><mark style=\"background-color: hsl(120, 75%, 97%); opacity:1.0;                     line-height:1.75\"><font color=\"black\"> but                    </font></mark><mark style=\"background-color: hsl(120, 75%, 99%); opacity:1.0;                     line-height:1.75\"><font color=\"black\"> they                    </font></mark><mark style=\"background-color: hsl(0, 75%, 97%); opacity:1.0;                     line-height:1.75\"><font color=\"black\"> had                    </font></mark><mark style=\"background-color: hsl(120, 75%, 62%); opacity:1.0;                     line-height:1.75\"><font color=\"black\"> friendly                    </font></mark><mark style=\"background-color: hsl(0, 75%, 98%); opacity:1.0;                     line-height:1.75\"><font color=\"black\"> waiter                    </font></mark><mark style=\"background-color: hsl(0, 75%, 98%); opacity:1.0;                     line-height:1.75\"><font color=\"black\"> ##s                    </font></mark><mark style=\"background-color: hsl(120, 75%, 95%); opacity:1.0;                     line-height:1.75\"><font color=\"black\"> and                    </font></mark><mark style=\"background-color: hsl(120, 75%, 91%); opacity:1.0;                     line-height:1.75\"><font color=\"black\"> delicious                    </font></mark><mark style=\"background-color: hsl(120, 75%, 100%); opacity:1.0;                     line-height:1.75\"><font color=\"black\"> pasta                    </font></mark><mark style=\"background-color: hsl(0, 75%, 99%); opacity:1.0;                     line-height:1.75\"><font color=\"black\"> [SEP]                    </font></mark></td><tr><tr><td><text style=\"padding-right:2em\"><b>4</b></text></td><td><text style=\"padding-right:2em\"><b>2 (0.98)</b></text></td><td><text style=\"padding-right:2em\"><b>service</b></text></td><td><text style=\"padding-right:2em\"><b>0.23</b></text></td><td><mark style=\"background-color: hsl(0, 75%, 95%); opacity:1.0;                     line-height:1.75\"><font color=\"black\"> [CLS]                    </font></mark><mark style=\"background-color: hsl(120, 75%, 81%); opacity:1.0;                     line-height:1.75\"><font color=\"black\"> the                    </font></mark><mark style=\"background-color: hsl(120, 75%, 96%); opacity:1.0;                     line-height:1.75\"><font color=\"black\"> music                    </font></mark><mark style=\"background-color: hsl(0, 75%, 93%); opacity:1.0;                     line-height:1.75\"><font color=\"black\"> was                    </font></mark><mark style=\"background-color: hsl(0, 75%, 100%); opacity:1.0;                     line-height:1.75\"><font color=\"black\"> too                    </font></mark><mark style=\"background-color: hsl(0, 75%, 84%); opacity:1.0;                     line-height:1.75\"><font color=\"black\"> loud                    </font></mark><mark style=\"background-color: hsl(120, 75%, 93%); opacity:1.0;                     line-height:1.75\"><font color=\"black\"> ,                    </font></mark><mark style=\"background-color: hsl(0, 75%, 96%); opacity:1.0;                     line-height:1.75\"><font color=\"black\"> and                    </font></mark><mark style=\"background-color: hsl(120, 75%, 96%); opacity:1.0;                     line-height:1.75\"><font color=\"black\"> the                    </font></mark><mark style=\"background-color: hsl(0, 75%, 93%); opacity:1.0;                     line-height:1.75\"><font color=\"black\"> decorations                    </font></mark><mark style=\"background-color: hsl(0, 75%, 99%); opacity:1.0;                     line-height:1.75\"><font color=\"black\"> were                    </font></mark><mark style=\"background-color: hsl(120, 75%, 100%); opacity:1.0;                     line-height:1.75\"><font color=\"black\"> taste                    </font></mark><mark style=\"background-color: hsl(120, 75%, 95%); opacity:1.0;                     line-height:1.75\"><font color=\"black\"> ##less                    </font></mark><mark style=\"background-color: hsl(0, 75%, 99%); opacity:1.0;                     line-height:1.75\"><font color=\"black\"> ,                    </font></mark><mark style=\"background-color: hsl(120, 75%, 93%); opacity:1.0;                     line-height:1.75\"><font color=\"black\"> but                    </font></mark><mark style=\"background-color: hsl(120, 75%, 98%); opacity:1.0;                     line-height:1.75\"><font color=\"black\"> they                    </font></mark><mark style=\"background-color: hsl(120, 75%, 95%); opacity:1.0;                     line-height:1.75\"><font color=\"black\"> had                    </font></mark><mark style=\"background-color: hsl(120, 75%, 83%); opacity:1.0;                     line-height:1.75\"><font color=\"black\"> friendly                    </font></mark><mark style=\"background-color: hsl(0, 75%, 95%); opacity:1.0;                     line-height:1.75\"><font color=\"black\"> waiter                    </font></mark><mark style=\"background-color: hsl(120, 75%, 98%); opacity:1.0;                     line-height:1.75\"><font color=\"black\"> ##s                    </font></mark><mark style=\"background-color: hsl(120, 75%, 97%); opacity:1.0;                     line-height:1.75\"><font color=\"black\"> and                    </font></mark><mark style=\"background-color: hsl(0, 75%, 96%); opacity:1.0;                     line-height:1.75\"><font color=\"black\"> delicious                    </font></mark><mark style=\"background-color: hsl(0, 75%, 95%); opacity:1.0;                     line-height:1.75\"><font color=\"black\"> pasta                    </font></mark><mark style=\"background-color: hsl(0, 75%, 96%); opacity:1.0;                     line-height:1.75\"><font color=\"black\"> [SEP]                    </font></mark></td><tr></table>"
      ],
      "text/plain": [
       "<IPython.core.display.HTML object>"
      ]
     },
     "metadata": {},
     "output_type": "display_data"
    }
   ],
   "source": [
    "CONTROL = True\n",
    "_ = random.seed(seed)\n",
    "_ = np.random.seed(seed)\n",
    "_ = torch.manual_seed(seed)\n",
    "hf_ig_analyses(\n",
    "    example_sentences, labels, explainer.tokenizer, \n",
    "    explainer.blackbox_model\n",
    ")"
   ]
  }
 ],
 "metadata": {
  "kernelspec": {
   "display_name": "Python 3",
   "language": "python",
   "name": "python3"
  },
  "language_info": {
   "codemirror_mode": {
    "name": "ipython",
    "version": 3
   },
   "file_extension": ".py",
   "mimetype": "text/x-python",
   "name": "python",
   "nbconvert_exporter": "python",
   "pygments_lexer": "ipython3",
   "version": "3.7.6"
  },
  "vscode": {
   "interpreter": {
    "hash": "4eadbeb4763107051c423ffe9ee9ffcb0adb376f6d3c57fb486fb39aa2d1a822"
   }
  }
 },
 "nbformat": 4,
 "nbformat_minor": 4
}
