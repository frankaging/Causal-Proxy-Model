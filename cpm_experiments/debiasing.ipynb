{
 "cells": [
  {
   "cell_type": "markdown",
   "metadata": {},
   "source": [
    "### Debiasing CPM with CEBaB\n",
    "Our Causal Proxy Model (CPM) has localized information about different concepts. The overall debiasing effort in CPM is letting the model to predict the output as if the concept that gets to be debiased is not presented in the text (i.e., the concept label is ``unknown``).\n",
    "\n",
    "In this document, we show that CPM can be integrated as a method to produce debiased model with respect to targeted concept. This document is just one example of how we can use CPM to produce debiased outputs. In the paper, we also discuss how the iCACE score relates to this debiased results.\n",
    "\n",
    "In this notebook, we will evaluate the following models:\n",
    "- CPM: `BERT-base-uncased`\n",
    "\n",
    "and we will evaluate with the following conditions:\n",
    "- 5-class"
   ]
  },
  {
   "cell_type": "markdown",
   "metadata": {},
   "source": [
    "#### Imports and Libs"
   ]
  },
  {
   "cell_type": "code",
   "execution_count": 1,
   "metadata": {},
   "outputs": [],
   "source": [
    "from libs import *\n",
    "\"\"\"\n",
    "For evaluate, we use a single random seed, as\n",
    "the models are trained with 5 different seeds\n",
    "already.\n",
    "\"\"\"\n",
    "_ = random.seed(123)\n",
    "_ = np.random.seed(123)\n",
    "_ = torch.manual_seed(123)"
   ]
  },
  {
   "cell_type": "code",
   "execution_count": 2,
   "metadata": {},
   "outputs": [],
   "source": [
    "\"\"\"\n",
    "This is another interface for defining CPM.\n",
    "We later found that there is essentially no\n",
    "different between this static way versus sampling\n",
    "on-the-fly for CPM model evaluation. We use\n",
    "this interface for debiasing as it is easier to\n",
    "run experiments with.\n",
    "\"\"\"\n",
    "class StaticCausalProxyModelForBERT(Explainer):\n",
    "    def __init__(\n",
    "        self, \n",
    "        blackbox_model_path,\n",
    "        cpm_model_path, \n",
    "        device, batch_size, \n",
    "        intervention_h_dim=1,\n",
    "        min_iit_pair_examples=1,\n",
    "        match_non_int_type=False,\n",
    "        cache_dir=\"../../huggingface_cache\"\n",
    "    ):\n",
    "        self.batch_size = batch_size\n",
    "        self.device = device\n",
    "        self.min_iit_pair_examples = min_iit_pair_examples\n",
    "        self.match_non_int_type = match_non_int_type\n",
    "        self.intervention_h_dim = intervention_h_dim\n",
    "        # blackbox model loading.\n",
    "        self.blackbox_model = BertForNonlinearSequenceClassification.from_pretrained(\n",
    "            blackbox_model_path,\n",
    "            cache_dir=cache_dir\n",
    "        )\n",
    "        self.blackbox_model.to(device)\n",
    "        \n",
    "        # causal proxy model loading.\n",
    "        cpm_config = AutoConfig.from_pretrained(\n",
    "            cpm_model_path,\n",
    "            cache_dir=cache_dir,\n",
    "            use_auth_token=True if \"CEBaB/\" in cpm_model_path else False,\n",
    "        )\n",
    "        try:\n",
    "            cpm_config.intervention_h_dim = cpm_config.intervention_h_dim\n",
    "        except:\n",
    "            cpm_config.intervention_h_dim = intervention_h_dim\n",
    "        print(f\"intervention_h_dim={cpm_config.intervention_h_dim}\")\n",
    "        cpm_model = IITBERTForSequenceClassification.from_pretrained(\n",
    "            cpm_model_path,\n",
    "            config=cpm_config,\n",
    "            cache_dir=cache_dir,\n",
    "        )\n",
    "        cpm_model.to(device)\n",
    "        self.cpm_model = InterventionableIITTransformerForSequenceClassification(\n",
    "            model=cpm_model\n",
    "        )\n",
    "        \n",
    "        self.tokenizer = AutoTokenizer.from_pretrained(\"bert-base-uncased\")\n",
    "        \n",
    "        self.clean()\n",
    "        \n",
    "    def clean(self):\n",
    "        self.hidden_repr_static_pool = {}\n",
    "        for concept in [\"ambiance\", \"food\", \"noise\", \"service\"]:\n",
    "            for concept_label in [\"Positive\", \"Negative\", \"unknown\"]:\n",
    "                self.hidden_repr_static_pool[(concept, concept_label)] = []\n",
    "        \n",
    "    def fit(self, \n",
    "            dataset, classifier_predictions, \n",
    "            classifier, dev_dataset=None,\n",
    "            reduce=False, control=False,\n",
    "           ):\n",
    "        \"\"\"\n",
    "        For static CPM model, we need to extract the hidden representations for\n",
    "        concepts before estimating iCACE scores.\n",
    "        \"\"\"\n",
    "        self.blackbox_model.eval()\n",
    "        self.cpm_model.model.eval()\n",
    "\n",
    "        x, y, ambiance_label, food_label, noise_label, service_labal = self.preprocess(dataset)\n",
    "\n",
    "        # get the predictions batch per batch\n",
    "        cls_hidden_states = []\n",
    "        for i in range(ceil(len(dataset) / self.batch_size)):\n",
    "            x_batch = {k: v[i * self.batch_size:(i + 1) * self.batch_size].to(self.device) for k, v in x.items()}\n",
    "            if control:\n",
    "                cls_hidden_state = self.blackbox_model(\n",
    "                    **x_batch,\n",
    "                    output_hidden_states=True,\n",
    "                ).hidden_states[-1][:,0,:].cpu().detach()\n",
    "            else:\n",
    "                cls_hidden_state = self.cpm_model.model(\n",
    "                    **x_batch,\n",
    "                    output_hidden_states=True,\n",
    "                ).hidden_states[-1][:,0,:].cpu().detach()\n",
    "            cls_hidden_states.append(cls_hidden_state)\n",
    "\n",
    "        cls_hidden_states = torch.concat(cls_hidden_states)\n",
    "        \n",
    "        for i in range(0, len(ambiance_label)): \n",
    "            if (\"ambiance\", ambiance_label.iloc[i]) in self.hidden_repr_static_pool:\n",
    "                start_idx = 0*self.intervention_h_dim\n",
    "                end_idx = 1*self.intervention_h_dim\n",
    "                self.hidden_repr_static_pool[(\"ambiance\", ambiance_label.iloc[i])].append(\n",
    "                    cls_hidden_states[i][start_idx:end_idx]\n",
    "                )\n",
    "            \n",
    "            if (\"food\", food_label.iloc[i]) in self.hidden_repr_static_pool:\n",
    "                start_idx = 1*self.intervention_h_dim\n",
    "                end_idx = 2*self.intervention_h_dim\n",
    "                self.hidden_repr_static_pool[(\"food\", food_label.iloc[i])].append(\n",
    "                    cls_hidden_states[i][start_idx:end_idx]\n",
    "                )\n",
    "                \n",
    "            if (\"noise\", noise_label.iloc[i]) in self.hidden_repr_static_pool:\n",
    "                start_idx = 2*self.intervention_h_dim\n",
    "                end_idx = 3*self.intervention_h_dim\n",
    "                self.hidden_repr_static_pool[(\"noise\", noise_label.iloc[i])].append(\n",
    "                    cls_hidden_states[i][start_idx:end_idx]\n",
    "                )\n",
    "                \n",
    "            if (\"service\", service_labal.iloc[i]) in self.hidden_repr_static_pool:\n",
    "                start_idx = 3*self.intervention_h_dim\n",
    "                end_idx = 4*self.intervention_h_dim\n",
    "                self.hidden_repr_static_pool[(\"service\", service_labal.iloc[i])].append(\n",
    "                    cls_hidden_states[i][start_idx:end_idx]\n",
    "                )\n",
    "\n",
    "        if reduce:\n",
    "            for k, v in self.hidden_repr_static_pool.items():\n",
    "                self.hidden_repr_static_pool[k] = torch.stack(v, dim=0).mean(dim=0)\n",
    "        else:\n",
    "            for k, v in self.hidden_repr_static_pool.items():\n",
    "                self.hidden_repr_static_pool[k] = torch.stack(v, dim=0)\n",
    "            \n",
    "    def preprocess(self, df):\n",
    "        x = self.tokenizer(df['description'].to_list(), padding=True, truncation=True, return_tensors='pt')\n",
    "        y = df['review_majority'].astype(int)\n",
    "\n",
    "        all_type = {\n",
    "            \"ambiance\", \"food\", \"noise\", \"service\"\n",
    "        }\n",
    "        return x, y, \\\n",
    "            df['ambiance_aspect_majority'], \\\n",
    "            df['food_aspect_majority'], \\\n",
    "            df['noise_aspect_majority'], \\\n",
    "            df['service_aspect_majority']\n",
    "    \n",
    "    def preprocess_icace(self, pairs_dataset):\n",
    "        \n",
    "        # configs\n",
    "        iit_pairs_dataset = []\n",
    "        iit_id = 0\n",
    "        for index, row in pairs_dataset.iterrows():\n",
    "            query_description_base = row['description_base']\n",
    "            query_int_type = row['intervention_type']\n",
    "            query_int_aspect_base = row[\"intervention_aspect_base\"]\n",
    "            query_int_aspect_assignment = row['intervention_aspect_counterfactual']\n",
    "            query_original_id = row[\"original_id_base\"]\n",
    "            iit_pairs_dataset += [[\n",
    "                iit_id,\n",
    "                query_int_type,\n",
    "                query_description_base, \n",
    "                query_int_aspect_base,\n",
    "                query_int_aspect_assignment\n",
    "            ]]\n",
    "            iit_id += 1\n",
    "        iit_pairs_dataset = pd.DataFrame(\n",
    "            columns=[\n",
    "                'iit_id',\n",
    "                'intervention_type', \n",
    "                'description_base', \n",
    "                'intervention_aspect_base',\n",
    "                'intervention_aspect_counterfactual'], \n",
    "            data=iit_pairs_dataset\n",
    "        )\n",
    "        \n",
    "        base_x = self.tokenizer(\n",
    "            iit_pairs_dataset['description_base'].to_list(), \n",
    "            padding=True, truncation=True, return_tensors='pt'\n",
    "        )\n",
    "\n",
    "        intervention_corr = []\n",
    "        source_x = []\n",
    "        for i in range(len(iit_pairs_dataset[\"intervention_type\"])):\n",
    "            _type = iit_pairs_dataset[\"intervention_type\"].iloc[i]\n",
    "            _base_label = iit_pairs_dataset[\"intervention_aspect_base\"].iloc[i]\n",
    "            _label = iit_pairs_dataset[\"intervention_aspect_counterfactual\"].iloc[i]\n",
    "            if _type == \"ambiance\":\n",
    "                intervention_corr += [0]\n",
    "            if _type == \"food\":\n",
    "                intervention_corr += [1]\n",
    "            if _type == \"noise\":\n",
    "                intervention_corr += [2]\n",
    "            if _type == \"service\":\n",
    "                intervention_corr += [3]\n",
    "                \n",
    "            \"\"\"\n",
    "            UNCOMMENT TO TRY:\n",
    "            \n",
    "            Just to try out if we actually care about the difference.\n",
    "            This will need some modifications on the modeling files as well\n",
    "            to consume this as a delta, not activation replacement.\n",
    "            \"\"\"\n",
    "            # source_x += [\n",
    "            #     self.hidden_repr_static_pool[(_type, _label)] - \\\n",
    "            #         self.hidden_repr_static_pool[(_type, _base_label)]\n",
    "            # ]\n",
    "            \n",
    "            hidden_repr_static_pool = self.hidden_repr_static_pool[(_type, _label)]\n",
    "            hidden_repr_static_sampled = hidden_repr_static_pool[random.randrange(hidden_repr_static_pool.shape[0])]\n",
    "            source_x += [hidden_repr_static_sampled]\n",
    "            \n",
    "        source_x = torch.stack(source_x, dim=0)\n",
    "        intervention_corr = torch.tensor(intervention_corr).long()\n",
    "        return base_x, source_x, intervention_corr, iit_pairs_dataset\n",
    "    \n",
    "    def estimate_icace(self, pairs):\n",
    "        \n",
    "        CPM_iTEs = []\n",
    "        self.blackbox_model.eval()\n",
    "        self.cpm_model.model.eval()\n",
    "        base_x, source_x, intervention_corr, iit_pairs_dataset = self.preprocess_icace(\n",
    "            pairs,\n",
    "        )\n",
    "        with torch.no_grad():\n",
    "            for i in tqdm(range(ceil(len(iit_pairs_dataset)/self.batch_size))):\n",
    "                base_x_batch = {k:v[i*self.batch_size:(i+1)*self.batch_size].to(self.device) for k,v in base_x.items()} \n",
    "                source_x_batch = source_x[i*self.batch_size:(i+1)*self.batch_size].to(self.device)\n",
    "                intervention_corr_batch = intervention_corr[i*self.batch_size:(i+1)*self.batch_size].to(self.device)\n",
    "                \n",
    "                base_outputs = torch.nn.functional.softmax(\n",
    "                    self.blackbox_model(**base_x_batch).logits.cpu(), dim=-1\n",
    "                ).detach()\n",
    "                _, _, counterfactual_outputs = self.cpm_model.forward_with_hook(\n",
    "                    base=(base_x_batch['input_ids'], base_x_batch['attention_mask']),\n",
    "                    source_hidden_reprs=source_x_batch,\n",
    "                    base_intervention_corr=intervention_corr_batch,\n",
    "                    source_intervention_corr=intervention_corr_batch,\n",
    "                )\n",
    "                counterfactual_outputs = torch.nn.functional.softmax(\n",
    "                    counterfactual_outputs[\"logits\"][0].cpu(), dim=-1\n",
    "                ).detach()\n",
    "                CPM_iTE = counterfactual_outputs-base_outputs\n",
    "                CPM_iTEs.append(CPM_iTE)\n",
    "        CPM_iTEs = torch.concat(CPM_iTEs)\n",
    "        CPM_iTEs = np.round(CPM_iTEs.numpy(), decimals=4)\n",
    "\n",
    "        # only for iit explainer!\n",
    "        iit_pairs_dataset[\"EiCaCE\"] = list(CPM_iTEs)\n",
    "        CPM_iTEs = list(iit_pairs_dataset.groupby([\"iit_id\"])[\"EiCaCE\"].mean())\n",
    "        \n",
    "        return CPM_iTEs\n",
    "    "
   ]
  },
  {
   "cell_type": "code",
   "execution_count": 3,
   "metadata": {},
   "outputs": [
    {
     "name": "stderr",
     "output_type": "stream",
     "text": [
      "Using custom data configuration CEBaB--CEBaB-0e2f7ed67c9d7e55\n"
     ]
    },
    {
     "name": "stdout",
     "output_type": "stream",
     "text": [
      "Downloading and preparing dataset None/None (download: 2.07 MiB, generated: 16.43 MiB, post-processed: Unknown size, total: 18.51 MiB) to ../../huggingface_cache/CEBaB___parquet/CEBaB--CEBaB-0e2f7ed67c9d7e55/0.0.0/7328ef7ee03eaf3f86ae40594d46a1cec86161704e02dd19f232d81eee72ade8...\n"
     ]
    },
    {
     "data": {
      "application/vnd.jupyter.widget-view+json": {
       "model_id": "9d3d69f642f74e1088a5f53ea6c80ba5",
       "version_major": 2,
       "version_minor": 0
      },
      "text/plain": [
       "Downloading data files:   0%|          | 0/4 [00:00<?, ?it/s]"
      ]
     },
     "metadata": {},
     "output_type": "display_data"
    },
    {
     "data": {
      "application/vnd.jupyter.widget-view+json": {
       "model_id": "be9c2b73ed654e10862b51ebfc636204",
       "version_major": 2,
       "version_minor": 0
      },
      "text/plain": [
       "Downloading data:   0%|          | 0.00/204k [00:00<?, ?B/s]"
      ]
     },
     "metadata": {},
     "output_type": "display_data"
    },
    {
     "data": {
      "application/vnd.jupyter.widget-view+json": {
       "model_id": "53041b93f91247ddb9b8a382da370a87",
       "version_major": 2,
       "version_minor": 0
      },
      "text/plain": [
       "Downloading data:   0%|          | 0.00/205k [00:00<?, ?B/s]"
      ]
     },
     "metadata": {},
     "output_type": "display_data"
    },
    {
     "data": {
      "application/vnd.jupyter.widget-view+json": {
       "model_id": "6679285c01a2457bbf94930297d3de62",
       "version_major": 2,
       "version_minor": 0
      },
      "text/plain": [
       "Extracting data files:   0%|          | 0/4 [00:00<?, ?it/s]"
      ]
     },
     "metadata": {},
     "output_type": "display_data"
    },
    {
     "data": {
      "application/vnd.jupyter.widget-view+json": {
       "model_id": "",
       "version_major": 2,
       "version_minor": 0
      },
      "text/plain": [
       "0 tables [00:00, ? tables/s]"
      ]
     },
     "metadata": {},
     "output_type": "display_data"
    },
    {
     "data": {
      "application/vnd.jupyter.widget-view+json": {
       "model_id": "",
       "version_major": 2,
       "version_minor": 0
      },
      "text/plain": [
       "0 tables [00:00, ? tables/s]"
      ]
     },
     "metadata": {},
     "output_type": "display_data"
    },
    {
     "data": {
      "application/vnd.jupyter.widget-view+json": {
       "model_id": "",
       "version_major": 2,
       "version_minor": 0
      },
      "text/plain": [
       "0 tables [00:00, ? tables/s]"
      ]
     },
     "metadata": {},
     "output_type": "display_data"
    },
    {
     "data": {
      "application/vnd.jupyter.widget-view+json": {
       "model_id": "",
       "version_major": 2,
       "version_minor": 0
      },
      "text/plain": [
       "0 tables [00:00, ? tables/s]"
      ]
     },
     "metadata": {},
     "output_type": "display_data"
    },
    {
     "name": "stdout",
     "output_type": "stream",
     "text": [
      "Dataset parquet downloaded and prepared to ../../huggingface_cache/CEBaB___parquet/CEBaB--CEBaB-0e2f7ed67c9d7e55/0.0.0/7328ef7ee03eaf3f86ae40594d46a1cec86161704e02dd19f232d81eee72ade8. Subsequent calls will reuse this data.\n"
     ]
    },
    {
     "data": {
      "application/vnd.jupyter.widget-view+json": {
       "model_id": "acf01e5b14a24c119c2a35baec88abaf",
       "version_major": 2,
       "version_minor": 0
      },
      "text/plain": [
       "  0%|          | 0/4 [00:00<?, ?it/s]"
      ]
     },
     "metadata": {},
     "output_type": "display_data"
    },
    {
     "name": "stdout",
     "output_type": "stream",
     "text": [
      "Dropping no majority reviews: 16.6382% of train dataset.\n"
     ]
    }
   ],
   "source": [
    "seed=42\n",
    "class_num=5\n",
    "beta=1.0\n",
    "gemma=3.0\n",
    "h_dim=192\n",
    "dataset_type = f'{class_num}-way'\n",
    "correction_epsilon=None\n",
    "cls_dropout=0.1\n",
    "enc_dropout=0.1\n",
    "control=False\n",
    "model_arch=\"bert-base-uncased\"\n",
    "if model_arch == \"bert-base-uncased\":\n",
    "    model_path = \"BERT-control-results\" if control else \"BERT-results\"\n",
    "elif model_arch == \"roberta-base\":\n",
    "    model_path = \"RoBERTa-control-results\" if control else \"RoBERTa-results\"\n",
    "elif model_arch == \"gpt2\":\n",
    "    model_path = \"gpt2-control-results\" if control else \"gpt2-results\"\n",
    "elif model_arch == \"lstm\":\n",
    "    model_path = \"lstm-control-results\" if control else \"lstm-results\"\n",
    "    \n",
    "device='cuda:9'\n",
    "batch_size=32\n",
    "    \n",
    "blackbox_model_path = f'CEBaB/{model_arch}.CEBaB.sa.{class_num}-class.exclusive.seed_{seed}'\n",
    "if control:\n",
    "    cpm_model_path = blackbox_model_path\n",
    "else:\n",
    "    cpm_model_path = f'../proxy_training_results/{model_path}/'\\\n",
    "                       f'cebab.train.train.alpha.1.0'\\\n",
    "                       f'.beta.{beta}.gemma.{gemma}.dim.{h_dim}.hightype.'\\\n",
    "                       f'{model_arch}.Proxy.'\\\n",
    "                       f'CEBaB.sa.{class_num}-class.exclusive.'\\\n",
    "                       f'mode.align.cls.dropout.{cls_dropout}.enc.dropout.{enc_dropout}.seed_{seed}'\n",
    "\n",
    "# load data from HF\n",
    "cebab = datasets.load_dataset(\n",
    "    'CEBaB/CEBaB', use_auth_token=True,\n",
    "    cache_dir=\"../../huggingface_cache/\"\n",
    ")\n",
    "train, dev, test = preprocess_hf_dataset(\n",
    "    cebab, one_example_per_world=True, \n",
    "    verbose=1, dataset_type=dataset_type\n",
    ")\n",
    "\n",
    "train_dataset = train.copy()\n",
    "dev_dataset = test.copy()"
   ]
  },
  {
   "cell_type": "code",
   "execution_count": 4,
   "metadata": {},
   "outputs": [
    {
     "name": "stdout",
     "output_type": "stream",
     "text": [
      "intervention_h_dim=192\n"
     ]
    },
    {
     "name": "stderr",
     "output_type": "stream",
     "text": [
      "Some weights of IITBERTForSequenceClassification were not initialized from the model checkpoint at CEBaB/bert-base-uncased.CEBaB.sa.5-class.exclusive.seed_42 and are newly initialized: ['multitask_classifier.out_proj.weight', 'multitask_classifier.out_proj.bias', 'multitask_classifier.dense.bias', 'multitask_classifier.dense.weight']\n",
      "You should probably TRAIN this model on a down-stream task to be able to use it for predictions and inference.\n"
     ]
    },
    {
     "name": "stdout",
     "output_type": "stream",
     "text": [
      "intervention_h_dim=192\n"
     ]
    }
   ],
   "source": [
    "# loading for control\n",
    "cpm_control_explainer = StaticCausalProxyModelForBERT(\n",
    "    blackbox_model_path,\n",
    "    blackbox_model_path, \n",
    "    device=device, \n",
    "    batch_size=batch_size,\n",
    "    intervention_h_dim=h_dim,\n",
    ")\n",
    "cpm_control_explainer.clean()\n",
    "cpm_control_explainer.fit(\n",
    "    train_dataset, \n",
    "    None, None, None,\n",
    "    reduce=False, control=True,\n",
    ")\n",
    "\n",
    "# loading for cpm (same way but different usages)\n",
    "cpm_explainer = StaticCausalProxyModelForBERT(\n",
    "    blackbox_model_path,\n",
    "    cpm_model_path, \n",
    "    device=device, \n",
    "    batch_size=batch_size,\n",
    "    intervention_h_dim=h_dim,\n",
    ")\n",
    "cpm_explainer.clean()\n",
    "cpm_explainer.fit(\n",
    "    train_dataset, \n",
    "    None, None, None,\n",
    "    reduce=False, control=False,\n",
    ")"
   ]
  },
  {
   "cell_type": "code",
   "execution_count": 19,
   "metadata": {},
   "outputs": [],
   "source": [
    "decorrelate_concept = \"food\" # TODO: integrate this, make it as a function!\n",
    "\n",
    "correlate_results = []\n",
    "decorrelate_results = []\n",
    "control_results = []\n",
    "for index, row in dev_dataset.iterrows():\n",
    "    ambiance = row['ambiance_aspect_majority']\n",
    "    food = row['food_aspect_majority']\n",
    "    noise = row['noise_aspect_majority']\n",
    "    service = row['service_aspect_majority']\n",
    "    description = row['description']\n",
    "\n",
    "    cpm_control_explainer.blackbox_model.eval()\n",
    "    cpm_control_explainer.cpm_model.model.eval()\n",
    "    cpm_explainer.blackbox_model.eval()\n",
    "    cpm_explainer.cpm_model.model.eval()\n",
    "    \n",
    "    # Original ratings.\n",
    "    x = cpm_explainer.tokenizer([description], padding=True, truncation=True, return_tensors='pt')\n",
    "    x_batch = {k: v.to(cpm_explainer.device) for k, v in x.items()}\n",
    "    outputs = cpm_explainer.cpm_model.model(\n",
    "        **x_batch,\n",
    "        output_hidden_states=True,\n",
    "    )\n",
    "    output_logit = torch.nn.functional.softmax(\n",
    "        outputs.logits[0].cpu(), dim=-1\n",
    "    ).detach()[0]\n",
    "    vp_class_prob = output_logit[-1].tolist()\n",
    "    correlate_results += [(ambiance, food, noise, service, vp_class_prob)]\n",
    "    \n",
    "    if decorrelate_concept == \"ambiance\":\n",
    "        intervention_corr = 0\n",
    "    if decorrelate_concept == \"food\":\n",
    "        intervention_corr = 1\n",
    "    if decorrelate_concept == \"noise\":\n",
    "        intervention_corr = 2\n",
    "    if decorrelate_concept == \"service\":\n",
    "        intervention_corr = 3\n",
    "    \n",
    "    # Decorrelate ratings.\n",
    "    cls_hidden_state = outputs.hidden_states[-1][:,0,:]\n",
    "    hidden_repr_static_pool = {}\n",
    "    for k, v in cpm_explainer.hidden_repr_static_pool.items():\n",
    "        # this is to take the mean, can we do better?\n",
    "        idx = random.randrange(v.shape[0])\n",
    "        vv = v[idx].to(cpm_explainer.device)\n",
    "        hidden_repr_static_pool[k] = vv\n",
    "    start_idx = intervention_corr*cpm_explainer.intervention_h_dim\n",
    "    end_idx = (intervention_corr+1)*cpm_explainer.intervention_h_dim\n",
    "    cls_hidden_state[:, start_idx:end_idx] = hidden_repr_static_pool[(decorrelate_concept, \"unknown\")]\n",
    "    intervened_outputs, _, _ = cpm_explainer.cpm_model.forward_with_cls_hidden_reprs(\n",
    "        cls_hidden_reprs=cls_hidden_state.unsqueeze(dim=1)\n",
    "    )\n",
    "    intervened_outputs_logits = torch.nn.functional.softmax(\n",
    "        intervened_outputs.logits[0].cpu(), dim=-1\n",
    "    ).detach()[0]\n",
    "    intervened_vp_class_prob = intervened_outputs_logits[-1].tolist()\n",
    "    decorrelate_results += [(ambiance, food, noise, service, intervened_vp_class_prob)]\n",
    "    \n",
    "    # Control ratings. We need a better baseline!\n",
    "    control_outputs = cpm_control_explainer.cpm_model.model(\n",
    "        **x_batch,\n",
    "        output_hidden_states=True,\n",
    "    )\n",
    "    control_cls_hidden_state = control_outputs.hidden_states[-1][:,0,:]\n",
    "    control_hidden_repr_static_pool = {}\n",
    "    for k, v in cpm_control_explainer.hidden_repr_static_pool.items():\n",
    "        # this is to take the mean, can we do better?\n",
    "        idx = random.randrange(v.shape[0])\n",
    "        vv = v[idx].to(cpm_control_explainer.device)\n",
    "        control_hidden_repr_static_pool[k] = vv\n",
    "    start_idx = intervention_corr*cpm_control_explainer.intervention_h_dim\n",
    "    end_idx = (intervention_corr+1)*cpm_control_explainer.intervention_h_dim\n",
    "    control_cls_hidden_state[:, start_idx:end_idx] = control_hidden_repr_static_pool[(decorrelate_concept, \"unknown\")]\n",
    "    control_intervened_outputs, _, _ = cpm_control_explainer.cpm_model.forward_with_cls_hidden_reprs(\n",
    "        cls_hidden_reprs=control_cls_hidden_state.unsqueeze(dim=1)\n",
    "    )\n",
    "    control_intervened_outputs_logits = torch.nn.functional.softmax(\n",
    "        control_intervened_outputs.logits[0].cpu(), dim=-1\n",
    "    ).detach()[0]\n",
    "    control_intervened_vp_class_prob = control_intervened_outputs_logits[-1].tolist()\n",
    "    control_results += [(ambiance, food, noise, service, control_intervened_vp_class_prob)]"
   ]
  },
  {
   "cell_type": "code",
   "execution_count": 60,
   "metadata": {},
   "outputs": [],
   "source": [
    "def group_logits(\n",
    "    correlate_results,\n",
    "    concept_idx,\n",
    "):\n",
    "    group_results = {\n",
    "        \"Negative\" : [],\n",
    "        \"unknown\" : [],\n",
    "        \"Positive\" : [],\n",
    "    }\n",
    "    for i in range(len(correlate_results)):\n",
    "        if correlate_results[i][concept_idx] != \"\":\n",
    "            logit = correlate_results[i][-1]\n",
    "            group_results[correlate_results[i][concept_idx]].append(logit)\n",
    "    return group_results\n",
    "\n",
    "def subplot_func(ax, index, results, with_labels=False, with_title=False):\n",
    "    group_result = group_logits(results, index)\n",
    "    names = [\"ambiance\", \"food\", \"noise\", \"service\"]\n",
    "    ax.boxplot(\n",
    "        np.asarray([\n",
    "            group_result[\"Negative\"],\n",
    "            group_result[\"unknown\"],\n",
    "            group_result[\"Positive\"],\n",
    "        ], dtype=object), \n",
    "        labels=[\"neg\", \"unk\", \"pos\"]\n",
    "    )\n",
    "    line_x = []\n",
    "    linx_y = []\n",
    "    for l in group_result[\"Negative\"]:\n",
    "        line_x.append(1)\n",
    "        linx_y.append(l)\n",
    "    for l in group_result[\"unknown\"]:\n",
    "        line_x.append(2)\n",
    "        linx_y.append(l)\n",
    "    for l in group_result[\"Positive\"]:\n",
    "        line_x.append(3)\n",
    "        linx_y.append(l)\n",
    "    corr, _ = pearsonr(line_x, linx_y)\n",
    "    corr = round(corr, 2)\n",
    "    ax.plot(\n",
    "        np.unique(line_x), np.poly1d(\n",
    "            np.polyfit(line_x, linx_y, 1)\n",
    "        )(np.unique(line_x)),\n",
    "        linestyle='dashdot',\n",
    "        color='crimson',\n",
    "        alpha=0.8,\n",
    "        linewidth=1,\n",
    "        label=f\"corr={corr}\"\n",
    "    )\n",
    "    ax.legend(\n",
    "        loc=\"upper right\",\n",
    "        ncol=1, fancybox=True, shadow=True, fontsize=12,\n",
    "        facecolor=\"white\",\n",
    "    )\n",
    "    if with_title:\n",
    "        ax.set_title(names[index], fontsize=20)\n",
    "    if not with_labels:\n",
    "        ax.get_xaxis().set_ticks([])\n",
    "    else:\n",
    "        ax.xaxis.set_tick_params(labelsize=20)\n",
    "    \n",
    "    ax.spines[\"top\"].set_linewidth(2)\n",
    "    ax.spines[\"bottom\"].set_linewidth(2)\n",
    "    ax.spines[\"left\"].set_linewidth(2)\n",
    "    ax.spines[\"right\"].set_linewidth(2)\n",
    "    ax.spines[\"top\"].set_linewidth(2)\n",
    "    ax.spines[\"bottom\"].set_linewidth(2)\n",
    "    ax.spines[\"left\"].set_linewidth(2)\n",
    "    ax.spines[\"right\"].set_linewidth(2)\n",
    "    ax.xaxis.grid(color='grey', linestyle='-.', linewidth=1, alpha=0.5)\n",
    "    ax.yaxis.grid(color='grey', linestyle='-.', linewidth=1, alpha=0.5)\n",
    "\n",
    "    ax.set_facecolor(\"white\")\n",
    "\n",
    "    return ax"
   ]
  },
  {
   "cell_type": "code",
   "execution_count": 62,
   "metadata": {},
   "outputs": [
    {
     "data": {
      "image/png": "[encoded data removed]",
      "text/plain": [
       "<Figure size 864x432 with 12 Axes>"
      ]
     },
     "metadata": {},
     "output_type": "display_data"
    }
   ],
   "source": [
    "with plt.rc_context({'axes.edgecolor':'black', 'xtick.color':'black', 'ytick.color':'black', 'figure.facecolor':'white'}):\n",
    "    fig, axs = plt.subplots(3, 4, figsize=(12, 6))\n",
    "    # Blackbox model\n",
    "    for i in range(0, 4):\n",
    "        subplot_func(axs[0,i], i, correlate_results, with_title=True)\n",
    "        axs[0,0].set_ylabel(\"Finetune\", fontsize=18)\n",
    "        \n",
    "    # Control\n",
    "    for i in range(0, 4):\n",
    "        subplot_func(axs[1,i], i, control_results)\n",
    "        axs[1,0].set_ylabel(\"Fintune (Int.)\", fontsize=18)\n",
    "        \n",
    "    # CPM\n",
    "    for i in range(0, 4):\n",
    "        subplot_func(axs[2,i], i, decorrelate_results, with_labels=True)\n",
    "        axs[2,0].set_ylabel(\"CPM\", fontsize=18)\n",
    "    plt.savefig(\"./figures/debiasing.png\",dpi=200, bbox_inches='tight')\n",
    "        "
   ]
  },
  {
   "cell_type": "code",
   "execution_count": null,
   "metadata": {},
   "outputs": [],
   "source": []
  }
 ],
 "metadata": {
  "kernelspec": {
   "display_name": "Python 3",
   "language": "python",
   "name": "python3"
  },
  "language_info": {
   "codemirror_mode": {
    "name": "ipython",
    "version": 3
   },
   "file_extension": ".py",
   "mimetype": "text/x-python",
   "name": "python",
   "nbconvert_exporter": "python",
   "pygments_lexer": "ipython3",
   "version": "3.7.6"
  }
 },
 "nbformat": 4,
 "nbformat_minor": 4
}
