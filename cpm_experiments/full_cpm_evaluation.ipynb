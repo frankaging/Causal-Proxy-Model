{
 "cells": [
  {
   "cell_type": "markdown",
   "metadata": {},
   "source": [
    "### Full Evaluating CPM with CEBaB\n",
    "\n",
    "This note book is based on `cebab_evaluation.ipynb`. It takes all the saved results data from running that script, and aggregate portable results. This notebook is only for sorting saved results. Nothing more.\n"
   ]
  },
  {
   "cell_type": "code",
   "execution_count": null,
   "metadata": {},
   "outputs": [],
   "source": [
    "import pickle\n",
    "import pandas as pd"
   ]
  },
  {
   "cell_type": "code",
   "execution_count": null,
   "metadata": {},
   "outputs": [],
   "source": [
    "model_types = [\"BERT\", \"lstm\", \"RoBERTa\", \"gpt2\"]\n",
    "mega_results = {}\n",
    "for model in model_types:\n",
    "    with open(f'../proxy_training_results/{model}-results/results.pkl', 'rb') as f:\n",
    "        results_dict = pickle.load(f)\n",
    "    with open(f'../proxy_training_results/{model}-control-results/results.pkl', 'rb') as f:\n",
    "        control_results_dict = pickle.load(f)\n",
    "    for k, v in results_dict.items():\n",
    "        mega_results[k] = v\n",
    "    for k, v in control_results_dict.items():\n",
    "        mega_results[k] = v"
   ]
  },
  {
   "cell_type": "code",
   "execution_count": null,
   "metadata": {},
   "outputs": [],
   "source": [
    "important_keys = [\n",
    "    \"seed\", \"h_dim\", \"class_num\", \n",
    "    \"control\", \"beta\", \"gemma\", \n",
    "    \"cls_dropout\", \"enc_dropout\", \n",
    "    \"model_arch\"\n",
    "]\n",
    "values = []\n",
    "for k, v in mega_results.items():\n",
    "    _values = []\n",
    "    for ik in important_keys:\n",
    "        _values.append(dict(k)[ik])\n",
    "    _values.append(v[2][\"ICaCE-L2\"].iloc[0])\n",
    "    _values.append(v[2][\"ICaCE-cosine\"].iloc[0])\n",
    "    _values.append(v[2][\"ICaCE-normdiff\"].iloc[0])\n",
    "    _values.append(v[-1].iloc[0][0])\n",
    "    values.append(_values)\n",
    "important_keys.extend([\"ICaCE-L2\", \"ICaCE-cosine\", \"ICaCE-normdiff\", \"macro-f1\"])\n",
    "df = pd.DataFrame(values, columns=important_keys)\n",
    "df = df.sort_values(by=['class_num'], ascending=True)"
   ]
  },
  {
   "cell_type": "code",
   "execution_count": null,
   "metadata": {},
   "outputs": [],
   "source": [
    "group_keys= [\n",
    "    \"class_num\", \n",
    "    \"control\",\n",
    "    \"model_arch\"\n",
    "]\n",
    "df.groupby(group_keys)[[\"ICaCE-L2\", \"ICaCE-cosine\", \"ICaCE-normdiff\", \"macro-f1\"]].mean()"
   ]
  },
  {
   "cell_type": "code",
   "execution_count": null,
   "metadata": {},
   "outputs": [],
   "source": []
  }
 ],
 "metadata": {
  "kernelspec": {
   "display_name": "Python 3",
   "language": "python",
   "name": "python3"
  },
  "language_info": {
   "codemirror_mode": {
    "name": "ipython",
    "version": 3
   },
   "file_extension": ".py",
   "mimetype": "text/x-python",
   "name": "python",
   "nbconvert_exporter": "python",
   "pygments_lexer": "ipython3",
   "version": "3.7.6"
  }
 },
 "nbformat": 4,
 "nbformat_minor": 4
}
