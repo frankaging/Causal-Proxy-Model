{
 "cells": [
  {
   "cell_type": "markdown",
   "metadata": {},
   "source": [
    "### How will the interchanging hidden dimension size affect the results?\n",
    "Our Causal Proxy Model (CPM) defines the size of hidden representation for each concept. In this document, we select one type of the model and study the effect of interchanging hidden dimension sizes with respect to explanation performance.\n",
    "\n",
    "In this notebook, we will evaluate the following models:\n",
    "- CPM: `BERT-base-uncased`\n",
    "\n",
    "and we will evaluate with the following conditions:\n",
    "- 2-class\n",
    "- 3-class\n",
    "- 5-class"
   ]
  },
  {
   "cell_type": "code",
   "execution_count": null,
   "metadata": {},
   "outputs": [],
   "source": []
  }
 ],
 "metadata": {
  "kernelspec": {
   "display_name": "Python 3",
   "language": "python",
   "name": "python3"
  },
  "language_info": {
   "codemirror_mode": {
    "name": "ipython",
    "version": 3
   },
   "file_extension": ".py",
   "mimetype": "text/x-python",
   "name": "python",
   "nbconvert_exporter": "python",
   "pygments_lexer": "ipython3",
   "version": "3.7.6"
  }
 },
 "nbformat": 4,
 "nbformat_minor": 4
}
