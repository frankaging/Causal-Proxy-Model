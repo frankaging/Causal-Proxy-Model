{
 "cells": [
  {
   "cell_type": "code",
   "execution_count": 20,
   "metadata": {},
   "outputs": [],
   "source": [
    "from collections import Counter\n",
    "from nltk import edit_distance\n",
    "import pandas as pd\n",
    "from sklearn.model_selection import train_test_split, ShuffleSplit, GroupShuffleSplit\n",
    "import datasets\n",
    "from datasets import Dataset, DatasetDict, load_dataset\n",
    "from functools import reduce\n",
    "import numpy as np\n",
    "\n",
    "import json\n",
    "import os \n",
    "import pandas as pd\n",
    "from collections import defaultdict\n",
    "import numpy as np\n",
    "\n",
    "def process_df(\n",
    "    df_in,\n",
    "    aspect_label_encode={\n",
    "        \"Negative\":0,\n",
    "        \"Positive\":1,\n",
    "        \"unknown\":2,\n",
    "        \"no majority\": 2,\n",
    "    },\n",
    "    sequence_label_encode=None\n",
    "):\n",
    "    df = df_in.copy()\n",
    "    columns_to_keep = [\n",
    "        'id', 'original_id', 'edit_id', 'is_original', \n",
    "        'description', 'review_majority',\n",
    "        'food_aspect_majority', 'ambiance_aspect_majority', \n",
    "        'service_aspect_majority', 'noise_aspect_majority'\n",
    "    ]\n",
    "    columns_to_keep += [col for col in df.columns if 'prediction' in col]\n",
    "    df = df[df[\"review_majority\"]!=\"no majority\"]\n",
    "    df = df[columns_to_keep].rename(\n",
    "        columns={\n",
    "            'description': 'text', \n",
    "            'review_majority': 'label',\n",
    "            'food_aspect_majority': 'food_label',\n",
    "            'ambiance_aspect_majority': 'ambiance_label',\n",
    "            'service_aspect_majority': 'service_label',\n",
    "            'noise_aspect_majority': 'noise_label'\n",
    "        }\n",
    "    )\n",
    "    df = df.replace(\"\", -1).replace(\n",
    "        {\n",
    "            \"label\": sequence_label_encode, \n",
    "            \"food_label\": aspect_label_encode,\n",
    "            \"ambiance_label\": aspect_label_encode,\n",
    "            \"service_label\": aspect_label_encode,\n",
    "            \"noise_label\": aspect_label_encode\n",
    "        }\n",
    "    )\n",
    "    df = df[df[\"label\"]!=-1]\n",
    "    \n",
    "    return df"
   ]
  },
  {
   "cell_type": "code",
   "execution_count": 2,
   "metadata": {},
   "outputs": [
    {
     "name": "stderr",
     "output_type": "stream",
     "text": [
      "Using custom data configuration CEBaB--CEBaB-0e2f7ed67c9d7e55\n",
      "Reusing dataset parquet (./train_cache/CEBaB___parquet/CEBaB--CEBaB-0e2f7ed67c9d7e55/0.0.0/7328ef7ee03eaf3f86ae40594d46a1cec86161704e02dd19f232d81eee72ade8)\n"
     ]
    },
    {
     "data": {
      "application/vnd.jupyter.widget-view+json": {
       "model_id": "0c24509fd84042919ecc0aff6147b7d2",
       "version_major": 2,
       "version_minor": 0
      },
      "text/plain": [
       "  0%|          | 0/4 [00:00<?, ?it/s]"
      ]
     },
     "metadata": {},
     "output_type": "display_data"
    }
   ],
   "source": [
    "dataset = load_dataset(\n",
    "    \"CEBaB/CEBaB\", use_auth_token=True,\n",
    "    cache_dir=\"./train_cache/\"\n",
    ")"
   ]
  },
  {
   "cell_type": "code",
   "execution_count": 41,
   "metadata": {},
   "outputs": [],
   "source": [
    "num_of_class = 5 # 2, 3, 5\n",
    "condition = \"inclusive\"\n",
    "\n",
    "if num_of_class == 2:\n",
    "    sequence_label_encode = {\n",
    "        \"5\": 1,\n",
    "        \"4\": 1,\n",
    "        \"3\": -1,\n",
    "        \"2\": 0,\n",
    "        \"1\": 0,\n",
    "        \"no majority\": -1, # will be dropped!\n",
    "    }\n",
    "elif num_of_class == 3:\n",
    "    sequence_label_encode = {\n",
    "        \"5\": 2,\n",
    "        \"4\": 2,\n",
    "        \"3\": 1,\n",
    "        \"2\": 0,\n",
    "        \"1\": 0,\n",
    "        \"no majority\": -1, # will be dropped!\n",
    "    }\n",
    "elif num_of_class == 5:\n",
    "    sequence_label_encode = {\n",
    "            \"5\": 4,\n",
    "            \"4\": 3,\n",
    "            \"3\": 2,\n",
    "            \"2\": 1,\n",
    "            \"1\": 0,\n",
    "            \"no majority\": -1, # will be dropped!\n",
    "        }"
   ]
  },
  {
   "cell_type": "code",
   "execution_count": 42,
   "metadata": {},
   "outputs": [],
   "source": [
    "train = dataset[f\"train_{condition}\"].to_pandas()\n",
    "dev = dataset[\"validation\"].to_pandas()\n",
    "test = dataset[\"test\"].to_pandas()"
   ]
  },
  {
   "cell_type": "code",
   "execution_count": 43,
   "metadata": {},
   "outputs": [],
   "source": [
    "post_train = Dataset.from_pandas(process_df(train, sequence_label_encode=sequence_label_encode))\n",
    "post_dev = Dataset.from_pandas(process_df(dev, sequence_label_encode=sequence_label_encode))\n",
    "post_test = Dataset.from_pandas(process_df(test, sequence_label_encode=sequence_label_encode))"
   ]
  },
  {
   "cell_type": "code",
   "execution_count": 44,
   "metadata": {},
   "outputs": [],
   "source": [
    "opentable_seq_cls_dataset = DatasetDict()\n",
    "opentable_seq_cls_dataset['train'] = post_train\n",
    "opentable_seq_cls_dataset['validation'] = post_dev\n",
    "opentable_seq_cls_dataset['test'] = post_test"
   ]
  },
  {
   "cell_type": "code",
   "execution_count": 45,
   "metadata": {},
   "outputs": [
    {
     "data": {
      "text/plain": [
       "DatasetDict({\n",
       "    train: Dataset({\n",
       "        features: ['id', 'original_id', 'edit_id', 'is_original', 'text', 'label', 'food_label', 'ambiance_label', 'service_label', 'noise_label', '__index_level_0__'],\n",
       "        num_rows: 9848\n",
       "    })\n",
       "    validation: Dataset({\n",
       "        features: ['id', 'original_id', 'edit_id', 'is_original', 'text', 'label', 'food_label', 'ambiance_label', 'service_label', 'noise_label', '__index_level_0__'],\n",
       "        num_rows: 1673\n",
       "    })\n",
       "    test: Dataset({\n",
       "        features: ['id', 'original_id', 'edit_id', 'is_original', 'text', 'label', 'food_label', 'ambiance_label', 'service_label', 'noise_label', '__index_level_0__'],\n",
       "        num_rows: 1689\n",
       "    })\n",
       "})"
      ]
     },
     "execution_count": 45,
     "metadata": {},
     "output_type": "execute_result"
    }
   ],
   "source": [
    "opentable_seq_cls_dataset"
   ]
  },
  {
   "cell_type": "code",
   "execution_count": 40,
   "metadata": {},
   "outputs": [],
   "source": [
    "opentable_seq_cls_dataset.save_to_disk(f\"./datasets/Proxy.CEBaB.sa.{num_of_class}-class.{condition}\")"
   ]
  }
 ],
 "metadata": {
  "kernelspec": {
   "display_name": "Python 3",
   "language": "python",
   "name": "python3"
  },
  "language_info": {
   "codemirror_mode": {
    "name": "ipython",
    "version": 3
   },
   "file_extension": ".py",
   "mimetype": "text/x-python",
   "name": "python",
   "nbconvert_exporter": "python",
   "pygments_lexer": "ipython3",
   "version": "3.7.6"
  }
 },
 "nbformat": 4,
 "nbformat_minor": 4
}
