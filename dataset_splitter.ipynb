{
 "cells": [
  {
   "cell_type": "code",
   "execution_count": 2,
   "metadata": {},
   "outputs": [
    {
     "name": "stderr",
     "output_type": "stream",
     "text": [
      "/afs/cs.stanford.edu/u/wuzhengx/.local/lib/python3.7/site-packages/requests/__init__.py:91: RequestsDependencyWarning: urllib3 (1.26.9) or chardet (3.0.4) doesn't match a supported version!\n",
      "  RequestsDependencyWarning)\n"
     ]
    }
   ],
   "source": [
    "from collections import Counter\n",
    "from nltk import edit_distance\n",
    "import pandas as pd\n",
    "from sklearn.model_selection import train_test_split, ShuffleSplit, GroupShuffleSplit\n",
    "import datasets\n",
    "from datasets import Dataset, DatasetDict\n",
    "from functools import reduce\n",
    "import numpy as np\n",
    "\n",
    "import json\n",
    "import os \n",
    "import pandas as pd\n",
    "from collections import defaultdict\n",
    "import numpy as np"
   ]
  },
  {
   "cell_type": "code",
   "execution_count": 3,
   "metadata": {},
   "outputs": [],
   "source": [
    "def load_split_new_scheme(splitname):\n",
    "    filename = os.path.join(\"../OpenTable/mturk/dataset\", f\"dataset-2022-05-09-{splitname}.json\")\n",
    "    with open(filename) as f:\n",
    "        data = json.load(f)\n",
    "    for d in data:\n",
    "        for k, v in d.items():\n",
    "            if isinstance(v, dict):\n",
    "                d[k] = json.dumps(v)\n",
    "    return data  "
   ]
  },
  {
   "cell_type": "code",
   "execution_count": 4,
   "metadata": {},
   "outputs": [],
   "source": [
    "train = pd.DataFrame(load_split_new_scheme(\"train\"))\n",
    "dev = pd.DataFrame(load_split_new_scheme(\"dev\"))\n",
    "test = pd.DataFrame(load_split_new_scheme(\"test\"))"
   ]
  },
  {
   "cell_type": "code",
   "execution_count": 5,
   "metadata": {},
   "outputs": [],
   "source": [
    "def process_df(\n",
    "    df_in,\n",
    "    aspect_label_encode={\n",
    "        \"Negative\":0,\n",
    "        \"Positive\":1,\n",
    "        \"unknown\":2,\n",
    "        \"no majority\": 2,\n",
    "    },\n",
    "    sequence_label_encode={\n",
    "        \"5\": 1,\n",
    "        \"4\": 1,\n",
    "        \"3\": -1,\n",
    "        \"2\": 0,\n",
    "        \"1\": 0,\n",
    "        \"no majority\": -1, # will be dropped!\n",
    "    },\n",
    "    \n",
    "):\n",
    "    df = df_in.copy()\n",
    "    columns_to_keep = [\n",
    "        'id', 'original_id', 'edit_id', 'is_original', \n",
    "        'description', 'review_majority',\n",
    "        'food_aspect_majority', 'ambiance_aspect_majority', \n",
    "        'service_aspect_majority', 'noise_aspect_majority'\n",
    "    ]\n",
    "    columns_to_keep += [col for col in df.columns if 'prediction' in col]\n",
    "    df = df[df[\"review_majority\"]!=\"no majority\"]\n",
    "    df = df[columns_to_keep].rename(\n",
    "        columns={\n",
    "            'description': 'text', \n",
    "            'review_majority': 'label',\n",
    "            'food_aspect_majority': 'food_label',\n",
    "            'ambiance_aspect_majority': 'ambiance_label',\n",
    "            'service_aspect_majority': 'service_label',\n",
    "            'noise_aspect_majority': 'noise_label'\n",
    "        }\n",
    "    )\n",
    "    df = df.replace(\"\", -1).replace(\n",
    "        {\n",
    "            \"label\": sequence_label_encode, \n",
    "            \"food_label\": aspect_label_encode,\n",
    "            \"ambiance_label\": aspect_label_encode,\n",
    "            \"service_label\": aspect_label_encode,\n",
    "            \"noise_label\": aspect_label_encode\n",
    "        }\n",
    "    )\n",
    "    df = df[df[\"label\"]!=-1]\n",
    "    \n",
    "    return df\n"
   ]
  },
  {
   "cell_type": "code",
   "execution_count": 6,
   "metadata": {},
   "outputs": [],
   "source": [
    "post_train = Dataset.from_pandas(process_df(train))\n",
    "post_dev = Dataset.from_pandas(process_df(dev))\n",
    "post_test = Dataset.from_pandas(process_df(test))"
   ]
  },
  {
   "cell_type": "code",
   "execution_count": 7,
   "metadata": {},
   "outputs": [],
   "source": [
    "opentable_seq_cls_dataset = DatasetDict()\n",
    "opentable_seq_cls_dataset['train'] = post_train\n",
    "opentable_seq_cls_dataset['validation'] = post_dev\n",
    "opentable_seq_cls_dataset['test'] = post_test"
   ]
  },
  {
   "cell_type": "code",
   "execution_count": 8,
   "metadata": {},
   "outputs": [
    {
     "data": {
      "text/plain": [
       "DatasetDict({\n",
       "    train: Dataset({\n",
       "        features: ['id', 'original_id', 'edit_id', 'is_original', 'text', 'label', 'food_label', 'ambiance_label', 'service_label', 'noise_label', '__index_level_0__'],\n",
       "        num_rows: 1072\n",
       "    })\n",
       "    validation: Dataset({\n",
       "        features: ['id', 'original_id', 'edit_id', 'is_original', 'text', 'label', 'food_label', 'ambiance_label', 'service_label', 'noise_label', '__index_level_0__'],\n",
       "        num_rows: 1221\n",
       "    })\n",
       "    test: Dataset({\n",
       "        features: ['id', 'original_id', 'edit_id', 'is_original', 'text', 'label', 'food_label', 'ambiance_label', 'service_label', 'noise_label', '__index_level_0__'],\n",
       "        num_rows: 1228\n",
       "    })\n",
       "})"
      ]
     },
     "execution_count": 8,
     "metadata": {},
     "output_type": "execute_result"
    }
   ],
   "source": [
    "opentable_seq_cls_dataset"
   ]
  },
  {
   "cell_type": "code",
   "execution_count": 10,
   "metadata": {},
   "outputs": [
    {
     "data": {
      "text/plain": [
       "{-1, 0, 1, 2}"
      ]
     },
     "execution_count": 10,
     "metadata": {},
     "output_type": "execute_result"
    }
   ],
   "source": [
    "set(opentable_seq_cls_dataset[\"train\"][\"food_label\"])"
   ]
  },
  {
   "cell_type": "code",
   "execution_count": 41,
   "metadata": {},
   "outputs": [],
   "source": [
    "opentable_seq_cls_dataset.save_to_disk(f\"./datasets/Proxy.CEBaB.sa.2-class.exclusive\")"
   ]
  }
 ],
 "metadata": {
  "kernelspec": {
   "display_name": "Python 3",
   "language": "python",
   "name": "python3"
  },
  "language_info": {
   "codemirror_mode": {
    "name": "ipython",
    "version": 3
   },
   "file_extension": ".py",
   "mimetype": "text/x-python",
   "name": "python",
   "nbconvert_exporter": "python",
   "pygments_lexer": "ipython3",
   "version": "3.7.6"
  }
 },
 "nbformat": 4,
 "nbformat_minor": 4
}
